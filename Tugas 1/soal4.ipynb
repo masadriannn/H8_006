{
 "cells": [
  {
   "cell_type": "markdown",
   "id": "f76e3293",
   "metadata": {},
   "source": [
    "Nomor 4 - Adrian Dwi Adinata"
   ]
  },
  {
   "cell_type": "markdown",
   "id": "2d56cbdf",
   "metadata": {},
   "source": [
    "a) Buatlah sebuah Series dengan menggunakan library Pandas!"
   ]
  },
  {
   "cell_type": "markdown",
   "id": "ac1fa433",
   "metadata": {},
   "source": [
    "b) Index pada Series tersebut berupa huruf lowercase dari a hingga z."
   ]
  },
  {
   "cell_type": "markdown",
   "id": "f6963b3c",
   "metadata": {},
   "source": [
    "c) Data dari tiap indexnya adalah nomor dari 1 hingga 26"
   ]
  },
  {
   "cell_type": "code",
   "execution_count": 5,
   "id": "a95418f1",
   "metadata": {},
   "outputs": [],
   "source": [
    "# Import pustaka numpy dan pandas terlebih dahulu\n",
    "\n",
    "import numpy as np\n",
    "import pandas as pd"
   ]
  },
  {
   "cell_type": "code",
   "execution_count": 2,
   "id": "44f7c456",
   "metadata": {},
   "outputs": [],
   "source": [
    "# Index pada Series tersebut berupa huruf lowercase dari a hingga z.\n",
    "index = ['a','b','c','d','e','f','g','h','i','j','k','l',\n",
    "         'm','n','o','p','q','r','s','t','u','v','w','x','y','z']\n",
    "\n",
    "# Data dari tiap indexnya adalah nomor dari 1 hingga 26\n",
    "data = np.arange(1,27)"
   ]
  },
  {
   "cell_type": "code",
   "execution_count": 3,
   "id": "5a27cd90",
   "metadata": {},
   "outputs": [
    {
     "data": {
      "text/plain": [
       "a     1\n",
       "b     2\n",
       "c     3\n",
       "d     4\n",
       "e     5\n",
       "f     6\n",
       "g     7\n",
       "h     8\n",
       "i     9\n",
       "j    10\n",
       "k    11\n",
       "l    12\n",
       "m    13\n",
       "n    14\n",
       "o    15\n",
       "p    16\n",
       "q    17\n",
       "r    18\n",
       "s    19\n",
       "t    20\n",
       "u    21\n",
       "v    22\n",
       "w    23\n",
       "x    24\n",
       "y    25\n",
       "z    26\n",
       "dtype: int32"
      ]
     },
     "execution_count": 3,
     "metadata": {},
     "output_type": "execute_result"
    }
   ],
   "source": [
    "pd.Series(data, index)"
   ]
  },
  {
   "cell_type": "code",
   "execution_count": 6,
   "id": "d3baeedf",
   "metadata": {},
   "outputs": [
    {
     "data": {
      "text/plain": [
       "a     1\n",
       "b     2\n",
       "c     3\n",
       "d     4\n",
       "e     5\n",
       "f     6\n",
       "g     7\n",
       "h     8\n",
       "i     9\n",
       "j    10\n",
       "k    11\n",
       "l    12\n",
       "m    13\n",
       "n    14\n",
       "o    15\n",
       "p    16\n",
       "q    17\n",
       "r    18\n",
       "s    19\n",
       "t    20\n",
       "u    21\n",
       "v    22\n",
       "w    23\n",
       "x    24\n",
       "y    25\n",
       "z    26\n",
       "dtype: int32"
      ]
     },
     "execution_count": 6,
     "metadata": {},
     "output_type": "execute_result"
    }
   ],
   "source": [
    "# Cara lain\n",
    "# buat sebuah series\n",
    "mylist = list('abcdefghijklmnopqrstuvwxyz')\n",
    "myarr = np.arange(1, 27)\n",
    "mydict = dict(zip(mylist, myarr))\n",
    "ser = pd.Series(mydict)\n",
    "ser"
   ]
  },
  {
   "cell_type": "code",
   "execution_count": null,
   "id": "0eebebe2",
   "metadata": {},
   "outputs": [],
   "source": []
  }
 ],
 "metadata": {
  "kernelspec": {
   "display_name": "Python 3 (ipykernel)",
   "language": "python",
   "name": "python3"
  },
  "language_info": {
   "codemirror_mode": {
    "name": "ipython",
    "version": 3
   },
   "file_extension": ".py",
   "mimetype": "text/x-python",
   "name": "python",
   "nbconvert_exporter": "python",
   "pygments_lexer": "ipython3",
   "version": "3.8.8"
  },
  "toc": {
   "base_numbering": 1,
   "nav_menu": {},
   "number_sections": true,
   "sideBar": true,
   "skip_h1_title": false,
   "title_cell": "Table of Contents",
   "title_sidebar": "Contents",
   "toc_cell": false,
   "toc_position": {},
   "toc_section_display": true,
   "toc_window_display": false
  },
  "varInspector": {
   "cols": {
    "lenName": 16,
    "lenType": 16,
    "lenVar": 40
   },
   "kernels_config": {
    "python": {
     "delete_cmd_postfix": "",
     "delete_cmd_prefix": "del ",
     "library": "var_list.py",
     "varRefreshCmd": "print(var_dic_list())"
    },
    "r": {
     "delete_cmd_postfix": ") ",
     "delete_cmd_prefix": "rm(",
     "library": "var_list.r",
     "varRefreshCmd": "cat(var_dic_list()) "
    }
   },
   "types_to_exclude": [
    "module",
    "function",
    "builtin_function_or_method",
    "instance",
    "_Feature"
   ],
   "window_display": false
  }
 },
 "nbformat": 4,
 "nbformat_minor": 5
}
