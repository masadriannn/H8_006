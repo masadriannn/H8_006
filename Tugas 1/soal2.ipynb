{
 "cells": [
  {
   "cell_type": "markdown",
   "id": "9eb895c1",
   "metadata": {},
   "source": [
    "Nomor 2 - Adrian Dwi Adinata"
   ]
  },
  {
   "cell_type": "markdown",
   "id": "28766657",
   "metadata": {},
   "source": [
    "a) Buatlah sebuah array 1 dimensi dari data random integer sebanyak \n",
    "“n”, dimana “n” tersebut adalah sebuah input !"
   ]
  },
  {
   "cell_type": "code",
   "execution_count": 1,
   "id": "8f5d0435",
   "metadata": {},
   "outputs": [],
   "source": [
    "# import pustaka numpy terlebih dahulu\n",
    "\n",
    "import numpy as np"
   ]
  },
  {
   "cell_type": "markdown",
   "id": "ecf46c05",
   "metadata": {},
   "source": [
    "b) Batasan random juga ditentukan dalam input.\n"
   ]
  },
  {
   "cell_type": "code",
   "execution_count": 2,
   "id": "fe0f656c",
   "metadata": {},
   "outputs": [],
   "source": [
    "# input\n",
    "arr = np.random.randint(1, 50, 16)"
   ]
  },
  {
   "cell_type": "code",
   "execution_count": 3,
   "id": "46cc496d",
   "metadata": {},
   "outputs": [
    {
     "data": {
      "text/plain": [
       "array([15,  3, 22, 18, 25,  4, 26,  2, 43,  9,  5, 32, 47, 33, 44,  8])"
      ]
     },
     "execution_count": 3,
     "metadata": {},
     "output_type": "execute_result"
    }
   ],
   "source": [
    "# Bangkitkan Array 1 Dimensi Dari Random Integer\n",
    "arr"
   ]
  },
  {
   "cell_type": "code",
   "execution_count": 4,
   "id": "04f27af1",
   "metadata": {},
   "outputs": [
    {
     "name": "stdout",
     "output_type": "stream",
     "text": [
      "Banyak data: 16\n",
      "Mulai: 1\n",
      "Selesai: 50\n"
     ]
    }
   ],
   "source": [
    "# input\n",
    "n = int(input('Banyak data: '))\n",
    "start = int(input('Mulai: '))\n",
    "end = int(input('Selesai: '))"
   ]
  },
  {
   "cell_type": "code",
   "execution_count": 5,
   "id": "c5f88bcb",
   "metadata": {},
   "outputs": [
    {
     "data": {
      "text/plain": [
       "array([36, 16, 32, 32, 31, 24, 14, 38, 13, 26,  1,  3,  9,  1, 27, 31])"
      ]
     },
     "execution_count": 5,
     "metadata": {},
     "output_type": "execute_result"
    }
   ],
   "source": [
    "data = np.random.randint(start, end, n)\n",
    "data "
   ]
  },
  {
   "cell_type": "markdown",
   "id": "28c57a76",
   "metadata": {},
   "source": [
    "c) Ubahlah array 1 dimensi tersebut ke dalam bentuk 2 dimensi atau \n",
    "matrix!"
   ]
  },
  {
   "cell_type": "code",
   "execution_count": 6,
   "id": "9e6687ab",
   "metadata": {},
   "outputs": [],
   "source": [
    "# Dua Dimensi\n",
    "arr_2 = arr.reshape(4, 4)"
   ]
  },
  {
   "cell_type": "code",
   "execution_count": 7,
   "id": "e251b718",
   "metadata": {},
   "outputs": [
    {
     "data": {
      "text/plain": [
       "array([[15,  3, 22, 18],\n",
       "       [25,  4, 26,  2],\n",
       "       [43,  9,  5, 32],\n",
       "       [47, 33, 44,  8]])"
      ]
     },
     "execution_count": 7,
     "metadata": {},
     "output_type": "execute_result"
    }
   ],
   "source": [
    "arr_2"
   ]
  },
  {
   "cell_type": "code",
   "execution_count": 8,
   "id": "80ba5712",
   "metadata": {
    "scrolled": true
   },
   "outputs": [
    {
     "data": {
      "text/plain": [
       "2"
      ]
     },
     "execution_count": 8,
     "metadata": {},
     "output_type": "execute_result"
    }
   ],
   "source": [
    "arr_2.ndim"
   ]
  },
  {
   "cell_type": "markdown",
   "id": "eace7ba1",
   "metadata": {},
   "source": [
    "d) Setelah diubah ke bentuk 2 dimensi, setiap barisnya baliklah urutan \n",
    "datanya! Misalnya dari 1, 2, 3 menjadi 3, 2, 1."
   ]
  },
  {
   "cell_type": "code",
   "execution_count": 9,
   "id": "def8085b",
   "metadata": {},
   "outputs": [
    {
     "data": {
      "text/plain": [
       "array([[18, 22,  3, 15],\n",
       "       [ 2, 26,  4, 25],\n",
       "       [32,  5,  9, 43],\n",
       "       [ 8, 44, 33, 47]])"
      ]
     },
     "execution_count": 9,
     "metadata": {},
     "output_type": "execute_result"
    }
   ],
   "source": [
    "# Tukar Posisi\n",
    "arr_2[:, ::-1]"
   ]
  },
  {
   "cell_type": "code",
   "execution_count": 10,
   "id": "eb386aad",
   "metadata": {},
   "outputs": [
    {
     "name": "stdout",
     "output_type": "stream",
     "text": [
      "[[15 25 43 47]\n",
      " [ 3  4  9 33]\n",
      " [22 26  5 44]\n",
      " [18  2 32  8]]\n"
     ]
    }
   ],
   "source": [
    "# Tukar Posisi\n",
    "print(arr_2.transpose())"
   ]
  },
  {
   "cell_type": "code",
   "execution_count": 11,
   "id": "66c6c35b",
   "metadata": {},
   "outputs": [],
   "source": [
    "# Tukar Posisi\n",
    "arr_3 = arr_2[::-1]"
   ]
  },
  {
   "cell_type": "code",
   "execution_count": 12,
   "id": "7d91494b",
   "metadata": {},
   "outputs": [
    {
     "data": {
      "text/plain": [
       "array([[47, 33, 44,  8],\n",
       "       [43,  9,  5, 32],\n",
       "       [25,  4, 26,  2],\n",
       "       [15,  3, 22, 18]])"
      ]
     },
     "execution_count": 12,
     "metadata": {},
     "output_type": "execute_result"
    }
   ],
   "source": [
    "arr_3"
   ]
  }
 ],
 "metadata": {
  "kernelspec": {
   "display_name": "Python 3 (ipykernel)",
   "language": "python",
   "name": "python3"
  },
  "language_info": {
   "codemirror_mode": {
    "name": "ipython",
    "version": 3
   },
   "file_extension": ".py",
   "mimetype": "text/x-python",
   "name": "python",
   "nbconvert_exporter": "python",
   "pygments_lexer": "ipython3",
   "version": "3.8.8"
  },
  "toc": {
   "base_numbering": 1,
   "nav_menu": {},
   "number_sections": true,
   "sideBar": true,
   "skip_h1_title": false,
   "title_cell": "Table of Contents",
   "title_sidebar": "Contents",
   "toc_cell": false,
   "toc_position": {},
   "toc_section_display": true,
   "toc_window_display": false
  },
  "varInspector": {
   "cols": {
    "lenName": 16,
    "lenType": 16,
    "lenVar": 40
   },
   "kernels_config": {
    "python": {
     "delete_cmd_postfix": "",
     "delete_cmd_prefix": "del ",
     "library": "var_list.py",
     "varRefreshCmd": "print(var_dic_list())"
    },
    "r": {
     "delete_cmd_postfix": ") ",
     "delete_cmd_prefix": "rm(",
     "library": "var_list.r",
     "varRefreshCmd": "cat(var_dic_list()) "
    }
   },
   "types_to_exclude": [
    "module",
    "function",
    "builtin_function_or_method",
    "instance",
    "_Feature"
   ],
   "window_display": false
  }
 },
 "nbformat": 4,
 "nbformat_minor": 5
}
