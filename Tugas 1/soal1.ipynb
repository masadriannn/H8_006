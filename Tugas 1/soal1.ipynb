{
 "cells": [
  {
   "cell_type": "markdown",
   "id": "6856452b",
   "metadata": {},
   "source": [
    "Nomor 1 - Adrian Dwi Adinata"
   ]
  },
  {
   "cell_type": "markdown",
   "id": "389448c1",
   "metadata": {},
   "source": [
    "a) Buatlah sebuah array dengan perintah arrange yang nilai start dan\n",
    "end adalah sebuah input!"
   ]
  },
  {
   "cell_type": "code",
   "execution_count": 1,
   "id": "65239dfb",
   "metadata": {},
   "outputs": [],
   "source": [
    "# Import pustaka numpy terlebih dahulu\n",
    "\n",
    "import numpy as np"
   ]
  },
  {
   "cell_type": "code",
   "execution_count": 4,
   "id": "d6909b6d",
   "metadata": {},
   "outputs": [
    {
     "name": "stdout",
     "output_type": "stream",
     "text": [
      "[ 1  2  3  4  5  6  7  8  9 10 11 12 13 14 15 16 17 18 19 20 21 22 23 24\n",
      " 25 26 27]\n"
     ]
    }
   ],
   "source": [
    "# Buatlah sebuah array dengan perintah arrange yang nilai start dan end adalah sebuah input!\n",
    "\n",
    "arr_1 = np.arange(1,28)\n",
    "print(arr_1)"
   ]
  },
  {
   "cell_type": "code",
   "execution_count": 1,
   "id": "2cb86b06",
   "metadata": {},
   "outputs": [
    {
     "name": "stdout",
     "output_type": "stream",
     "text": [
      "Mulai: 1\n",
      "Selesai: 28\n"
     ]
    }
   ],
   "source": [
    "start = int(input('Mulai: '))\n",
    "end = int(input('Selesai: '))"
   ]
  },
  {
   "cell_type": "code",
   "execution_count": 2,
   "id": "ed3ace81",
   "metadata": {},
   "outputs": [
    {
     "data": {
      "text/plain": [
       "array([ 1,  2,  3,  4,  5,  6,  7,  8,  9, 10, 11, 12, 13, 14, 15, 16, 17,\n",
       "       18, 19, 20, 21, 22, 23, 24, 25, 26, 27])"
      ]
     },
     "execution_count": 2,
     "metadata": {},
     "output_type": "execute_result"
    }
   ],
   "source": [
    "data_awal = np.arange(start, end)\n",
    "data_awal"
   ]
  },
  {
   "cell_type": "markdown",
   "id": "a3d1789d",
   "metadata": {},
   "source": [
    "b) Dari array yang terbentuk tersebut, buatlah versi 2 dan 3\n",
    "dimensinya!"
   ]
  },
  {
   "cell_type": "code",
   "execution_count": 5,
   "id": "1ea1f263",
   "metadata": {},
   "outputs": [
    {
     "name": "stdout",
     "output_type": "stream",
     "text": [
      "[ 1  2  3  4  5  6  7  8  9 10 11 12 13 14 15 16 17 18 19 20 21 22 23 24\n",
      " 25 26 27]\n"
     ]
    }
   ],
   "source": [
    "#  Dari array yang terbentuk tersebut, buatlah versi 2 dan 3 dimensinya!\n",
    "\n",
    "# Sebelum 2 dimensi kita lakukan 1 dimensi\n",
    "arr_1 = np.arange(1,28)\n",
    "print(arr_1)"
   ]
  },
  {
   "cell_type": "code",
   "execution_count": 6,
   "id": "78b87e31",
   "metadata": {},
   "outputs": [
    {
     "data": {
      "text/plain": [
       "1"
      ]
     },
     "execution_count": 6,
     "metadata": {},
     "output_type": "execute_result"
    }
   ],
   "source": [
    "# Untuk mengetahui jumlah dimensi pada data menggunakan fungsi ndim.\n",
    "arr_.ndim"
   ]
  },
  {
   "cell_type": "code",
   "execution_count": 7,
   "id": "5d0645f2",
   "metadata": {},
   "outputs": [
    {
     "data": {
      "text/plain": [
       "(27,)"
      ]
     },
     "execution_count": 7,
     "metadata": {},
     "output_type": "execute_result"
    }
   ],
   "source": [
    "# Array arr_1 memiliki shape ...27, yaitu panjang array pada 1-dimensi array.\n",
    "arr_1.shape"
   ]
  },
  {
   "cell_type": "code",
   "execution_count": 11,
   "id": "2ea42a19",
   "metadata": {},
   "outputs": [],
   "source": [
    "# Mengubah arr_1 menjadi 2 dimensi dan menyimpan ke arr_2\n",
    "arr_2 = arr_1.reshape(1, 27)"
   ]
  },
  {
   "cell_type": "code",
   "execution_count": 15,
   "id": "f748c0ab",
   "metadata": {},
   "outputs": [
    {
     "data": {
      "text/plain": [
       "array([[ 1,  2,  3,  4,  5,  6,  7,  8,  9, 10, 11, 12, 13, 14, 15, 16,\n",
       "        17, 18, 19, 20, 21, 22, 23, 24, 25, 26, 27]])"
      ]
     },
     "execution_count": 15,
     "metadata": {},
     "output_type": "execute_result"
    }
   ],
   "source": [
    "# Mencetak arr_2\n",
    "arr_2"
   ]
  },
  {
   "cell_type": "code",
   "execution_count": 12,
   "id": "49f27b10",
   "metadata": {},
   "outputs": [
    {
     "data": {
      "text/plain": [
       "2"
      ]
     },
     "execution_count": 12,
     "metadata": {},
     "output_type": "execute_result"
    }
   ],
   "source": [
    "# Untuk mengetahui jumlah dimensi pada data menggunakan fungsi ndim.\n",
    "arr_2.ndim"
   ]
  },
  {
   "cell_type": "code",
   "execution_count": 16,
   "id": "9f090610",
   "metadata": {},
   "outputs": [
    {
     "data": {
      "text/plain": [
       "(1, 27)"
      ]
     },
     "execution_count": 16,
     "metadata": {},
     "output_type": "execute_result"
    }
   ],
   "source": [
    "# Array arr_2 memiliki shape 1, 27, yaitu panjang array pada 2-dimensi array.\n",
    "arr_2.shape"
   ]
  },
  {
   "cell_type": "code",
   "execution_count": 13,
   "id": "cc6370e4",
   "metadata": {},
   "outputs": [],
   "source": [
    "# Mengubah arr_1 menjadi 3 dimensi dan menyimpan ke arr_3\n",
    "arr_3 = arr_1.reshape(3, 3, 3)"
   ]
  },
  {
   "cell_type": "code",
   "execution_count": 17,
   "id": "4b318896",
   "metadata": {},
   "outputs": [
    {
     "data": {
      "text/plain": [
       "array([[[ 1,  2,  3],\n",
       "        [ 4,  5,  6],\n",
       "        [ 7,  8,  9]],\n",
       "\n",
       "       [[10, 11, 12],\n",
       "        [13, 14, 15],\n",
       "        [16, 17, 18]],\n",
       "\n",
       "       [[19, 20, 21],\n",
       "        [22, 23, 24],\n",
       "        [25, 26, 27]]])"
      ]
     },
     "execution_count": 17,
     "metadata": {},
     "output_type": "execute_result"
    }
   ],
   "source": [
    "# Mencetak arr_3\n",
    "arr_3"
   ]
  },
  {
   "cell_type": "code",
   "execution_count": 14,
   "id": "a4dfb7ac",
   "metadata": {},
   "outputs": [
    {
     "data": {
      "text/plain": [
       "3"
      ]
     },
     "execution_count": 14,
     "metadata": {},
     "output_type": "execute_result"
    }
   ],
   "source": [
    "# Untuk mengetahui jumlah dimensi pada data menggunakan fungsi ndim.\n",
    "arr_3.ndim"
   ]
  },
  {
   "cell_type": "code",
   "execution_count": 18,
   "id": "7744c531",
   "metadata": {},
   "outputs": [
    {
     "data": {
      "text/plain": [
       "(3, 3, 3)"
      ]
     },
     "execution_count": 18,
     "metadata": {},
     "output_type": "execute_result"
    }
   ],
   "source": [
    "# Array arr_3 memiliki shape 3, 3, 3, yaitu panjang array pada 3-dimensi array.\n",
    "arr_3.shape"
   ]
  }
 ],
 "metadata": {
  "kernelspec": {
   "display_name": "Python 3 (ipykernel)",
   "language": "python",
   "name": "python3"
  },
  "language_info": {
   "codemirror_mode": {
    "name": "ipython",
    "version": 3
   },
   "file_extension": ".py",
   "mimetype": "text/x-python",
   "name": "python",
   "nbconvert_exporter": "python",
   "pygments_lexer": "ipython3",
   "version": "3.8.8"
  },
  "toc": {
   "base_numbering": 1,
   "nav_menu": {},
   "number_sections": true,
   "sideBar": true,
   "skip_h1_title": false,
   "title_cell": "Table of Contents",
   "title_sidebar": "Contents",
   "toc_cell": false,
   "toc_position": {},
   "toc_section_display": true,
   "toc_window_display": false
  },
  "varInspector": {
   "cols": {
    "lenName": 16,
    "lenType": 16,
    "lenVar": 40
   },
   "kernels_config": {
    "python": {
     "delete_cmd_postfix": "",
     "delete_cmd_prefix": "del ",
     "library": "var_list.py",
     "varRefreshCmd": "print(var_dic_list())"
    },
    "r": {
     "delete_cmd_postfix": ") ",
     "delete_cmd_prefix": "rm(",
     "library": "var_list.r",
     "varRefreshCmd": "cat(var_dic_list()) "
    }
   },
   "types_to_exclude": [
    "module",
    "function",
    "builtin_function_or_method",
    "instance",
    "_Feature"
   ],
   "window_display": false
  }
 },
 "nbformat": 4,
 "nbformat_minor": 5
}
