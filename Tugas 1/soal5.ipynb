{
 "cells": [
  {
   "cell_type": "markdown",
   "id": "e511b8dd",
   "metadata": {},
   "source": [
    "Nomor 5 - Adrian Dwi Adinata"
   ]
  },
  {
   "cell_type": "markdown",
   "id": "3efa1719",
   "metadata": {},
   "source": [
    "a) Buatlah sebuah Series menggunakan angka random integer dari 1 \n",
    "hingga 5 sebanyak 100!"
   ]
  },
  {
   "cell_type": "code",
   "execution_count": 2,
   "id": "a22a9a60",
   "metadata": {},
   "outputs": [],
   "source": [
    "# Import putsaka numpy dan pandas terlebih dahulu\n",
    "\n",
    "import numpy as np\n",
    "import pandas as pd"
   ]
  },
  {
   "cell_type": "code",
   "execution_count": 2,
   "id": "3955e836",
   "metadata": {},
   "outputs": [
    {
     "data": {
      "text/plain": [
       "0     4\n",
       "1     3\n",
       "2     1\n",
       "3     2\n",
       "4     3\n",
       "     ..\n",
       "95    2\n",
       "96    1\n",
       "97    4\n",
       "98    2\n",
       "99    2\n",
       "Length: 100, dtype: int32"
      ]
     },
     "execution_count": 2,
     "metadata": {},
     "output_type": "execute_result"
    }
   ],
   "source": [
    "# Series yang terdiri dari angka random integer 1 sampai 5 sebanyak 100\n",
    "\n",
    "index = np.arange(0,100)\n",
    "data = np.random.randint(1,5,100)\n",
    "\n",
    "pd.Series(data, index)"
   ]
  },
  {
   "cell_type": "code",
   "execution_count": 3,
   "id": "65f1bc8d",
   "metadata": {},
   "outputs": [
    {
     "data": {
      "text/plain": [
       "0     4\n",
       "1     4\n",
       "2     2\n",
       "3     3\n",
       "4     4\n",
       "     ..\n",
       "95    4\n",
       "96    1\n",
       "97    3\n",
       "98    3\n",
       "99    3\n",
       "Length: 100, dtype: int32"
      ]
     },
     "execution_count": 3,
     "metadata": {},
     "output_type": "execute_result"
    }
   ],
   "source": [
    "# Cara lain\n",
    "\n",
    "# series yang terdiri dari angka random integer 1 sampai 5 sebanyak 100\n",
    "np.random.seed(101)\n",
    "num_series = pd.Series(np.random.randint(1, 5, 100))\n",
    "num_series"
   ]
  },
  {
   "cell_type": "markdown",
   "id": "bd5853a1",
   "metadata": {},
   "source": [
    "b) Hitunglah banyaknya frekuensi tiap angka!"
   ]
  },
  {
   "cell_type": "code",
   "execution_count": 12,
   "id": "74b9ec6b",
   "metadata": {},
   "outputs": [
    {
     "data": {
      "text/plain": [
       "4    26\n",
       "3    26\n",
       "2    26\n",
       "1    22\n",
       "dtype: int64"
      ]
     },
     "execution_count": 12,
     "metadata": {},
     "output_type": "execute_result"
    }
   ],
   "source": [
    "# Menghitung banyaknya jumlah setiap angka\n",
    "\n",
    "pd.Series(data).value_counts()"
   ]
  },
  {
   "cell_type": "code",
   "execution_count": 4,
   "id": "2d306dc7",
   "metadata": {},
   "outputs": [
    {
     "data": {
      "text/plain": [
       "4    36\n",
       "1    30\n",
       "3    18\n",
       "2    16\n",
       "dtype: int64"
      ]
     },
     "execution_count": 4,
     "metadata": {},
     "output_type": "execute_result"
    }
   ],
   "source": [
    "# Cara lain\n",
    "\n",
    "# menghitung banyaknya jumlah tiap angka\n",
    "num_series.value_counts()"
   ]
  },
  {
   "cell_type": "markdown",
   "id": "9fe52ce5",
   "metadata": {},
   "source": [
    "c) Cari tahu 2 nilai dengan frekuensi tertinggi!"
   ]
  },
  {
   "cell_type": "code",
   "execution_count": 13,
   "id": "c071ccc5",
   "metadata": {},
   "outputs": [],
   "source": [
    "# Mencari tahu 2 angka terbanyak\n",
    "\n",
    "tabel = {'value': pd.Series(data),\n",
    "        'Frequency': pd.Series(data).value_counts()}"
   ]
  },
  {
   "cell_type": "code",
   "execution_count": 14,
   "id": "b49a9009",
   "metadata": {},
   "outputs": [],
   "source": [
    "df = pd.DataFrame(tabel)"
   ]
  },
  {
   "cell_type": "code",
   "execution_count": 15,
   "id": "a41e9b26",
   "metadata": {},
   "outputs": [
    {
     "data": {
      "text/html": [
       "<div>\n",
       "<style scoped>\n",
       "    .dataframe tbody tr th:only-of-type {\n",
       "        vertical-align: middle;\n",
       "    }\n",
       "\n",
       "    .dataframe tbody tr th {\n",
       "        vertical-align: top;\n",
       "    }\n",
       "\n",
       "    .dataframe thead th {\n",
       "        text-align: right;\n",
       "    }\n",
       "</style>\n",
       "<table border=\"1\" class=\"dataframe\">\n",
       "  <thead>\n",
       "    <tr style=\"text-align: right;\">\n",
       "      <th></th>\n",
       "      <th>value</th>\n",
       "      <th>Frequency</th>\n",
       "    </tr>\n",
       "  </thead>\n",
       "  <tbody>\n",
       "    <tr>\n",
       "      <th>0</th>\n",
       "      <td>4</td>\n",
       "      <td>NaN</td>\n",
       "    </tr>\n",
       "    <tr>\n",
       "      <th>1</th>\n",
       "      <td>3</td>\n",
       "      <td>22.0</td>\n",
       "    </tr>\n",
       "    <tr>\n",
       "      <th>2</th>\n",
       "      <td>1</td>\n",
       "      <td>26.0</td>\n",
       "    </tr>\n",
       "    <tr>\n",
       "      <th>3</th>\n",
       "      <td>2</td>\n",
       "      <td>26.0</td>\n",
       "    </tr>\n",
       "    <tr>\n",
       "      <th>4</th>\n",
       "      <td>3</td>\n",
       "      <td>26.0</td>\n",
       "    </tr>\n",
       "    <tr>\n",
       "      <th>...</th>\n",
       "      <td>...</td>\n",
       "      <td>...</td>\n",
       "    </tr>\n",
       "    <tr>\n",
       "      <th>95</th>\n",
       "      <td>2</td>\n",
       "      <td>NaN</td>\n",
       "    </tr>\n",
       "    <tr>\n",
       "      <th>96</th>\n",
       "      <td>1</td>\n",
       "      <td>NaN</td>\n",
       "    </tr>\n",
       "    <tr>\n",
       "      <th>97</th>\n",
       "      <td>4</td>\n",
       "      <td>NaN</td>\n",
       "    </tr>\n",
       "    <tr>\n",
       "      <th>98</th>\n",
       "      <td>2</td>\n",
       "      <td>NaN</td>\n",
       "    </tr>\n",
       "    <tr>\n",
       "      <th>99</th>\n",
       "      <td>2</td>\n",
       "      <td>NaN</td>\n",
       "    </tr>\n",
       "  </tbody>\n",
       "</table>\n",
       "<p>100 rows × 2 columns</p>\n",
       "</div>"
      ],
      "text/plain": [
       "    value  Frequency\n",
       "0       4        NaN\n",
       "1       3       22.0\n",
       "2       1       26.0\n",
       "3       2       26.0\n",
       "4       3       26.0\n",
       "..    ...        ...\n",
       "95      2        NaN\n",
       "96      1        NaN\n",
       "97      4        NaN\n",
       "98      2        NaN\n",
       "99      2        NaN\n",
       "\n",
       "[100 rows x 2 columns]"
      ]
     },
     "execution_count": 15,
     "metadata": {},
     "output_type": "execute_result"
    }
   ],
   "source": [
    "df"
   ]
  },
  {
   "cell_type": "code",
   "execution_count": 20,
   "id": "0fc80ceb",
   "metadata": {},
   "outputs": [],
   "source": [
    "by_data = df.groupby(\"value\")"
   ]
  },
  {
   "cell_type": "code",
   "execution_count": 18,
   "id": "ec96dd4c",
   "metadata": {},
   "outputs": [
    {
     "data": {
      "text/html": [
       "<div>\n",
       "<style scoped>\n",
       "    .dataframe tbody tr th:only-of-type {\n",
       "        vertical-align: middle;\n",
       "    }\n",
       "\n",
       "    .dataframe tbody tr th {\n",
       "        vertical-align: top;\n",
       "    }\n",
       "\n",
       "    .dataframe thead th {\n",
       "        text-align: right;\n",
       "    }\n",
       "</style>\n",
       "<table border=\"1\" class=\"dataframe\">\n",
       "  <thead>\n",
       "    <tr style=\"text-align: right;\">\n",
       "      <th></th>\n",
       "      <th>Frequency</th>\n",
       "    </tr>\n",
       "    <tr>\n",
       "      <th>value</th>\n",
       "      <th></th>\n",
       "    </tr>\n",
       "  </thead>\n",
       "  <tbody>\n",
       "    <tr>\n",
       "      <th>1</th>\n",
       "      <td>26.0</td>\n",
       "    </tr>\n",
       "    <tr>\n",
       "      <th>2</th>\n",
       "      <td>26.0</td>\n",
       "    </tr>\n",
       "    <tr>\n",
       "      <th>3</th>\n",
       "      <td>26.0</td>\n",
       "    </tr>\n",
       "    <tr>\n",
       "      <th>4</th>\n",
       "      <td>NaN</td>\n",
       "    </tr>\n",
       "  </tbody>\n",
       "</table>\n",
       "</div>"
      ],
      "text/plain": [
       "       Frequency\n",
       "value           \n",
       "1           26.0\n",
       "2           26.0\n",
       "3           26.0\n",
       "4            NaN"
      ]
     },
     "execution_count": 18,
     "metadata": {},
     "output_type": "execute_result"
    }
   ],
   "source": [
    "by_data.max(2)"
   ]
  },
  {
   "cell_type": "code",
   "execution_count": 5,
   "id": "52bc8aad",
   "metadata": {},
   "outputs": [
    {
     "data": {
      "text/html": [
       "<div>\n",
       "<style scoped>\n",
       "    .dataframe tbody tr th:only-of-type {\n",
       "        vertical-align: middle;\n",
       "    }\n",
       "\n",
       "    .dataframe tbody tr th {\n",
       "        vertical-align: top;\n",
       "    }\n",
       "\n",
       "    .dataframe thead th {\n",
       "        text-align: right;\n",
       "    }\n",
       "</style>\n",
       "<table border=\"1\" class=\"dataframe\">\n",
       "  <thead>\n",
       "    <tr style=\"text-align: right;\">\n",
       "      <th></th>\n",
       "      <th>value</th>\n",
       "      <th>Frequency</th>\n",
       "    </tr>\n",
       "  </thead>\n",
       "  <tbody>\n",
       "    <tr>\n",
       "      <th>0</th>\n",
       "      <td>4</td>\n",
       "      <td>36</td>\n",
       "    </tr>\n",
       "    <tr>\n",
       "      <th>1</th>\n",
       "      <td>1</td>\n",
       "      <td>30</td>\n",
       "    </tr>\n",
       "  </tbody>\n",
       "</table>\n",
       "</div>"
      ],
      "text/plain": [
       "   value  Frequency\n",
       "0      4         36\n",
       "1      1         30"
      ]
     },
     "execution_count": 5,
     "metadata": {},
     "output_type": "execute_result"
    }
   ],
   "source": [
    "# Cara lain\n",
    "\n",
    "# mencari tahu 2 angka yang paling sering muncul\n",
    "df_vc = pd.DataFrame(num_series.value_counts(), columns = ['Frequency']).reset_index()\n",
    "df_vc = df_vc.rename(columns = {'index': 'value'})\n",
    "df_vc.sort_values(by='Frequency', ascending=False).head(2)"
   ]
  },
  {
   "cell_type": "code",
   "execution_count": null,
   "id": "ed414aed",
   "metadata": {},
   "outputs": [],
   "source": []
  }
 ],
 "metadata": {
  "kernelspec": {
   "display_name": "Python 3 (ipykernel)",
   "language": "python",
   "name": "python3"
  },
  "language_info": {
   "codemirror_mode": {
    "name": "ipython",
    "version": 3
   },
   "file_extension": ".py",
   "mimetype": "text/x-python",
   "name": "python",
   "nbconvert_exporter": "python",
   "pygments_lexer": "ipython3",
   "version": "3.8.8"
  },
  "toc": {
   "base_numbering": 1,
   "nav_menu": {},
   "number_sections": true,
   "sideBar": true,
   "skip_h1_title": false,
   "title_cell": "Table of Contents",
   "title_sidebar": "Contents",
   "toc_cell": false,
   "toc_position": {},
   "toc_section_display": true,
   "toc_window_display": false
  },
  "varInspector": {
   "cols": {
    "lenName": 16,
    "lenType": 16,
    "lenVar": 40
   },
   "kernels_config": {
    "python": {
     "delete_cmd_postfix": "",
     "delete_cmd_prefix": "del ",
     "library": "var_list.py",
     "varRefreshCmd": "print(var_dic_list())"
    },
    "r": {
     "delete_cmd_postfix": ") ",
     "delete_cmd_prefix": "rm(",
     "library": "var_list.r",
     "varRefreshCmd": "cat(var_dic_list()) "
    }
   },
   "types_to_exclude": [
    "module",
    "function",
    "builtin_function_or_method",
    "instance",
    "_Feature"
   ],
   "window_display": false
  }
 },
 "nbformat": 4,
 "nbformat_minor": 5
}
