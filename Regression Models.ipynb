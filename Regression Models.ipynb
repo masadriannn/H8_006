{
 "cells": [
  {
   "cell_type": "markdown",
   "id": "37451fc7",
   "metadata": {},
   "source": [
    "# Introduction to Machine Learning"
   ]
  },
  {
   "cell_type": "markdown",
   "id": "b74a806c",
   "metadata": {},
   "source": [
    "# What is Artificial Intelligence?"
   ]
  },
  {
   "cell_type": "markdown",
   "id": "2c99c361",
   "metadata": {},
   "source": [
    "Artificial intelligence yang biasa dikenal dengan AI adalah cara membuat komputer menjadi intelligent secara artificially."
   ]
  },
  {
   "cell_type": "markdown",
   "id": "db9eafef",
   "metadata": {},
   "source": [
    "# Intuition & Motivation behind AI"
   ]
  },
  {
   "cell_type": "markdown",
   "id": "2aec6517",
   "metadata": {},
   "source": [
    "kita ingin komputer dapat belajar berdasarkan data yang kita masukkan ke dalamnya dan kemudian komputer harus cukup pintar untuk membuat keputusan berdasarkan apa yang telah dipelajari."
   ]
  },
  {
   "cell_type": "markdown",
   "id": "dcc14f15",
   "metadata": {},
   "source": [
    "# Need for Intelligent Machines?"
   ]
  },
  {
   "cell_type": "markdown",
   "id": "6ea67fe0",
   "metadata": {},
   "source": [
    "- Satu alasan utama di balik mengapa kita membutuhkan AI adalah untuk mengotomatiskan tugas-tugas yang menurut orang berlebihan.\n",
    "- jika kita membuat komputer mempelajari beberapa data atau records, berdasarkan records, komputer dapat dengan mudah memprediksi hasil masa depan karena akan memahami beberapa pola & struktur dari data atau recordsmasa lalu."
   ]
  },
  {
   "cell_type": "markdown",
   "id": "3bf3aa68",
   "metadata": {},
   "source": [
    "# Machine Learning"
   ]
  },
  {
   "cell_type": "markdown",
   "id": "cf1e2475",
   "metadata": {},
   "source": [
    "Machine learning adalah penerapan dari artificial intelligence (AI) yang memberikan kemampuan kepada komputer untuk belajar dan berkembang dari pengalaman tanpa harus diprogram secara explicit"
   ]
  },
  {
   "cell_type": "markdown",
   "id": "5d8ffdd1",
   "metadata": {},
   "source": [
    "Ada berbagai algoritma Machine Learning seperti \n",
    "- Decision trees, \n",
    "- Naive Bayes, \n",
    "- Random forest \n",
    "- Support vector machine \n",
    "- K-nearest neighbor, \n",
    "- K-means clustering, \n",
    "- Gaussian mixture model, \n",
    "- Hidden Markov model etc."
   ]
  },
  {
   "cell_type": "markdown",
   "id": "e2921979",
   "metadata": {},
   "source": [
    "Sekarang pertanyaannya adalah bagaimana komputer akan belajar secara otomatis?\n",
    "- jawabannya adalah data"
   ]
  },
  {
   "cell_type": "markdown",
   "id": "76125d10",
   "metadata": {},
   "source": [
    "Terminologi :\n",
    "- Dataset: Kumpulan contoh data, yang berisi fitur-fitur penting untuk memecahkan masalah. \n",
    "- Fitur: Data penting yang membantu kita memahami suatu masalah. Ini dimasukkan ke algoritme Pembelajaran Mesin untuk membantunya belajar. \n",
    "- Model: Representasi (model internal) dari sebuah fenomena yang telah dipelajari oleh algoritma Machine Learning. Ia mempelajari ini dari data yang ditampilkan selama pelatihan. Model adalah output yang kita dapatkan setelah melatih suatu algoritma. Misalnya, algoritma decision tree akan dilatih dan menghasilkan model decision tree."
   ]
  },
  {
   "cell_type": "markdown",
   "id": "540b56f2",
   "metadata": {},
   "source": [
    "Proses :\n",
    "- Pengumpulan Data: Kumpulkan data yang akan dipelajari oleh algoritme.\n",
    "- Persiapan Data: Memformat dan merekayasa data ke dalam format yang optimal, mengekstraksi fitur penting dan melakukan pengurangan dimensi. \n",
    "- Pelatihan: Juga dikenal sebagai tahap pemasangan, di sinilah algoritma Machine Learning benar-benar belajar dengan menunjukkan data yang telah dikumpulkan dan disiapkan. \n",
    "- Evaluasi: Uji model untuk melihat seberapa baik kinerjanya. \n",
    "- Penyetelan: Sempurnakan model untuk memaksimalkan kinerjanya."
   ]
  },
  {
   "cell_type": "markdown",
   "id": "4a7c455c",
   "metadata": {},
   "source": [
    "# Pendekatan Machine Learning"
   ]
  },
  {
   "cell_type": "markdown",
   "id": "436ae1ee",
   "metadata": {},
   "source": [
    "**No Free Lunch theorem** menyatakan bahwa tidak ada algoritma tunggal yang akan bekerja dengan baik untuk semua tugas. Setiap tugas yang kita coba selesaikan memiliki keistimewaannya sendiri. Oleh karena itu, ada banyak algoritma dan pendekatan yang sesuai dengan setiap masalah individu."
   ]
  },
  {
   "cell_type": "markdown",
   "id": "7c767fe0",
   "metadata": {},
   "source": [
    "- Supervised Learning \n",
    "\n",
    "Supervised sesuai namanya, merupakan suatu teknik pembelajaran yang didalam keseluruhan proses pembelajarannya, dibimbing atau di-supervisi.Permasalahan Supervised Learning dapat dikelompokkan menjadi **regression problem** dan **classification problems**."
   ]
  },
  {
   "cell_type": "markdown",
   "id": "f858e621",
   "metadata": {},
   "source": [
    "- Unsupervised Learning\n",
    "\n",
    "Algoritma tersebut dirumuskan sedemikian rupa sehingga dapat menemukan struktur dan pola yang sesuai dalam data. Goal dari unsupervised learning adalah untuk memodelkan struktur dasar atau distribusi dalam data dengan tujuan untuk mempelajari data lebih jauh lagi. Permasalahan unsupervised learning dapat dikelompokkan menjadi **clustering problems, association problems,** dan **dimensionality reduction**. Untuk menemukan struktur yang menarik pada data yang tidak berlabel, kita menggunakan **density estimation**. Bentuk yang paling umum di antaranya adalah **clustering**. Diantaranya terdapat juga **dimensionality reduction, latent variable models** dan **anomaly detection**."
   ]
  },
  {
   "cell_type": "markdown",
   "id": "e1a5daaa",
   "metadata": {},
   "source": [
    "- Reinforcement Learning\n",
    "\n",
    "Reinforcement Learning adalah jenis machine learning yang memiliki agent (seperti robot) yang belajar bagaimana berperilaku di lingkungan dengan mengambil tindakan dan mengukur hasilnya. Perilaku reward-motivated ini adalah kunci dalam reinforcement learning."
   ]
  },
  {
   "cell_type": "markdown",
   "id": "dab9e82b",
   "metadata": {},
   "source": [
    "# Deep Learning"
   ]
  },
  {
   "cell_type": "markdown",
   "id": "1a2761e4",
   "metadata": {},
   "source": [
    "Deep Learning adalah subkategori machine learning. deep learning terinspirasi oleh artificial neural networks dan artificial neural networks biasa dikenal sebagai ANN terinspirasi oleh jaringan saraf biologis manusia.\n",
    "\n",
    "Neural network akan selalu memiliki:\n",
    "- Input Layer: Ini bisa berupa piksel gambar atau data deret waktu \n",
    "- Hidden Layer: Umumnya dikenal sebagai bobot yang dipelajari saat jaringan saraf dilatih \n",
    "- Output Layer: Lapisan terakhir terutama memberi Anda prediksi input yang Anda masukkan ke jaringan Anda."
   ]
  },
  {
   "cell_type": "markdown",
   "id": "d7d960c3",
   "metadata": {},
   "source": [
    "# Penerapan Machine Learning dan Deep Learning "
   ]
  },
  {
   "cell_type": "markdown",
   "id": "d2285416",
   "metadata": {},
   "source": [
    "Machine learning dan deep learning banyak digunakan di banyak domain: \n",
    "- Medis: Untuk deteksi sel kanker, restorasi citra MRI otak, pencetakan gen, dll. \n",
    "- Dokumen: Penyelesaian super gambar dokumen sejarah, segmentasi teks dalam gambar dokumen. \n",
    "- Bank: Prediksi saham, keputusan keuangan. \n",
    "- Pemrosesan Bahasa Alami: sistem rekomendasi: Netflix menggunakan sistem rekomendasi untuk menyarankan film kepada pengguna berdasarkan minat mereka, analisis sentimen, penandaan foto. \n",
    "- Information Retrieval: search engine, baik text search, maupun image search seperti yang digunakan oleh Google, Amazon, Facebook, Linkedin, dll"
   ]
  },
  {
   "cell_type": "markdown",
   "id": "f571bc30",
   "metadata": {},
   "source": [
    "# Regresi"
   ]
  },
  {
   "cell_type": "markdown",
   "id": "7edb5917",
   "metadata": {},
   "source": [
    "Regression analysis adalah salah satu bidang terpenting dalam statistik dan machine learning. Ada banyak metode regresi yang tersedia. Linear regression adalah salah satunya."
   ]
  },
  {
   "cell_type": "markdown",
   "id": "abc8dc97",
   "metadata": {},
   "source": [
    "## Apa Itu Regresi?"
   ]
  },
  {
   "cell_type": "markdown",
   "id": "9ccdc85c",
   "metadata": {},
   "source": [
    "Regression mencari hubungan antar variabel. Regression adalah bentuk lain dari supervised learning. Perbedaan antara classification dan regression adalah bahwa regression menghasilkan angka daripada kelas. Oleh karena itu, regression berguna saat memprediksi masalah berbasis angka seperti harga pasar saham, suhu untuk hari tertentu, atau probabilitas suatu peristiwa."
   ]
  },
  {
   "cell_type": "markdown",
   "id": "08674708",
   "metadata": {},
   "source": [
    "Fitur dependen/dependent features disebut variabel dependen/dependent variables, output, atau responses. Fitur independen disebut variabel independen/independent variables, input, atau predictors."
   ]
  },
  {
   "cell_type": "markdown",
   "id": "aad430ad",
   "metadata": {},
   "source": [
    "## Kapan Kita Membutuhkan Regresi?"
   ]
  },
  {
   "cell_type": "markdown",
   "id": "3d74e055",
   "metadata": {},
   "source": [
    "untuk menjawab apakah dan bagaimana beberapa fenomena memengaruhi yang lain atau bagaimana terkaitnya variabel yang ada. meramalkan respons menggunakan kumpulan prediktor baru."
   ]
  },
  {
   "cell_type": "markdown",
   "id": "09993a18",
   "metadata": {},
   "source": [
    "## Linear Regression / Regresi Linier"
   ]
  },
  {
   "cell_type": "markdown",
   "id": "78191132",
   "metadata": {},
   "source": [
    "Linear regression adalah salah satu metode regresi yang paling sederhana. Salah satu keuntungan utamanya adalah kemudahan interpretasi hasil."
   ]
  },
  {
   "cell_type": "markdown",
   "id": "306b52bd",
   "metadata": {},
   "source": [
    "## Problem Formulation"
   ]
  },
  {
   "cell_type": "markdown",
   "id": "72658d8c",
   "metadata": {},
   "source": [
    "mengasumsikan linear relationship antara 𝑦 dan 𝐱: 𝑦 = 𝛽₀ + 𝛽₁𝑥₁ + 𝛽₁𝑥₁ + 𝛽ᵣ𝑥ᵣ + 𝜀. Persamaan ini adalah **persamaan regresi**. 𝛽₀, 𝛽₁,…, 𝛽ᵣ adalah **koefisien regresi**, dan 𝜀 adalah **random error**. Untuk mendapatkan bobot terbaik, biasanya kita meminimalkan **sum of squared residuals (SSR)** untuk semua pengamatan 𝑖 = 1,…, 𝑛: SSR = Σᵢ (𝑦ᵢ - 𝑓 (𝐱ᵢ)) ². Pendekatan ini disebut **method of ordinary least squares**."
   ]
  },
  {
   "cell_type": "markdown",
   "id": "0232e39e",
   "metadata": {},
   "source": [
    "## Regression Performance"
   ]
  },
  {
   "cell_type": "markdown",
   "id": "4443bfde",
   "metadata": {},
   "source": [
    "**Coefficient of determination**, dilambangkan sebagai 𝑅², memberi tahu kita berapa banyak variasi dalam 𝑦 yang dapat dijelaskan oleh ketergantungan pada 𝐱 menggunakan model regresi tertentu. Nilai 𝑅² = 1 sesuai dengan SSR = 0, yaitu **perfect fit** karena nilai prediksi dan respons aktual saling cocok satu sama lain."
   ]
  },
  {
   "cell_type": "markdown",
   "id": "8b8b8828",
   "metadata": {},
   "source": [
    "## Simple Linear Regression"
   ]
  },
  {
   "cell_type": "markdown",
   "id": "4171418e",
   "metadata": {},
   "source": [
    "Simple atau single-variate linear regression adalah kasus regresi linier yang paling sederhana dengan variabel independen tunggal, 𝐱 = 𝑥."
   ]
  },
  {
   "cell_type": "markdown",
   "id": "4f79b1ac",
   "metadata": {},
   "source": [
    "## Multiple Linear Regression"
   ]
  },
  {
   "cell_type": "markdown",
   "id": "9b00de54",
   "metadata": {},
   "source": [
    "Multiple atau multivariate linear regression adalah kasus regresi linier dengan dua atau lebih independent variables"
   ]
  },
  {
   "cell_type": "markdown",
   "id": "0cbbad5e",
   "metadata": {},
   "source": [
    "## Polynomial Regression"
   ]
  },
  {
   "cell_type": "markdown",
   "id": "27d45826",
   "metadata": {},
   "source": [
    "Kita dapat menganggap polynomial regression sebagai kasus umum linear regression. Kita mengasumsikan polynomial dependence antara output dan inputs , dan menghasilkan, polynomial estimated regression function."
   ]
  },
  {
   "cell_type": "markdown",
   "id": "4d0df9f7",
   "metadata": {},
   "source": [
    "## Underfitting dan Overfitting"
   ]
  },
  {
   "cell_type": "markdown",
   "id": "fb0b4b24",
   "metadata": {},
   "source": [
    "- **Underfitting** terjadi jika model tidak dapat menangkap dependensi di antara data secara akurat, biasanya sebagai konsekuensi dari kesederhanaannya sendiri.\n",
    "- **Overfitting** terjadi saat model mempelajari dependensi di antara data dan fluktuasi acak. Dengan kata lain, model mempelajari data yang ada dengan terlalu baik."
   ]
  },
  {
   "cell_type": "markdown",
   "id": "cb6827ef",
   "metadata": {},
   "source": [
    "# Implementing Linear Regression in Python"
   ]
  },
  {
   "cell_type": "markdown",
   "id": "14275b65",
   "metadata": {},
   "source": [
    "## Simple Linear Regression With scikit-learn"
   ]
  },
  {
   "cell_type": "markdown",
   "id": "be1e61ef",
   "metadata": {},
   "source": [
    "Ada lima langkah dasar saat kita menerapkan regresi linier sederhana: \n",
    "- Impor paket dan kelas yang Anda butuhkan. \n",
    "- Menyediakan data untuk dikerjakan dan akhirnya melakukan transformasi yang sesuai. \n",
    "- Buat model regresi dan sesuaikan dengan data yang ada. \n",
    "- Periksa hasil model fitting untuk mengetahui apakah model memuaskan. \n",
    "- Terapkan model untuk prediksi."
   ]
  },
  {
   "cell_type": "markdown",
   "id": "51f12071",
   "metadata": {},
   "source": [
    "### Langkah 1: Impor paket dan kelas"
   ]
  },
  {
   "cell_type": "markdown",
   "id": "8b67c57d",
   "metadata": {},
   "source": [
    "Langkah pertama adalah mengimpor package numpy dan class LinearRegression dari sklearn.linear_model:"
   ]
  },
  {
   "cell_type": "code",
   "execution_count": 1,
   "id": "972e8f40",
   "metadata": {},
   "outputs": [],
   "source": [
    "import numpy as np\n",
    "import matplotlib.pyplot as plt\n",
    "from sklearn.linear_model import LinearRegression\n",
    "\n",
    "%matplotlib inline"
   ]
  },
  {
   "cell_type": "markdown",
   "id": "7663f398",
   "metadata": {},
   "source": [
    "### Langkah 2: Berikan data"
   ]
  },
  {
   "cell_type": "code",
   "execution_count": 2,
   "id": "e569188a",
   "metadata": {},
   "outputs": [],
   "source": [
    "x = np.array([5, 15, 25, 35, 45, 55]).reshape((-1, 1)) \n",
    "y = np.array([5, 20, 14, 32, 22, 38])"
   ]
  },
  {
   "cell_type": "code",
   "execution_count": 3,
   "id": "de9904d4",
   "metadata": {},
   "outputs": [
    {
     "name": "stdout",
     "output_type": "stream",
     "text": [
      "[[ 5]\n",
      " [15]\n",
      " [25]\n",
      " [35]\n",
      " [45]\n",
      " [55]]\n",
      "[ 5 20 14 32 22 38]\n"
     ]
    }
   ],
   "source": [
    "print(x)\n",
    "print(y)"
   ]
  },
  {
   "cell_type": "markdown",
   "id": "34e1ee65",
   "metadata": {},
   "source": [
    "### Langkah 3: Buat model dan sesuaikan"
   ]
  },
  {
   "cell_type": "code",
   "execution_count": 4,
   "id": "c813ffdc",
   "metadata": {},
   "outputs": [],
   "source": [
    "model = LinearRegression()\n",
    "model.fit(x, y)\n",
    "LinearRegression(copy_X=True, fit_intercept=True, n_jobs=None, normalize=False)\n",
    "model = LinearRegression().fit(x, y)"
   ]
  },
  {
   "cell_type": "markdown",
   "id": "ba7569e0",
   "metadata": {},
   "source": [
    "### Langkah 4: Dapatkan Hasil"
   ]
  },
  {
   "cell_type": "code",
   "execution_count": 5,
   "id": "a6a1691c",
   "metadata": {},
   "outputs": [
    {
     "name": "stdout",
     "output_type": "stream",
     "text": [
      "coefficient of determination: 0.7158756137479542\n"
     ]
    }
   ],
   "source": [
    "r_sq = model.score(x, y)\n",
    "print('coefficient of determination:', r_sq)"
   ]
  },
  {
   "cell_type": "code",
   "execution_count": 6,
   "id": "730f91c4",
   "metadata": {},
   "outputs": [
    {
     "name": "stdout",
     "output_type": "stream",
     "text": [
      "intercept: 5.633333333333329\n",
      "slope: [0.54]\n"
     ]
    }
   ],
   "source": [
    "print('intercept:', model.intercept_)\n",
    "print('slope:', model.coef_)"
   ]
  },
  {
   "cell_type": "code",
   "execution_count": 7,
   "id": "3d0129dd",
   "metadata": {},
   "outputs": [
    {
     "name": "stdout",
     "output_type": "stream",
     "text": [
      "intercept: 5.633333333333329\n",
      "slope: [0.54]\n"
     ]
    }
   ],
   "source": [
    "new_model = LinearRegression().fit(x, y.reshape((-1,1)))\n",
    "print('intercept:', model.intercept_)\n",
    "print('slope:', model.coef_)"
   ]
  },
  {
   "cell_type": "markdown",
   "id": "7ac35084",
   "metadata": {},
   "source": [
    "### Langkah 5: Prediksikan respons"
   ]
  },
  {
   "cell_type": "markdown",
   "id": "3eb60e9a",
   "metadata": {},
   "source": [
    "Untuk mendapatkan respons yang diprediksi, gunakan .predict():"
   ]
  },
  {
   "cell_type": "code",
   "execution_count": 8,
   "id": "d9669017",
   "metadata": {},
   "outputs": [
    {
     "name": "stdout",
     "output_type": "stream",
     "text": [
      "predicted response:\n",
      "[ 8.33333333 13.73333333 19.13333333 24.53333333 29.93333333 35.33333333]\n"
     ]
    }
   ],
   "source": [
    "y_pred = model.predict(x)\n",
    "print('predicted response:', y_pred, sep='\\n')"
   ]
  },
  {
   "cell_type": "code",
   "execution_count": 9,
   "id": "f76f560d",
   "metadata": {},
   "outputs": [
    {
     "data": {
      "image/png": "[encoded data removed]",
      "text/plain": [
       "<Figure size 432x288 with 1 Axes>"
      ]
     },
     "metadata": {
      "needs_background": "light"
     },
     "output_type": "display_data"
    }
   ],
   "source": [
    "plt.scatter(x,y,alpha=0.5)\n",
    "plt.plot(x,y_pred)\n",
    "\n",
    "plt.title('Scatter Plot x and y')\n",
    "plt.xlabel('x')\n",
    "plt.ylabel('y')\n",
    "plt.show()"
   ]
  },
  {
   "cell_type": "code",
   "execution_count": 10,
   "id": "7529c375",
   "metadata": {},
   "outputs": [
    {
     "name": "stdout",
     "output_type": "stream",
     "text": [
      "predicted response:\n",
      "[[ 8.33333333]\n",
      " [13.73333333]\n",
      " [19.13333333]\n",
      " [24.53333333]\n",
      " [29.93333333]\n",
      " [35.33333333]]\n"
     ]
    }
   ],
   "source": [
    "y_pred = model.intercept_+model.coef_*x\n",
    "print('predicted response:', y_pred, sep='\\n')"
   ]
  },
  {
   "cell_type": "code",
   "execution_count": 11,
   "id": "9bfda6f7",
   "metadata": {},
   "outputs": [
    {
     "name": "stdout",
     "output_type": "stream",
     "text": [
      "[[0]\n",
      " [1]\n",
      " [2]\n",
      " [3]\n",
      " [4]]\n",
      "[5.63333333 6.17333333 6.71333333 7.25333333 7.79333333]\n"
     ]
    }
   ],
   "source": [
    "x_new = np.arange(5).reshape((-1,1))\n",
    "print(x_new)\n",
    "y_new = model.predict(x_new)\n",
    "print(y_new)"
   ]
  },
  {
   "cell_type": "markdown",
   "id": "a7609b70",
   "metadata": {},
   "source": [
    "## Multiple Linear Regression Wih Scikit-Learn"
   ]
  },
  {
   "cell_type": "markdown",
   "id": "41176c61",
   "metadata": {},
   "source": [
    "### Langkah 1 dan 2: Impor paket dan kelas, dan berikan data"
   ]
  },
  {
   "cell_type": "markdown",
   "id": "0ae17d84",
   "metadata": {},
   "source": [
    "Pertama, kita mengimpor numpy dan sklearn.linear_model.LinearRegression serta memberikan input dan output yang diketahui:"
   ]
  },
  {
   "cell_type": "code",
   "execution_count": 12,
   "id": "2489f6dc",
   "metadata": {},
   "outputs": [],
   "source": [
    "import numpy as np\n",
    "from sklearn.linear_model import LinearRegression\n",
    "\n",
    "x = [[0, 1], [5, 1], [15, 2], [25, 5], [35, 11], [45, 15], [55, 34], [60, 35] ] \n",
    "y = [4, 5, 20, 14, 32, 22, 38, 43]\n",
    "\n",
    "x, y = np.array(x), np.array(y)"
   ]
  },
  {
   "cell_type": "code",
   "execution_count": 13,
   "id": "85b84816",
   "metadata": {},
   "outputs": [
    {
     "name": "stdout",
     "output_type": "stream",
     "text": [
      "[[ 0  1]\n",
      " [ 5  1]\n",
      " [15  2]\n",
      " [25  5]\n",
      " [35 11]\n",
      " [45 15]\n",
      " [55 34]\n",
      " [60 35]]\n",
      "[ 4  5 20 14 32 22 38 43]\n"
     ]
    }
   ],
   "source": [
    "print(x)\n",
    "print(y)"
   ]
  },
  {
   "cell_type": "markdown",
   "id": "9892e1d5",
   "metadata": {},
   "source": [
    "### Langkah 3: Buat model dan sesuaikan"
   ]
  },
  {
   "cell_type": "code",
   "execution_count": 14,
   "id": "3174ef8b",
   "metadata": {},
   "outputs": [],
   "source": [
    "model = LinearRegression().fit(x,y)"
   ]
  },
  {
   "cell_type": "markdown",
   "id": "2e139d48",
   "metadata": {},
   "source": [
    "### Langkah 4: Dapatkan hasil"
   ]
  },
  {
   "cell_type": "code",
   "execution_count": 15,
   "id": "5cade4b9",
   "metadata": {},
   "outputs": [
    {
     "name": "stdout",
     "output_type": "stream",
     "text": [
      "coefficient of determination: 0.8615939258756776\n",
      "intercept: 5.522579275198183\n",
      "slope: [0.44706965 0.25502548]\n"
     ]
    }
   ],
   "source": [
    "r_sq = model.score(x, y)\n",
    "print('coefficient of determination:', r_sq)\n",
    "print('intercept:', model.intercept_)\n",
    "print('slope:', model.coef_)"
   ]
  },
  {
   "cell_type": "markdown",
   "id": "2792bfa3",
   "metadata": {},
   "source": [
    "### Langkah 5: Prediksikan respons"
   ]
  },
  {
   "cell_type": "code",
   "execution_count": 16,
   "id": "7b759f50",
   "metadata": {},
   "outputs": [
    {
     "name": "stdout",
     "output_type": "stream",
     "text": [
      "predicted response:\n",
      "[ 5.77760476  8.012953   12.73867497 17.9744479  23.97529728 29.4660957\n",
      " 38.78227633 41.27265006]\n"
     ]
    }
   ],
   "source": [
    "y_pred = model.predict(x)\n",
    "print('predicted response:', y_pred, sep='\\n')"
   ]
  },
  {
   "cell_type": "code",
   "execution_count": 17,
   "id": "69f85198",
   "metadata": {},
   "outputs": [
    {
     "name": "stdout",
     "output_type": "stream",
     "text": [
      "predicted response:\n",
      "[ 5.77760476  8.012953   12.73867497 17.9744479  23.97529728 29.4660957\n",
      " 38.78227633 41.27265006]\n"
     ]
    }
   ],
   "source": [
    "y_pred = model.intercept_+np.sum(model.coef_*x, axis=1)\n",
    "print('predicted response:', y_pred, sep='\\n')"
   ]
  },
  {
   "cell_type": "code",
   "execution_count": 18,
   "id": "8db45e84",
   "metadata": {},
   "outputs": [
    {
     "name": "stdout",
     "output_type": "stream",
     "text": [
      "[[0 1]\n",
      " [2 3]\n",
      " [4 5]\n",
      " [6 7]\n",
      " [8 9]]\n",
      "[ 5.77760476  7.18179502  8.58598528  9.99017554 11.3943658 ]\n"
     ]
    }
   ],
   "source": [
    "x_new = np.arange(10).reshape((-1,2))\n",
    "print(x_new)\n",
    "y_new = model.predict(x_new)\n",
    "print(y_new)"
   ]
  },
  {
   "cell_type": "markdown",
   "id": "188cf2e5",
   "metadata": {},
   "source": [
    "## Polynomial Regression With Scikit-Learn"
   ]
  },
  {
   "cell_type": "markdown",
   "id": "aa0263d1",
   "metadata": {},
   "source": [
    "Hanya ada satu langkah tambahan: kita perlu mengubah array input untuk menyertakan non-linear terms seperti 𝑥²"
   ]
  },
  {
   "cell_type": "markdown",
   "id": "ac5d0fb1",
   "metadata": {},
   "source": [
    "### Langkah 1: Impor paket dan kelas"
   ]
  },
  {
   "cell_type": "code",
   "execution_count": 19,
   "id": "c2ae1dc8",
   "metadata": {},
   "outputs": [],
   "source": [
    "import numpy as np\n",
    "from sklearn.linear_model import LinearRegression\n",
    "from sklearn.preprocessing import PolynomialFeatures"
   ]
  },
  {
   "cell_type": "markdown",
   "id": "a9b06aff",
   "metadata": {},
   "source": [
    "### Langkah 2a: Berikan data"
   ]
  },
  {
   "cell_type": "code",
   "execution_count": 20,
   "id": "e3630f76",
   "metadata": {},
   "outputs": [
    {
     "name": "stdout",
     "output_type": "stream",
     "text": [
      "[[ 5]\n",
      " [15]\n",
      " [25]\n",
      " [35]\n",
      " [45]\n",
      " [55]]\n",
      "[15 11  2  8 25 32]\n"
     ]
    }
   ],
   "source": [
    "x = np.array([5, 15, 25, 35, 45, 55]).reshape((-1, 1)) \n",
    "y = np.array([15, 11, 2, 8, 25, 32]) \n",
    "print(x) \n",
    "print(y)"
   ]
  },
  {
   "cell_type": "code",
   "execution_count": 21,
   "id": "8661937c",
   "metadata": {},
   "outputs": [
    {
     "data": {
      "text/plain": [
       "<matplotlib.collections.PathCollection at 0x235b8df16d0>"
      ]
     },
     "execution_count": 21,
     "metadata": {},
     "output_type": "execute_result"
    },
    {
     "data": {
      "image/png": "[encoded data removed]",
      "text/plain": [
       "<Figure size 432x288 with 1 Axes>"
      ]
     },
     "metadata": {
      "needs_background": "light"
     },
     "output_type": "display_data"
    }
   ],
   "source": [
    "plt.scatter(x,y, alpha=0.5)"
   ]
  },
  {
   "cell_type": "markdown",
   "id": "893f626f",
   "metadata": {},
   "source": [
    "### Langkah 2b: Transformasikan data input"
   ]
  },
  {
   "cell_type": "markdown",
   "id": "96305bd7",
   "metadata": {},
   "source": [
    "Mari buat instance dari class ini:"
   ]
  },
  {
   "cell_type": "code",
   "execution_count": 22,
   "id": "7b5b4a5e",
   "metadata": {},
   "outputs": [],
   "source": [
    "transformer = PolynomialFeatures(degree=2, include_bias=False)"
   ]
  },
  {
   "cell_type": "markdown",
   "id": "5ec2aaa5",
   "metadata": {},
   "source": [
    "Kita dapat memberikan beberapa parameter tentang PolynomialFeatures: \n",
    "- degree adalah bilangan bulat (2 secara default) yang mewakili derajat fungsi regresi polinomial. \n",
    "- interaction_only adalah Boolean (Salah secara default) yang memutuskan apakah hanya menyertakan fitur interaksi (Benar) atau semua fitur (Salah).\n",
    "- include_bias adalah Boolean (True secara default) yang memutuskan apakah akan menyertakan kolom bias (intercept) satu (True) atau tidak (False)."
   ]
  },
  {
   "cell_type": "raw",
   "id": "c18e2faf",
   "metadata": {},
   "source": [
    "Sebelum mengaplikasikan transformer, kita harus menyesuaikannya dengan .fit():"
   ]
  },
  {
   "cell_type": "code",
   "execution_count": 23,
   "id": "12c19426",
   "metadata": {},
   "outputs": [
    {
     "data": {
      "text/plain": [
       "PolynomialFeatures(include_bias=False)"
      ]
     },
     "execution_count": 23,
     "metadata": {},
     "output_type": "execute_result"
    }
   ],
   "source": [
    "transformer.fit(x)"
   ]
  },
  {
   "cell_type": "code",
   "execution_count": 24,
   "id": "e5fd13b2",
   "metadata": {},
   "outputs": [
    {
     "data": {
      "text/plain": [
       "PolynomialFeatures(include_bias=False)"
      ]
     },
     "execution_count": 24,
     "metadata": {},
     "output_type": "execute_result"
    }
   ],
   "source": [
    "PolynomialFeatures(degree=2, include_bias=False, interaction_only=False, order='C')"
   ]
  },
  {
   "cell_type": "code",
   "execution_count": 25,
   "id": "9ebf43f0",
   "metadata": {},
   "outputs": [],
   "source": [
    "# menerapkan .transform()\n",
    "x_ = transformer.transform(x)"
   ]
  },
  {
   "cell_type": "markdown",
   "id": "9e428957",
   "metadata": {},
   "source": [
    "Kita juga bisa menggunakan .fit_transform() untuk mengganti tiga pernyataan sebelumnya hanya dengan satu:"
   ]
  },
  {
   "cell_type": "code",
   "execution_count": 26,
   "id": "3182ec9f",
   "metadata": {},
   "outputs": [],
   "source": [
    "x_ = PolynomialFeatures(degree=2, include_bias=False).fit_transform(x)"
   ]
  },
  {
   "cell_type": "code",
   "execution_count": 27,
   "id": "9f5a8ab9",
   "metadata": {},
   "outputs": [
    {
     "name": "stdout",
     "output_type": "stream",
     "text": [
      "[[   5.   25.]\n",
      " [  15.  225.]\n",
      " [  25.  625.]\n",
      " [  35. 1225.]\n",
      " [  45. 2025.]\n",
      " [  55. 3025.]]\n"
     ]
    }
   ],
   "source": [
    "print(x_)"
   ]
  },
  {
   "cell_type": "markdown",
   "id": "abddeeaf",
   "metadata": {},
   "source": [
    "### Langkah 3: Buat model dan sesuaikan"
   ]
  },
  {
   "cell_type": "code",
   "execution_count": 28,
   "id": "6bc1eb09",
   "metadata": {},
   "outputs": [],
   "source": [
    "model = LinearRegression().fit(x_,y)"
   ]
  },
  {
   "cell_type": "markdown",
   "id": "8f49752c",
   "metadata": {},
   "source": [
    "### Langkah 4: Dapatkan hasil"
   ]
  },
  {
   "cell_type": "code",
   "execution_count": 29,
   "id": "f16b44a5",
   "metadata": {},
   "outputs": [
    {
     "name": "stdout",
     "output_type": "stream",
     "text": [
      "coefficient of determination: 0.8908516262498563\n",
      "intercept: 21.372321428571453\n",
      "slope: [-1.32357143  0.02839286]\n"
     ]
    }
   ],
   "source": [
    "r_sq = model.score(x_, y)\n",
    "print('coefficient of determination:', r_sq)\n",
    "print('intercept:', model.intercept_)\n",
    "print('slope:', model.coef_)"
   ]
  },
  {
   "cell_type": "code",
   "execution_count": 30,
   "id": "71b5d33d",
   "metadata": {},
   "outputs": [],
   "source": [
    "x_ = PolynomialFeatures(degree=2, include_bias=True).fit_transform(x)"
   ]
  },
  {
   "cell_type": "code",
   "execution_count": 31,
   "id": "dfd8403d",
   "metadata": {},
   "outputs": [
    {
     "name": "stdout",
     "output_type": "stream",
     "text": [
      "[[1.000e+00 5.000e+00 2.500e+01]\n",
      " [1.000e+00 1.500e+01 2.250e+02]\n",
      " [1.000e+00 2.500e+01 6.250e+02]\n",
      " [1.000e+00 3.500e+01 1.225e+03]\n",
      " [1.000e+00 4.500e+01 2.025e+03]\n",
      " [1.000e+00 5.500e+01 3.025e+03]]\n"
     ]
    }
   ],
   "source": [
    "print(x_)"
   ]
  },
  {
   "cell_type": "code",
   "execution_count": 32,
   "id": "15cc1250",
   "metadata": {},
   "outputs": [],
   "source": [
    "model = LinearRegression(fit_intercept=False).fit(x_,y)"
   ]
  },
  {
   "cell_type": "code",
   "execution_count": 33,
   "id": "9a05d375",
   "metadata": {},
   "outputs": [
    {
     "name": "stdout",
     "output_type": "stream",
     "text": [
      "coefficient of determination: 0.8908516262498563\n",
      "intercept: 0.0\n",
      "slope: [21.37232143 -1.32357143  0.02839286]\n"
     ]
    }
   ],
   "source": [
    "r_sq = model.score(x_, y)\n",
    "print('coefficient of determination:', r_sq)\n",
    "print('intercept:', model.intercept_)\n",
    "print('slope:', model.coef_)"
   ]
  },
  {
   "cell_type": "markdown",
   "id": "7c4d0347",
   "metadata": {},
   "source": [
    "### Langkah 5: Prediksikan respons"
   ]
  },
  {
   "cell_type": "code",
   "execution_count": 34,
   "id": "68d62a55",
   "metadata": {},
   "outputs": [
    {
     "name": "stdout",
     "output_type": "stream",
     "text": [
      "predicted response:\n",
      "[15.46428571  7.90714286  6.02857143  9.82857143 19.30714286 34.46428571]\n"
     ]
    }
   ],
   "source": [
    "# cukup gunakan .predict()\n",
    "y_pred = model.predict(x_)\n",
    "print('predicted response:', y_pred, sep='\\n')"
   ]
  },
  {
   "cell_type": "code",
   "execution_count": 35,
   "id": "eab8aee1",
   "metadata": {},
   "outputs": [],
   "source": [
    "# Step 1: Import packages \n",
    "import numpy as np \n",
    "from sklearn.linear_model import LinearRegression \n",
    "from sklearn.preprocessing import PolynomialFeatures \n",
    "\n",
    "# Step 2a: Provide data \n",
    "x = [[0, 1], [5, 1], [15, 2], [25, 5], [35, 11], [45, 15], [55, 34], [60, 35]] \n",
    "y = [4, 5, 20, 14, 32, 22, 38, 43] \n",
    "x, y = np.array(x), np.array(y) \n",
    "\n",
    "# Step 2b: Transform input data \n",
    "x_ = PolynomialFeatures(degree=2, include_bias=False).fit_transform(x) \n",
    "\n",
    "# Step 3: Create a model and fit it \n",
    "model = LinearRegression().fit(x_, y) \n",
    "\n",
    "# Step 4: Get results \n",
    "r_sq = model.score(x_, y) \n",
    "intercept, coefficients = model.intercept_, model.coef_ \n",
    "\n",
    "# Step 5: Predict \n",
    "y_pred = model.predict(x_)"
   ]
  },
  {
   "cell_type": "code",
   "execution_count": 36,
   "id": "de55f163",
   "metadata": {},
   "outputs": [
    {
     "name": "stdout",
     "output_type": "stream",
     "text": [
      "coefficient of determination: 0.9453701449127823\n",
      "intercept: 0.8430556452397582\n",
      "coefficient:\n",
      "[ 2.44828275  0.16160353 -0.15259677  0.47928683 -0.4641851 ]\n",
      "predicted response:\n",
      "[ 0.54047408 11.36340283 16.07809622 15.79139    29.73858619 23.50834636\n",
      " 39.05631386 41.92339046]\n"
     ]
    }
   ],
   "source": [
    "print('coefficient of determination:', r_sq)\n",
    "print('intercept:', intercept)\n",
    "print('coefficient:', coefficients, sep='\\n')\n",
    "print('predicted response:', y_pred, sep='\\n')"
   ]
  },
  {
   "cell_type": "markdown",
   "id": "a98f5a93",
   "metadata": {},
   "source": [
    "## Advanced Linear Regression With statsmodels"
   ]
  },
  {
   "cell_type": "markdown",
   "id": "e7cbe00d",
   "metadata": {},
   "source": [
    "Biasanya, statsmodels diinginkan ketika dibutuhkan hasil yang lebih rinci"
   ]
  },
  {
   "cell_type": "markdown",
   "id": "e72515bd",
   "metadata": {},
   "source": [
    "### Step 1: Import packages"
   ]
  },
  {
   "cell_type": "code",
   "execution_count": 38,
   "id": "bc7ea3c3",
   "metadata": {},
   "outputs": [],
   "source": [
    "# mengimpor statsmodels.api:\n",
    "import numpy as np\n",
    "import statsmodels.api as sm"
   ]
  },
  {
   "cell_type": "markdown",
   "id": "4bb41f47",
   "metadata": {},
   "source": [
    "### Step 2: Provide data and transform inputs"
   ]
  },
  {
   "cell_type": "code",
   "execution_count": 39,
   "id": "ec83b9e9",
   "metadata": {},
   "outputs": [
    {
     "name": "stdout",
     "output_type": "stream",
     "text": [
      "[[ 0  1]\n",
      " [ 5  1]\n",
      " [15  2]\n",
      " [25  5]\n",
      " [35 11]\n",
      " [45 15]\n",
      " [55 34]\n",
      " [60 35]]\n"
     ]
    }
   ],
   "source": [
    "x = [[0, 1], [5, 1], [15, 2], [25, 5], [35, 11], [45, 15], [55, 34], [60, 35]] \n",
    "y = [4, 5, 20, 14, 32, 22, 38, 43] \n",
    "x, y = np.array(x), np.array(y) \n",
    "print(x)"
   ]
  },
  {
   "cell_type": "code",
   "execution_count": 40,
   "id": "691c1a3d",
   "metadata": {},
   "outputs": [],
   "source": [
    "#  add_constant mengambil array input x sebagai argumen dan mengembalikan array baru dengan kolom yang disisipkan di awal.\n",
    "x = sm.add_constant(x)"
   ]
  },
  {
   "cell_type": "code",
   "execution_count": 41,
   "id": "70f8d643",
   "metadata": {},
   "outputs": [
    {
     "name": "stdout",
     "output_type": "stream",
     "text": [
      "[[ 1.  0.  1.]\n",
      " [ 1.  5.  1.]\n",
      " [ 1. 15.  2.]\n",
      " [ 1. 25.  5.]\n",
      " [ 1. 35. 11.]\n",
      " [ 1. 45. 15.]\n",
      " [ 1. 55. 34.]\n",
      " [ 1. 60. 35.]]\n",
      "[ 4  5 20 14 32 22 38 43]\n"
     ]
    }
   ],
   "source": [
    "print(x)\n",
    "print(y)"
   ]
  },
  {
   "cell_type": "markdown",
   "id": "13f4bed1",
   "metadata": {},
   "source": [
    "### Langkah 3: Buat model dan sesuaikan"
   ]
  },
  {
   "cell_type": "markdown",
   "id": "f0002022",
   "metadata": {},
   "source": [
    "Regression model didasarkan pada ordinary least squares adalah turunan dari statsmodels.regression.linear_model.OLS."
   ]
  },
  {
   "cell_type": "code",
   "execution_count": 46,
   "id": "dbf06083",
   "metadata": {},
   "outputs": [],
   "source": [
    "model = sm.OLS(y,x)"
   ]
  },
  {
   "cell_type": "code",
   "execution_count": 47,
   "id": "ec067c4d",
   "metadata": {},
   "outputs": [],
   "source": [
    "# menerapkan .fit() pada model tersebut\n",
    "results = model.fit()"
   ]
  },
  {
   "cell_type": "markdown",
   "id": "ee197a3e",
   "metadata": {},
   "source": [
    "### Langkah 4: Dapatkan hasil"
   ]
  },
  {
   "cell_type": "markdown",
   "id": "d2fe045c",
   "metadata": {},
   "source": [
    "Kita bisa memanggil .summary() untuk mendapatkan tabel dengan hasil regresi linier:"
   ]
  },
  {
   "cell_type": "code",
   "execution_count": 48,
   "id": "cc8e78dc",
   "metadata": {},
   "outputs": [
    {
     "name": "stdout",
     "output_type": "stream",
     "text": [
      "                            OLS Regression Results                            \n",
      "==============================================================================\n",
      "Dep. Variable:                      y   R-squared:                       0.862\n",
      "Model:                            OLS   Adj. R-squared:                  0.806\n",
      "Method:                 Least Squares   F-statistic:                     15.56\n",
      "Date:                Wed, 06 Apr 2022   Prob (F-statistic):            0.00713\n",
      "Time:                        14:19:05   Log-Likelihood:                -24.316\n",
      "No. Observations:                   8   AIC:                             54.63\n",
      "Df Residuals:                       5   BIC:                             54.87\n",
      "Df Model:                           2                                         \n",
      "Covariance Type:            nonrobust                                         \n",
      "==============================================================================\n",
      "                 coef    std err          t      P>|t|      [0.025      0.975]\n",
      "------------------------------------------------------------------------------\n",
      "const          5.5226      4.431      1.246      0.268      -5.867      16.912\n",
      "x1             0.4471      0.285      1.567      0.178      -0.286       1.180\n",
      "x2             0.2550      0.453      0.563      0.598      -0.910       1.420\n",
      "==============================================================================\n",
      "Omnibus:                        0.561   Durbin-Watson:                   3.268\n",
      "Prob(Omnibus):                  0.755   Jarque-Bera (JB):                0.534\n",
      "Skew:                           0.380   Prob(JB):                        0.766\n",
      "Kurtosis:                       1.987   Cond. No.                         80.1\n",
      "==============================================================================\n",
      "\n",
      "Notes:\n",
      "[1] Standard Errors assume that the covariance matrix of the errors is correctly specified.\n"
     ]
    },
    {
     "name": "stderr",
     "output_type": "stream",
     "text": [
      "C:\\Users\\ACER\\anaconda3\\lib\\site-packages\\scipy\\stats\\stats.py:1541: UserWarning: kurtosistest only valid for n>=20 ... continuing anyway, n=8\n",
      "  warnings.warn(\"kurtosistest only valid for n>=20 ... continuing \"\n"
     ]
    }
   ],
   "source": [
    "print(results.summary())"
   ]
  },
  {
   "cell_type": "code",
   "execution_count": 49,
   "id": "433e83ab",
   "metadata": {},
   "outputs": [
    {
     "name": "stdout",
     "output_type": "stream",
     "text": [
      "coefficient of determination: 0.8615939258756776\n",
      "adjusted coefficient of determination: 0.8062314962259487\n",
      "regression coefficient: [5.52257928 0.44706965 0.25502548]\n"
     ]
    }
   ],
   "source": [
    "print('coefficient of determination:', results.rsquared)\n",
    "print('adjusted coefficient of determination:', results.rsquared_adj)\n",
    "print('regression coefficient:', results.params)"
   ]
  },
  {
   "cell_type": "markdown",
   "id": "90b5fd70",
   "metadata": {},
   "source": [
    "### Langkah 5: Prediksikan respons"
   ]
  },
  {
   "cell_type": "markdown",
   "id": "15700903",
   "metadata": {},
   "source": [
    "membuat model menggunakan .fittedvalues atau .predict() dengan array input sebagai argumen"
   ]
  },
  {
   "cell_type": "code",
   "execution_count": 50,
   "id": "46c2aead",
   "metadata": {},
   "outputs": [
    {
     "name": "stdout",
     "output_type": "stream",
     "text": [
      "predicted response:\n",
      "[ 5.77760476  8.012953   12.73867497 17.9744479  23.97529728 29.4660957\n",
      " 38.78227633 41.27265006]\n",
      "predicted response:\n",
      "[ 5.77760476  8.012953   12.73867497 17.9744479  23.97529728 29.4660957\n",
      " 38.78227633 41.27265006]\n"
     ]
    }
   ],
   "source": [
    "print('predicted response:', results.fittedvalues, sep='\\n')\n",
    "print('predicted response:', results.predict(x), sep='\\n')"
   ]
  },
  {
   "cell_type": "code",
   "execution_count": 51,
   "id": "398b1332",
   "metadata": {},
   "outputs": [
    {
     "name": "stdout",
     "output_type": "stream",
     "text": [
      "[[1. 0. 1.]\n",
      " [1. 2. 3.]\n",
      " [1. 4. 5.]\n",
      " [1. 6. 7.]\n",
      " [1. 8. 9.]]\n",
      "[ 5.77760476  7.18179502  8.58598528  9.99017554 11.3943658 ]\n"
     ]
    }
   ],
   "source": [
    "x_new = sm.add_constant(np.arange(10).reshape((-1,2)))\n",
    "print(x_new)\n",
    "y_new = results.predict(x_new)\n",
    "print(y_new)"
   ]
  },
  {
   "cell_type": "markdown",
   "id": "b5ebcea1",
   "metadata": {},
   "source": [
    "# Implementing Linear Regression on Real Dataset"
   ]
  },
  {
   "cell_type": "markdown",
   "id": "2a4d4c4f",
   "metadata": {},
   "source": [
    "## Menggunakan Statsmodels"
   ]
  },
  {
   "cell_type": "code",
   "execution_count": 52,
   "id": "9e1ec1ac",
   "metadata": {},
   "outputs": [],
   "source": [
    "import statsmodels.api as sm\n",
    "from sklearn import datasets ## imports datasets from scikit-learn\n",
    "\n",
    "data = datasets.load_boston() ## loads boston dataset from datasests library"
   ]
  },
  {
   "cell_type": "code",
   "execution_count": 53,
   "id": "124b6430",
   "metadata": {},
   "outputs": [
    {
     "name": "stdout",
     "output_type": "stream",
     "text": [
      ".. _boston_dataset:\n",
      "\n",
      "Boston house prices dataset\n",
      "---------------------------\n",
      "\n",
      "**Data Set Characteristics:**  \n",
      "\n",
      "    :Number of Instances: 506 \n",
      "\n",
      "    :Number of Attributes: 13 numeric/categorical predictive. Median Value (attribute 14) is usually the target.\n",
      "\n",
      "    :Attribute Information (in order):\n",
      "        - CRIM     per capita crime rate by town\n",
      "        - ZN       proportion of residential land zoned for lots over 25,000 sq.ft.\n",
      "        - INDUS    proportion of non-retail business acres per town\n",
      "        - CHAS     Charles River dummy variable (= 1 if tract bounds river; 0 otherwise)\n",
      "        - NOX      nitric oxides concentration (parts per 10 million)\n",
      "        - RM       average number of rooms per dwelling\n",
      "        - AGE      proportion of owner-occupied units built prior to 1940\n",
      "        - DIS      weighted distances to five Boston employment centres\n",
      "        - RAD      index of accessibility to radial highways\n",
      "        - TAX      full-value property-tax rate per $10,000\n",
      "        - PTRATIO  pupil-teacher ratio by town\n",
      "        - B        1000(Bk - 0.63)^2 where Bk is the proportion of black people by town\n",
      "        - LSTAT    % lower status of the population\n",
      "        - MEDV     Median value of owner-occupied homes in $1000's\n",
      "\n",
      "    :Missing Attribute Values: None\n",
      "\n",
      "    :Creator: Harrison, D. and Rubinfeld, D.L.\n",
      "\n",
      "This is a copy of UCI ML housing dataset.\n",
      "https://archive.ics.uci.edu/ml/machine-learning-databases/housing/\n",
      "\n",
      "\n",
      "This dataset was taken from the StatLib library which is maintained at Carnegie Mellon University.\n",
      "\n",
      "The Boston house-price data of Harrison, D. and Rubinfeld, D.L. 'Hedonic\n",
      "prices and the demand for clean air', J. Environ. Economics & Management,\n",
      "vol.5, 81-102, 1978.   Used in Belsley, Kuh & Welsch, 'Regression diagnostics\n",
      "...', Wiley, 1980.   N.B. Various transformations are used in the table on\n",
      "pages 244-261 of the latter.\n",
      "\n",
      "The Boston house-price data has been used in many machine learning papers that address regression\n",
      "problems.   \n",
      "     \n",
      ".. topic:: References\n",
      "\n",
      "   - Belsley, Kuh & Welsch, 'Regression diagnostics: Identifying Influential Data and Sources of Collinearity', Wiley, 1980. 244-261.\n",
      "   - Quinlan,R. (1993). Combining Instance-Based and Model-Based Learning. In Proceedings on the Tenth International Conference of Machine Learning, 236-243, University of Massachusetts, Amherst. Morgan Kaufmann.\n",
      "\n"
     ]
    }
   ],
   "source": [
    "print(data.DESCR)"
   ]
  },
  {
   "cell_type": "code",
   "execution_count": 56,
   "id": "aba717b0",
   "metadata": {},
   "outputs": [],
   "source": [
    "import numpy as np\n",
    "import pandas as pd\n",
    "\n",
    "# define the data/predictors as the pre-set feature names\n",
    "df = pd.DataFrame(data.data, columns=data.feature_names)\n",
    "\n",
    "# put the target (housing value -- MEDV) in another DataFrame\n",
    "target = pd.DataFrame(data.target, columns=['MEDV'])"
   ]
  },
  {
   "cell_type": "code",
   "execution_count": 57,
   "id": "8f95235c",
   "metadata": {},
   "outputs": [
    {
     "data": {
      "text/html": [
       "<div>\n",
       "<style scoped>\n",
       "    .dataframe tbody tr th:only-of-type {\n",
       "        vertical-align: middle;\n",
       "    }\n",
       "\n",
       "    .dataframe tbody tr th {\n",
       "        vertical-align: top;\n",
       "    }\n",
       "\n",
       "    .dataframe thead th {\n",
       "        text-align: right;\n",
       "    }\n",
       "</style>\n",
       "<table border=\"1\" class=\"dataframe\">\n",
       "  <thead>\n",
       "    <tr style=\"text-align: right;\">\n",
       "      <th></th>\n",
       "      <th>CRIM</th>\n",
       "      <th>ZN</th>\n",
       "      <th>INDUS</th>\n",
       "      <th>CHAS</th>\n",
       "      <th>NOX</th>\n",
       "      <th>RM</th>\n",
       "      <th>AGE</th>\n",
       "      <th>DIS</th>\n",
       "      <th>RAD</th>\n",
       "      <th>TAX</th>\n",
       "      <th>PTRATIO</th>\n",
       "      <th>B</th>\n",
       "      <th>LSTAT</th>\n",
       "    </tr>\n",
       "  </thead>\n",
       "  <tbody>\n",
       "    <tr>\n",
       "      <th>0</th>\n",
       "      <td>0.00632</td>\n",
       "      <td>18.0</td>\n",
       "      <td>2.31</td>\n",
       "      <td>0.0</td>\n",
       "      <td>0.538</td>\n",
       "      <td>6.575</td>\n",
       "      <td>65.2</td>\n",
       "      <td>4.0900</td>\n",
       "      <td>1.0</td>\n",
       "      <td>296.0</td>\n",
       "      <td>15.3</td>\n",
       "      <td>396.90</td>\n",
       "      <td>4.98</td>\n",
       "    </tr>\n",
       "    <tr>\n",
       "      <th>1</th>\n",
       "      <td>0.02731</td>\n",
       "      <td>0.0</td>\n",
       "      <td>7.07</td>\n",
       "      <td>0.0</td>\n",
       "      <td>0.469</td>\n",
       "      <td>6.421</td>\n",
       "      <td>78.9</td>\n",
       "      <td>4.9671</td>\n",
       "      <td>2.0</td>\n",
       "      <td>242.0</td>\n",
       "      <td>17.8</td>\n",
       "      <td>396.90</td>\n",
       "      <td>9.14</td>\n",
       "    </tr>\n",
       "    <tr>\n",
       "      <th>2</th>\n",
       "      <td>0.02729</td>\n",
       "      <td>0.0</td>\n",
       "      <td>7.07</td>\n",
       "      <td>0.0</td>\n",
       "      <td>0.469</td>\n",
       "      <td>7.185</td>\n",
       "      <td>61.1</td>\n",
       "      <td>4.9671</td>\n",
       "      <td>2.0</td>\n",
       "      <td>242.0</td>\n",
       "      <td>17.8</td>\n",
       "      <td>392.83</td>\n",
       "      <td>4.03</td>\n",
       "    </tr>\n",
       "    <tr>\n",
       "      <th>3</th>\n",
       "      <td>0.03237</td>\n",
       "      <td>0.0</td>\n",
       "      <td>2.18</td>\n",
       "      <td>0.0</td>\n",
       "      <td>0.458</td>\n",
       "      <td>6.998</td>\n",
       "      <td>45.8</td>\n",
       "      <td>6.0622</td>\n",
       "      <td>3.0</td>\n",
       "      <td>222.0</td>\n",
       "      <td>18.7</td>\n",
       "      <td>394.63</td>\n",
       "      <td>2.94</td>\n",
       "    </tr>\n",
       "    <tr>\n",
       "      <th>4</th>\n",
       "      <td>0.06905</td>\n",
       "      <td>0.0</td>\n",
       "      <td>2.18</td>\n",
       "      <td>0.0</td>\n",
       "      <td>0.458</td>\n",
       "      <td>7.147</td>\n",
       "      <td>54.2</td>\n",
       "      <td>6.0622</td>\n",
       "      <td>3.0</td>\n",
       "      <td>222.0</td>\n",
       "      <td>18.7</td>\n",
       "      <td>396.90</td>\n",
       "      <td>5.33</td>\n",
       "    </tr>\n",
       "  </tbody>\n",
       "</table>\n",
       "</div>"
      ],
      "text/plain": [
       "      CRIM    ZN  INDUS  CHAS    NOX     RM   AGE     DIS  RAD    TAX  \\\n",
       "0  0.00632  18.0   2.31   0.0  0.538  6.575  65.2  4.0900  1.0  296.0   \n",
       "1  0.02731   0.0   7.07   0.0  0.469  6.421  78.9  4.9671  2.0  242.0   \n",
       "2  0.02729   0.0   7.07   0.0  0.469  7.185  61.1  4.9671  2.0  242.0   \n",
       "3  0.03237   0.0   2.18   0.0  0.458  6.998  45.8  6.0622  3.0  222.0   \n",
       "4  0.06905   0.0   2.18   0.0  0.458  7.147  54.2  6.0622  3.0  222.0   \n",
       "\n",
       "   PTRATIO       B  LSTAT  \n",
       "0     15.3  396.90   4.98  \n",
       "1     17.8  396.90   9.14  \n",
       "2     17.8  392.83   4.03  \n",
       "3     18.7  394.63   2.94  \n",
       "4     18.7  396.90   5.33  "
      ]
     },
     "execution_count": 57,
     "metadata": {},
     "output_type": "execute_result"
    }
   ],
   "source": [
    "df.head()"
   ]
  },
  {
   "cell_type": "code",
   "execution_count": 58,
   "id": "f3e20f88",
   "metadata": {},
   "outputs": [
    {
     "data": {
      "text/html": [
       "<div>\n",
       "<style scoped>\n",
       "    .dataframe tbody tr th:only-of-type {\n",
       "        vertical-align: middle;\n",
       "    }\n",
       "\n",
       "    .dataframe tbody tr th {\n",
       "        vertical-align: top;\n",
       "    }\n",
       "\n",
       "    .dataframe thead th {\n",
       "        text-align: right;\n",
       "    }\n",
       "</style>\n",
       "<table border=\"1\" class=\"dataframe\">\n",
       "  <thead>\n",
       "    <tr style=\"text-align: right;\">\n",
       "      <th></th>\n",
       "      <th>MEDV</th>\n",
       "    </tr>\n",
       "  </thead>\n",
       "  <tbody>\n",
       "    <tr>\n",
       "      <th>0</th>\n",
       "      <td>24.0</td>\n",
       "    </tr>\n",
       "    <tr>\n",
       "      <th>1</th>\n",
       "      <td>21.6</td>\n",
       "    </tr>\n",
       "    <tr>\n",
       "      <th>2</th>\n",
       "      <td>34.7</td>\n",
       "    </tr>\n",
       "    <tr>\n",
       "      <th>3</th>\n",
       "      <td>33.4</td>\n",
       "    </tr>\n",
       "    <tr>\n",
       "      <th>4</th>\n",
       "      <td>36.2</td>\n",
       "    </tr>\n",
       "  </tbody>\n",
       "</table>\n",
       "</div>"
      ],
      "text/plain": [
       "   MEDV\n",
       "0  24.0\n",
       "1  21.6\n",
       "2  34.7\n",
       "3  33.4\n",
       "4  36.2"
      ]
     },
     "execution_count": 58,
     "metadata": {},
     "output_type": "execute_result"
    }
   ],
   "source": [
    "target.head()"
   ]
  },
  {
   "cell_type": "code",
   "execution_count": 59,
   "id": "2ba78c3b",
   "metadata": {},
   "outputs": [
    {
     "data": {
      "text/html": [
       "<table class=\"simpletable\">\n",
       "<caption>OLS Regression Results</caption>\n",
       "<tr>\n",
       "  <th>Dep. Variable:</th>          <td>MEDV</td>       <th>  R-squared (uncentered):</th>      <td>   0.901</td> \n",
       "</tr>\n",
       "<tr>\n",
       "  <th>Model:</th>                   <td>OLS</td>       <th>  Adj. R-squared (uncentered):</th> <td>   0.901</td> \n",
       "</tr>\n",
       "<tr>\n",
       "  <th>Method:</th>             <td>Least Squares</td>  <th>  F-statistic:       </th>          <td>   4615.</td> \n",
       "</tr>\n",
       "<tr>\n",
       "  <th>Date:</th>             <td>Wed, 06 Apr 2022</td> <th>  Prob (F-statistic):</th>          <td>3.74e-256</td>\n",
       "</tr>\n",
       "<tr>\n",
       "  <th>Time:</th>                 <td>14:28:21</td>     <th>  Log-Likelihood:    </th>          <td> -1747.1</td> \n",
       "</tr>\n",
       "<tr>\n",
       "  <th>No. Observations:</th>      <td>   506</td>      <th>  AIC:               </th>          <td>   3496.</td> \n",
       "</tr>\n",
       "<tr>\n",
       "  <th>Df Residuals:</th>          <td>   505</td>      <th>  BIC:               </th>          <td>   3500.</td> \n",
       "</tr>\n",
       "<tr>\n",
       "  <th>Df Model:</th>              <td>     1</td>      <th>                     </th>              <td> </td>    \n",
       "</tr>\n",
       "<tr>\n",
       "  <th>Covariance Type:</th>      <td>nonrobust</td>    <th>                     </th>              <td> </td>    \n",
       "</tr>\n",
       "</table>\n",
       "<table class=\"simpletable\">\n",
       "<tr>\n",
       "   <td></td>     <th>coef</th>     <th>std err</th>      <th>t</th>      <th>P>|t|</th>  <th>[0.025</th>    <th>0.975]</th>  \n",
       "</tr>\n",
       "<tr>\n",
       "  <th>RM</th> <td>    3.6534</td> <td>    0.054</td> <td>   67.930</td> <td> 0.000</td> <td>    3.548</td> <td>    3.759</td>\n",
       "</tr>\n",
       "</table>\n",
       "<table class=\"simpletable\">\n",
       "<tr>\n",
       "  <th>Omnibus:</th>       <td>83.295</td> <th>  Durbin-Watson:     </th> <td>   0.493</td>\n",
       "</tr>\n",
       "<tr>\n",
       "  <th>Prob(Omnibus):</th> <td> 0.000</td> <th>  Jarque-Bera (JB):  </th> <td> 152.507</td>\n",
       "</tr>\n",
       "<tr>\n",
       "  <th>Skew:</th>          <td> 0.955</td> <th>  Prob(JB):          </th> <td>7.65e-34</td>\n",
       "</tr>\n",
       "<tr>\n",
       "  <th>Kurtosis:</th>      <td> 4.894</td> <th>  Cond. No.          </th> <td>    1.00</td>\n",
       "</tr>\n",
       "</table><br/><br/>Notes:<br/>[1] R² is computed without centering (uncentered) since the model does not contain a constant.<br/>[2] Standard Errors assume that the covariance matrix of the errors is correctly specified."
      ],
      "text/plain": [
       "<class 'statsmodels.iolib.summary.Summary'>\n",
       "\"\"\"\n",
       "                                 OLS Regression Results                                \n",
       "=======================================================================================\n",
       "Dep. Variable:                   MEDV   R-squared (uncentered):                   0.901\n",
       "Model:                            OLS   Adj. R-squared (uncentered):              0.901\n",
       "Method:                 Least Squares   F-statistic:                              4615.\n",
       "Date:                Wed, 06 Apr 2022   Prob (F-statistic):                   3.74e-256\n",
       "Time:                        14:28:21   Log-Likelihood:                         -1747.1\n",
       "No. Observations:                 506   AIC:                                      3496.\n",
       "Df Residuals:                     505   BIC:                                      3500.\n",
       "Df Model:                           1                                                  \n",
       "Covariance Type:            nonrobust                                                  \n",
       "==============================================================================\n",
       "                 coef    std err          t      P>|t|      [0.025      0.975]\n",
       "------------------------------------------------------------------------------\n",
       "RM             3.6534      0.054     67.930      0.000       3.548       3.759\n",
       "==============================================================================\n",
       "Omnibus:                       83.295   Durbin-Watson:                   0.493\n",
       "Prob(Omnibus):                  0.000   Jarque-Bera (JB):              152.507\n",
       "Skew:                           0.955   Prob(JB):                     7.65e-34\n",
       "Kurtosis:                       4.894   Cond. No.                         1.00\n",
       "==============================================================================\n",
       "\n",
       "Notes:\n",
       "[1] R² is computed without centering (uncentered) since the model does not contain a constant.\n",
       "[2] Standard Errors assume that the covariance matrix of the errors is correctly specified.\n",
       "\"\"\""
      ]
     },
     "execution_count": 59,
     "metadata": {},
     "output_type": "execute_result"
    }
   ],
   "source": [
    "X = df['RM']\n",
    "y = target['MEDV']\n",
    "\n",
    "model = sm.OLS(y, X).fit()\n",
    "predictions = model.predict(X)\n",
    "\n",
    "model.summary()"
   ]
  },
  {
   "cell_type": "code",
   "execution_count": 60,
   "id": "7c605039",
   "metadata": {},
   "outputs": [
    {
     "data": {
      "image/png": "[encoded data removed]",
      "text/plain": [
       "<Figure size 432x288 with 1 Axes>"
      ]
     },
     "metadata": {
      "needs_background": "light"
     },
     "output_type": "display_data"
    }
   ],
   "source": [
    "plt.scatter(X, y, alpha=0.5)\n",
    "plt.plot(X, predictions)\n",
    "plt.title('Scatter plot x and y')\n",
    "plt.xlabel('x')\n",
    "plt.ylabel('y')\n",
    "plt.show()"
   ]
  },
  {
   "cell_type": "markdown",
   "id": "0f917f3d",
   "metadata": {},
   "source": [
    "## Menggunakan SKlearn"
   ]
  },
  {
   "cell_type": "code",
   "execution_count": 61,
   "id": "56c5d05f",
   "metadata": {},
   "outputs": [],
   "source": [
    "from sklearn import linear_model"
   ]
  },
  {
   "cell_type": "code",
   "execution_count": 62,
   "id": "cf11d0fc",
   "metadata": {},
   "outputs": [],
   "source": [
    "from sklearn import datasets ## imports datasets from scikit-learn\n",
    "data = datasets.load_boston() ## loads boston dataset from datasests library"
   ]
  },
  {
   "cell_type": "code",
   "execution_count": 63,
   "id": "e3851a14",
   "metadata": {},
   "outputs": [],
   "source": [
    "# define the data/predictors as the pre-set feature names\n",
    "df = pd.DataFrame(data.data, columns=data.feature_names)\n",
    "\n",
    "# put the target (housing value -- MEDV) in another DataFrame\n",
    "target = pd.DataFrame(data.target, columns=['MEDV'])"
   ]
  },
  {
   "cell_type": "code",
   "execution_count": 66,
   "id": "1efb652d",
   "metadata": {},
   "outputs": [],
   "source": [
    "X = df\n",
    "y = target['MEDV']"
   ]
  },
  {
   "cell_type": "code",
   "execution_count": 67,
   "id": "1ccd4ddf",
   "metadata": {},
   "outputs": [],
   "source": [
    "lm = linear_model.LinearRegression()\n",
    "model = lm.fit(X,y)"
   ]
  },
  {
   "cell_type": "code",
   "execution_count": 68,
   "id": "d07190d0",
   "metadata": {},
   "outputs": [
    {
     "name": "stdout",
     "output_type": "stream",
     "text": [
      "[30.00384338 25.02556238 30.56759672 28.60703649 27.94352423 25.25628446\n",
      " 23.00180827 19.53598843 11.52363685 18.92026211 18.99949651 21.58679568\n",
      " 20.90652153 19.55290281 19.28348205 19.29748321 20.52750979 16.91140135\n",
      " 16.17801106 18.40613603 12.52385753 17.67103669 15.83288129 13.80628535\n",
      " 15.67833832 13.38668561 15.46397655 14.70847428 19.54737285 20.8764282\n",
      " 11.45511759 18.05923295  8.81105736 14.28275814 13.70675891 23.81463526\n",
      " 22.34193708 23.10891142 22.91502612 31.35762569 34.21510225 28.02056414\n",
      " 25.20386628 24.60979273 22.94149176 22.09669817 20.42320032 18.03655088\n",
      "  9.10655377 17.20607751 21.28152535 23.97222285 27.6558508  24.04901809\n",
      " 15.3618477  31.15264947 24.85686978 33.10919806 21.77537987 21.08493555\n",
      " 17.8725804  18.51110208 23.98742856 22.55408869 23.37308644 30.36148358\n",
      " 25.53056512 21.11338564 17.42153786 20.78483633 25.20148859 21.7426577\n",
      " 24.55744957 24.04295712 25.50499716 23.9669302  22.94545403 23.35699818\n",
      " 21.26198266 22.42817373 28.40576968 26.99486086 26.03576297 25.05873482\n",
      " 24.78456674 27.79049195 22.16853423 25.89276415 30.67461827 30.83110623\n",
      " 27.1190194  27.41266734 28.94122762 29.08105546 27.03977365 28.62459949\n",
      " 24.72744978 35.78159518 35.11454587 32.25102801 24.58022019 25.59413475\n",
      " 19.79013684 20.31167129 21.43482591 18.53994008 17.18755992 20.75049026\n",
      " 22.64829115 19.7720367  20.64965864 26.52586744 20.77323638 20.71548315\n",
      " 25.17208881 20.43025591 23.37724626 23.69043261 20.33578364 20.79180873\n",
      " 21.91632071 22.47107777 20.55738556 16.36661977 20.56099819 22.48178446\n",
      " 14.61706633 15.17876684 18.93868592 14.05573285 20.03527399 19.41013402\n",
      " 20.06191566 15.75807673 13.25645238 17.26277735 15.87841883 19.36163954\n",
      " 13.81483897 16.44881475 13.57141932  3.98885508 14.59495478 12.1488148\n",
      "  8.72822362 12.03585343 15.82082058  8.5149902   9.71844139 14.80451374\n",
      " 20.83858153 18.30101169 20.12282558 17.28601894 22.36600228 20.10375923\n",
      " 13.62125891 33.25982697 29.03017268 25.56752769 32.70827666 36.77467015\n",
      " 40.55765844 41.84728168 24.78867379 25.37889238 37.20347455 23.08748747\n",
      " 26.40273955 26.65382114 22.5551466  24.29082812 22.97657219 29.07194308\n",
      " 26.5219434  30.72209056 25.61669307 29.13740979 31.43571968 32.92231568\n",
      " 34.72440464 27.76552111 33.88787321 30.99238036 22.71820008 24.7664781\n",
      " 35.88497226 33.42476722 32.41199147 34.51509949 30.76109485 30.28934141\n",
      " 32.91918714 32.11260771 31.55871004 40.84555721 36.12770079 32.6692081\n",
      " 34.70469116 30.09345162 30.64393906 29.28719501 37.07148392 42.03193124\n",
      " 43.18949844 22.69034796 23.68284712 17.85447214 23.49428992 17.00587718\n",
      " 22.39251096 17.06042754 22.73892921 25.21942554 11.11916737 24.51049148\n",
      " 26.60334775 28.35518713 24.91525464 29.68652768 33.18419746 23.77456656\n",
      " 32.14051958 29.7458199  38.37102453 39.81461867 37.58605755 32.3995325\n",
      " 35.45665242 31.23411512 24.48449227 33.28837292 38.0481048  37.16328631\n",
      " 31.71383523 25.26705571 30.10010745 32.71987156 28.42717057 28.42940678\n",
      " 27.29375938 23.74262478 24.12007891 27.40208414 16.3285756  13.39891261\n",
      " 20.01638775 19.86184428 21.2883131  24.0798915  24.20633547 25.04215821\n",
      " 24.91964007 29.94563374 23.97228316 21.69580887 37.51109239 43.30239043\n",
      " 36.48361421 34.98988594 34.81211508 37.16631331 40.98928501 34.44634089\n",
      " 35.83397547 28.245743   31.22673593 40.8395575  39.31792393 25.70817905\n",
      " 22.30295533 27.20340972 28.51169472 35.47676598 36.10639164 33.79668274\n",
      " 35.61085858 34.83993382 30.35192656 35.30980701 38.79756966 34.33123186\n",
      " 40.33963075 44.67308339 31.59689086 27.3565923  20.10174154 27.04206674\n",
      " 27.2136458  26.91395839 33.43563311 34.40349633 31.8333982  25.81783237\n",
      " 24.42982348 28.45764337 27.36266999 19.53928758 29.11309844 31.91054611\n",
      " 30.77159449 28.94275871 28.88191022 32.79887232 33.20905456 30.76831792\n",
      " 35.56226857 32.70905124 28.64244237 23.58965827 18.54266897 26.87889843\n",
      " 23.28133979 25.54580246 25.48120057 20.53909901 17.61572573 18.37581686\n",
      " 24.29070277 21.32529039 24.88682244 24.86937282 22.86952447 19.45123791\n",
      " 25.11783401 24.66786913 23.68076177 19.34089616 21.17418105 24.25249073\n",
      " 21.59260894 19.98446605 23.33888    22.14060692 21.55509929 20.61872907\n",
      " 20.16097176 19.28490387 22.1667232  21.24965774 21.42939305 30.32788796\n",
      " 22.04734975 27.70647912 28.54794117 16.54501121 14.78359641 25.27380082\n",
      " 27.54205117 22.14837562 20.45944095 20.54605423 16.88063827 25.40253506\n",
      " 14.32486632 16.59488462 19.63704691 22.71806607 22.20218887 19.20548057\n",
      " 22.66616105 18.93192618 18.22846804 20.23150811 37.4944739  14.28190734\n",
      " 15.54286248 10.83162324 23.80072902 32.6440736  34.60684042 24.94331333\n",
      " 25.9998091   6.126325    0.77779806 25.30713064 17.74061065 20.23274414\n",
      " 15.83331301 16.83512587 14.36994825 18.47682833 13.4276828  13.06177512\n",
      "  3.27918116  8.06022171  6.12842196  5.6186481   6.4519857  14.20764735\n",
      " 17.21225183 17.29887265  9.89116643 20.22124193 17.94181175 20.30445783\n",
      " 19.29559075 16.33632779  6.55162319 10.89016778 11.88145871 17.81174507\n",
      " 18.26126587 12.97948781  7.37816361  8.21115861  8.06626193 19.98294786\n",
      " 13.70756369 19.85268454 15.22308298 16.96071981  1.71851807 11.80578387\n",
      " -4.28131071  9.58376737 13.36660811  6.89562363  6.14779852 14.60661794\n",
      " 19.6000267  18.12427476 18.52177132 13.1752861  14.62617624  9.92374976\n",
      " 16.34590647 14.07519426 14.25756243 13.04234787 18.15955693 18.69554354\n",
      " 21.527283   17.03141861 15.96090435 13.36141611 14.52079384  8.81976005\n",
      "  4.86751102 13.06591313 12.70609699 17.29558059 18.740485   18.05901029\n",
      " 11.51474683 11.97400359 17.68344618 18.12695239 17.5183465  17.22742507\n",
      " 16.52271631 19.41291095 18.58215236 22.48944791 15.28000133 15.82089335\n",
      " 12.68725581 12.8763379  17.18668531 18.51247609 19.04860533 20.17208927\n",
      " 19.7740732  22.42940768 20.31911854 17.88616253 14.37478523 16.94776851\n",
      " 16.98405762 18.58838397 20.16719441 22.97718032 22.45580726 25.57824627\n",
      " 16.39147632 16.1114628  20.534816   11.54272738 19.20496304 21.86276391\n",
      " 23.46878866 27.09887315 28.56994302 21.08398783 19.45516196 22.22225914\n",
      " 19.65591961 21.32536104 11.85583717  8.22386687  3.66399672 13.75908538\n",
      " 15.93118545 20.62662054 20.61249414 16.88541964 14.01320787 19.10854144\n",
      " 21.29805174 18.45498841 20.46870847 23.53334055 22.37571892 27.6274261\n",
      " 26.12796681 22.34421229]\n"
     ]
    }
   ],
   "source": [
    "predictions = lm.predict(X)\n",
    "print(predictions)"
   ]
  },
  {
   "cell_type": "code",
   "execution_count": 69,
   "id": "5ef5c3fa",
   "metadata": {},
   "outputs": [
    {
     "data": {
      "text/plain": [
       "0.7406426641094095"
      ]
     },
     "execution_count": 69,
     "metadata": {},
     "output_type": "execute_result"
    }
   ],
   "source": [
    "lm.score(X,y)"
   ]
  },
  {
   "cell_type": "markdown",
   "id": "3165191d",
   "metadata": {},
   "source": [
    "## Menggunakan SKlearn Contoh 2"
   ]
  },
  {
   "cell_type": "code",
   "execution_count": 70,
   "id": "c1803844",
   "metadata": {},
   "outputs": [
    {
     "data": {
      "text/html": [
       "<div>\n",
       "<style scoped>\n",
       "    .dataframe tbody tr th:only-of-type {\n",
       "        vertical-align: middle;\n",
       "    }\n",
       "\n",
       "    .dataframe tbody tr th {\n",
       "        vertical-align: top;\n",
       "    }\n",
       "\n",
       "    .dataframe thead th {\n",
       "        text-align: right;\n",
       "    }\n",
       "</style>\n",
       "<table border=\"1\" class=\"dataframe\">\n",
       "  <thead>\n",
       "    <tr style=\"text-align: right;\">\n",
       "      <th></th>\n",
       "      <th>horsepower</th>\n",
       "      <th>price</th>\n",
       "    </tr>\n",
       "  </thead>\n",
       "  <tbody>\n",
       "    <tr>\n",
       "      <th>0</th>\n",
       "      <td>111</td>\n",
       "      <td>13495.0</td>\n",
       "    </tr>\n",
       "    <tr>\n",
       "      <th>1</th>\n",
       "      <td>111</td>\n",
       "      <td>16500.0</td>\n",
       "    </tr>\n",
       "    <tr>\n",
       "      <th>2</th>\n",
       "      <td>154</td>\n",
       "      <td>16500.0</td>\n",
       "    </tr>\n",
       "    <tr>\n",
       "      <th>3</th>\n",
       "      <td>102</td>\n",
       "      <td>13950.0</td>\n",
       "    </tr>\n",
       "    <tr>\n",
       "      <th>4</th>\n",
       "      <td>115</td>\n",
       "      <td>17450.0</td>\n",
       "    </tr>\n",
       "  </tbody>\n",
       "</table>\n",
       "</div>"
      ],
      "text/plain": [
       "   horsepower    price\n",
       "0         111  13495.0\n",
       "1         111  16500.0\n",
       "2         154  16500.0\n",
       "3         102  13950.0\n",
       "4         115  17450.0"
      ]
     },
     "execution_count": 70,
     "metadata": {},
     "output_type": "execute_result"
    }
   ],
   "source": [
    "import pandas as pd\n",
    "import matplotlib.pyplot as plt\n",
    "from sklearn.linear_model import LinearRegression\n",
    "from sklearn.model_selection import train_test_split\n",
    "\n",
    "df = pd.read_csv('https://raw.githubusercontent.com/ardhiraka/PFDS_sources/master/CarPrice_Assignment.csv', usecols=['horsepower', 'price'])\n",
    "df.head()"
   ]
  },
  {
   "cell_type": "code",
   "execution_count": 72,
   "id": "4dadbe69",
   "metadata": {},
   "outputs": [
    {
     "data": {
      "text/plain": [
       "(205, 2)"
      ]
     },
     "execution_count": 72,
     "metadata": {},
     "output_type": "execute_result"
    }
   ],
   "source": [
    "df.shape"
   ]
  },
  {
   "cell_type": "code",
   "execution_count": 73,
   "id": "a2a201ae",
   "metadata": {},
   "outputs": [
    {
     "data": {
      "image/png": "[encoded data removed]",
      "text/plain": [
       "<Figure size 864x288 with 2 Axes>"
      ]
     },
     "metadata": {
      "needs_background": "light"
     },
     "output_type": "display_data"
    }
   ],
   "source": [
    "f = plt.figure(figsize=(12,4))\n",
    "\n",
    "f.add_subplot(1,2,1)\n",
    "df['horsepower'].plot(kind='kde')\n",
    "\n",
    "f.add_subplot(1,2,2)\n",
    "plt.boxplot(df['horsepower'])\n",
    "plt.show()"
   ]
  },
  {
   "cell_type": "code",
   "execution_count": 74,
   "id": "5dc065a1",
   "metadata": {},
   "outputs": [
    {
     "data": {
      "image/png": "[encoded data removed]",
      "text/plain": [
       "<Figure size 432x288 with 1 Axes>"
      ]
     },
     "metadata": {
      "needs_background": "light"
     },
     "output_type": "display_data"
    }
   ],
   "source": [
    "plt.scatter(df['horsepower'], df['price'])\n",
    "\n",
    "plt.xlabel('Horsepower')\n",
    "plt.ylabel('Price')\n",
    "plt.title('Scatter Plot Horsepower vs Price')\n",
    "plt.show()"
   ]
  },
  {
   "cell_type": "code",
   "execution_count": 76,
   "id": "0b736d3e",
   "metadata": {},
   "outputs": [
    {
     "data": {
      "text/html": [
       "<div>\n",
       "<style scoped>\n",
       "    .dataframe tbody tr th:only-of-type {\n",
       "        vertical-align: middle;\n",
       "    }\n",
       "\n",
       "    .dataframe tbody tr th {\n",
       "        vertical-align: top;\n",
       "    }\n",
       "\n",
       "    .dataframe thead th {\n",
       "        text-align: right;\n",
       "    }\n",
       "</style>\n",
       "<table border=\"1\" class=\"dataframe\">\n",
       "  <thead>\n",
       "    <tr style=\"text-align: right;\">\n",
       "      <th></th>\n",
       "      <th>horsepower</th>\n",
       "      <th>price</th>\n",
       "    </tr>\n",
       "  </thead>\n",
       "  <tbody>\n",
       "    <tr>\n",
       "      <th>horsepower</th>\n",
       "      <td>1.000000</td>\n",
       "      <td>0.808139</td>\n",
       "    </tr>\n",
       "    <tr>\n",
       "      <th>price</th>\n",
       "      <td>0.808139</td>\n",
       "      <td>1.000000</td>\n",
       "    </tr>\n",
       "  </tbody>\n",
       "</table>\n",
       "</div>"
      ],
      "text/plain": [
       "            horsepower     price\n",
       "horsepower    1.000000  0.808139\n",
       "price         0.808139  1.000000"
      ]
     },
     "execution_count": 76,
     "metadata": {},
     "output_type": "execute_result"
    }
   ],
   "source": [
    "df.corr()"
   ]
  },
  {
   "cell_type": "code",
   "execution_count": 78,
   "id": "88fb6b2e",
   "metadata": {},
   "outputs": [],
   "source": [
    "x = df['horsepower'].values.reshape(-1,1)\n",
    "y = df['price'].values.reshape(-1,1)"
   ]
  },
  {
   "cell_type": "code",
   "execution_count": 79,
   "id": "3925b534",
   "metadata": {},
   "outputs": [],
   "source": [
    "x_train, x_test, y_train, y_test = train_test_split(x, y, test_size=0.2)"
   ]
  },
  {
   "cell_type": "code",
   "execution_count": 80,
   "id": "7da12330",
   "metadata": {},
   "outputs": [
    {
     "data": {
      "text/plain": [
       "(164, 1)"
      ]
     },
     "execution_count": 80,
     "metadata": {},
     "output_type": "execute_result"
    }
   ],
   "source": [
    "x_train.shape"
   ]
  },
  {
   "cell_type": "code",
   "execution_count": 81,
   "id": "168d633f",
   "metadata": {},
   "outputs": [
    {
     "data": {
      "text/plain": [
       "(41, 1)"
      ]
     },
     "execution_count": 81,
     "metadata": {},
     "output_type": "execute_result"
    }
   ],
   "source": [
    "x_test.shape"
   ]
  },
  {
   "cell_type": "code",
   "execution_count": 82,
   "id": "19f625fd",
   "metadata": {},
   "outputs": [
    {
     "data": {
      "text/plain": [
       "LinearRegression()"
      ]
     },
     "execution_count": 82,
     "metadata": {},
     "output_type": "execute_result"
    }
   ],
   "source": [
    "lin_reg = LinearRegression()\n",
    "lin_reg.fit(x_train, y_train)"
   ]
  },
  {
   "cell_type": "code",
   "execution_count": 83,
   "id": "e7b0d29f",
   "metadata": {},
   "outputs": [
    {
     "data": {
      "text/plain": [
       "LinearRegression()"
      ]
     },
     "execution_count": 83,
     "metadata": {},
     "output_type": "execute_result"
    }
   ],
   "source": [
    "LinearRegression(copy_X=True, fit_intercept=True, n_jobs=None, normalize=False)"
   ]
  },
  {
   "cell_type": "code",
   "execution_count": 84,
   "id": "3e6ed304",
   "metadata": {},
   "outputs": [
    {
     "name": "stdout",
     "output_type": "stream",
     "text": [
      "[[161.69138371]]\n",
      "[-3586.14144835]\n"
     ]
    }
   ],
   "source": [
    "print(lin_reg.coef_)\n",
    "print(lin_reg.intercept_)"
   ]
  },
  {
   "cell_type": "code",
   "execution_count": 85,
   "id": "16ef2d3b",
   "metadata": {},
   "outputs": [
    {
     "data": {
      "text/plain": [
       "0.6698410655858658"
      ]
     },
     "execution_count": 85,
     "metadata": {},
     "output_type": "execute_result"
    }
   ],
   "source": [
    "lin_reg.score(x_test, y_test)"
   ]
  },
  {
   "cell_type": "code",
   "execution_count": 86,
   "id": "015813e1",
   "metadata": {},
   "outputs": [
    {
     "data": {
      "text/plain": [
       "Text(0.5, 1.0, 'Scatter Plot Horsepower vs Price')"
      ]
     },
     "execution_count": 86,
     "metadata": {},
     "output_type": "execute_result"
    },
    {
     "data": {
      "image/png": "[encoded data removed]",
      "text/plain": [
       "<Figure size 432x288 with 1 Axes>"
      ]
     },
     "metadata": {
      "needs_background": "light"
     },
     "output_type": "display_data"
    }
   ],
   "source": [
    "y_prediction = lin_reg.predict(x_test)\n",
    "plt.scatter(x_test, y_test)\n",
    "plt.plot(x_test, y_prediction, c='r')\n",
    "plt.xlabel('Horsepower')\n",
    "plt.ylabel('Price')\n",
    "plt.title('Scatter Plot Horsepower vs Price')"
   ]
  },
  {
   "cell_type": "code",
   "execution_count": 87,
   "id": "01ac6f60",
   "metadata": {},
   "outputs": [
    {
     "data": {
      "text/plain": [
       "array([[12582.99692296]])"
      ]
     },
     "execution_count": 87,
     "metadata": {},
     "output_type": "execute_result"
    }
   ],
   "source": [
    "lin_reg.predict([[100]])"
   ]
  },
  {
   "cell_type": "code",
   "execution_count": 88,
   "id": "4bc2ef88",
   "metadata": {},
   "outputs": [
    {
     "data": {
      "text/plain": [
       "array([[20667.56610862]])"
      ]
     },
     "execution_count": 88,
     "metadata": {},
     "output_type": "execute_result"
    }
   ],
   "source": [
    "lin_reg.predict([[150]])"
   ]
  },
  {
   "cell_type": "code",
   "execution_count": 89,
   "id": "648f53b1",
   "metadata": {},
   "outputs": [
    {
     "data": {
      "text/plain": [
       "array([[28752.13529427]])"
      ]
     },
     "execution_count": 89,
     "metadata": {},
     "output_type": "execute_result"
    }
   ],
   "source": [
    "lin_reg.predict([[200]])"
   ]
  },
  {
   "cell_type": "code",
   "execution_count": null,
   "id": "90955a9c",
   "metadata": {},
   "outputs": [],
   "source": []
  }
 ],
 "metadata": {
  "kernelspec": {
   "display_name": "Python 3 (ipykernel)",
   "language": "python",
   "name": "python3"
  },
  "language_info": {
   "codemirror_mode": {
    "name": "ipython",
    "version": 3
   },
   "file_extension": ".py",
   "mimetype": "text/x-python",
   "name": "python",
   "nbconvert_exporter": "python",
   "pygments_lexer": "ipython3",
   "version": "3.8.8"
  },
  "toc": {
   "base_numbering": 1,
   "nav_menu": {},
   "number_sections": true,
   "sideBar": true,
   "skip_h1_title": false,
   "title_cell": "Table of Contents",
   "title_sidebar": "Contents",
   "toc_cell": false,
   "toc_position": {},
   "toc_section_display": true,
   "toc_window_display": false
  },
  "varInspector": {
   "cols": {
    "lenName": 16,
    "lenType": 16,
    "lenVar": 40
   },
   "kernels_config": {
    "python": {
     "delete_cmd_postfix": "",
     "delete_cmd_prefix": "del ",
     "library": "var_list.py",
     "varRefreshCmd": "print(var_dic_list())"
    },
    "r": {
     "delete_cmd_postfix": ") ",
     "delete_cmd_prefix": "rm(",
     "library": "var_list.r",
     "varRefreshCmd": "cat(var_dic_list()) "
    }
   },
   "types_to_exclude": [
    "module",
    "function",
    "builtin_function_or_method",
    "instance",
    "_Feature"
   ],
   "window_display": false
  }
 },
 "nbformat": 4,
 "nbformat_minor": 5
}
