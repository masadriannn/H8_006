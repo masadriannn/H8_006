{
 "cells": [
  {
   "cell_type": "markdown",
   "id": "d93887f7",
   "metadata": {},
   "source": [
    "# Classification"
   ]
  },
  {
   "cell_type": "markdown",
   "id": "f0cb9f88",
   "metadata": {},
   "source": [
    "Classification adalah area yang sangat penting dalam supervised machine learning"
   ]
  },
  {
   "cell_type": "markdown",
   "id": "aa610591",
   "metadata": {},
   "source": [
    "# What Is Classification?"
   ]
  },
  {
   "cell_type": "markdown",
   "id": "7352a2d5",
   "metadata": {},
   "source": [
    "Classification adalah area supervised machine learning yang mencoba memprediksi kelas atau kategori mana dari suatu entitas, berdasarkan fitur-fiturnya."
   ]
  },
  {
   "cell_type": "markdown",
   "id": "13c581e6",
   "metadata": {},
   "source": [
    "Sifat dependent variables membedakan masalah regression dan classification. Masalah regression memiliki keluaran yang berkelanjutan dan biasanya tidak terbatas. masalah classification memiliki keluaran diskrit dan terbatas yang disebut kelas atau kategori"
   ]
  },
  {
   "cell_type": "markdown",
   "id": "2d0f8657",
   "metadata": {},
   "source": [
    "Ada dua jenis masalah klasifikasi: \n",
    "- Binary or binomial classification : tepat dua kelas untuk dipilih (biasanya 0 dan 1, benar dan salah, atau positif dan negatif) \n",
    "- Multiclass or multinomial classification: tiga atau lebih kelas output untuk dipilih"
   ]
  },
  {
   "cell_type": "markdown",
   "id": "9acf740d",
   "metadata": {},
   "source": [
    "# When Do You Need Classification?"
   ]
  },
  {
   "cell_type": "markdown",
   "id": "8391931b",
   "metadata": {},
   "source": [
    "text classification algorithms digunakan untuk memisahkan email yang bukan spam dan spam, serta komentar positif dan negatif. Image recognition sering kali direpresentasikan sebagai masalah klasifikasi."
   ]
  },
  {
   "cell_type": "markdown",
   "id": "84355b46",
   "metadata": {},
   "source": [
    "# Logistic Regression Overview"
   ]
  },
  {
   "cell_type": "markdown",
   "id": "b94e7613",
   "metadata": {},
   "source": [
    "Cara kerja logistic regression adalah memprediksi probabilitas sampel kita termasuk dalam satu klasifikasi versus klasifikasi lainnya. Algoritme pada dasarnya membulatkan nilai untuk memberikan klasifikasi; 0 adalah kelas negatif dan 1 adalah kelas positif."
   ]
  },
  {
   "cell_type": "markdown",
   "id": "b59b9515",
   "metadata": {},
   "source": [
    "Types of Logistic Regression :\n",
    "- Binary Logistic Regression: \n",
    "\n",
    "Variabel dependen hanya memiliki dua kemungkinan hasil / kelas. Example-Male or Female. \n",
    "- Multinomial Logistic Regression: \n",
    "\n",
    "Variabel dependen hanya memiliki dua kemungkinan hasil / kelas 3 atau lebih tanpa urutan. Example: Predicting food quality.(Good,Great and Bad). \n",
    "- Ordinal Logistic Regression: \n",
    "\n",
    "Variabel dependen hanya memiliki dua 3 atau lebih kemungkinan hasil / kelas dengan pengurutan. Example: Star rating from 1 to 5"
   ]
  },
  {
   "cell_type": "markdown",
   "id": "6e08fab5",
   "metadata": {},
   "source": [
    "# Prasyarat Matematika"
   ]
  },
  {
   "cell_type": "markdown",
   "id": "2cb2a2dc",
   "metadata": {},
   "source": [
    "## Fungsi Sigmoid"
   ]
  },
  {
   "cell_type": "markdown",
   "id": "5ce27530",
   "metadata": {},
   "source": [
    "Meskipun Logistic Regression menggunakan persamaan linier, pembedanya adalah sigmoid function. Sigmoid function adalah fungsi matematika yang memiliki karakteristik kurva berbentuk \"S\""
   ]
  },
  {
   "cell_type": "markdown",
   "id": "3f125e97",
   "metadata": {},
   "source": [
    "## Problem Formulation"
   ]
  },
  {
   "cell_type": "markdown",
   "id": "ade1a1a8",
   "metadata": {},
   "source": [
    "Tujuan kita adalah menemukan logistic regression function 𝑝 (𝐱) sedemikian rupa sehingga predicted responses 𝑝 (𝐱ᵢ) sedekat mungkin dengan actual response 𝑦ᵢ untuk setiap pengamatan 𝑖 = 1,…, 𝑛."
   ]
  },
  {
   "cell_type": "markdown",
   "id": "85cbff17",
   "metadata": {},
   "source": [
    "## Methodology"
   ]
  },
  {
   "cell_type": "markdown",
   "id": "631101de",
   "metadata": {},
   "source": [
    "Logistic regression adalah linear classifier, jadi kita akan menggunakan fungsi linier 𝑓(𝐱) = 𝑏₀ + 𝑏₁𝑥₁ + ⋯ + 𝑏ᵣ𝑥ᵣ, juga disebut **logit**. Variabel 𝑏₀, 𝑏₁,…, 𝑏ᵣ adalah **estimators** dari regression coefficients, yang juga disebut **predicted weights** atau **coefficients**."
   ]
  },
  {
   "cell_type": "markdown",
   "id": "0cb50974",
   "metadata": {},
   "source": [
    "Proses penghitungan bobot terbaik menggunakan observasi yang tersedia disebut **model training atau fitting**."
   ]
  },
  {
   "cell_type": "markdown",
   "id": "c7ebfa98",
   "metadata": {},
   "source": [
    "Untuk mendapatkan bobot terbaik, biasanya kita memaksimalkan **log-likelihood function (LLF)** untuk semua observasi 𝑖 = 1,…, 𝑛. Metode ini disebut **maximum likelihood estimation** dan diwakili oleh persamaan LLF = Σᵢ(𝑦ᵢ log (𝑝(𝐱ᵢ)) + (1 - 𝑦ᵢ) log (1 - 𝑝(𝐱ᵢ)))."
   ]
  },
  {
   "cell_type": "markdown",
   "id": "560ab8c9",
   "metadata": {},
   "source": [
    "# Classification Performance"
   ]
  },
  {
   "cell_type": "markdown",
   "id": "ee9763e8",
   "metadata": {},
   "source": [
    "Binary classification memiliki empat kemungkinan jenis hasil: \n",
    "- True negatives: prediksi negatif yang benar (nol) \n",
    "- True positives: prediksi positif yang benar (ones) \n",
    "- False negatives: prediksi negatif yang salah (nol)\n",
    "- False positives: prediksi positif yang salah (ones)"
   ]
  },
  {
   "cell_type": "markdown",
   "id": "21079ce3",
   "metadata": {},
   "source": [
    "Indikator classification accuracy yang paling jelas adalah rasio jumlah prediksi yang benar dengan jumlah total prediksi (atau observasi). Indikator lain dari binary classifiers adalah sebagai berikut: \n",
    "- The positive predictive value is the ratio of the number of true positives to the sum of the numbers of true and false positives. \n",
    "- The negative predictive value is the ratio of the number of true negatives to the sum of the numbers of true and false negatives. \n",
    "- The sensitivity (also known as recall or true positive rate) is the ratio of the number of true positives to the number of actual positives. \n",
    "- The specificity (or true negative rate) is the ratio of the number of true negatives to the number of actual negatives."
   ]
  },
  {
   "cell_type": "markdown",
   "id": "faede2c0",
   "metadata": {},
   "source": [
    "# Single-Variate Logistic Regression"
   ]
  },
  {
   "cell_type": "markdown",
   "id": "201c6950",
   "metadata": {},
   "source": [
    "Single-variate logistic regression adalah kasus logistic regression yang paling jelas. Hanya ada satu variabel independen (atau fitur), yaitu 𝐱 = 𝑥."
   ]
  },
  {
   "cell_type": "markdown",
   "id": "6cc7529c",
   "metadata": {},
   "source": [
    "# Multi-Variate Logistic Regression"
   ]
  },
  {
   "cell_type": "markdown",
   "id": "be529df8",
   "metadata": {},
   "source": [
    "Multi-variate logistic regression memiliki lebih dari satu variabel masukan."
   ]
  },
  {
   "cell_type": "markdown",
   "id": "02bf7f10",
   "metadata": {},
   "source": [
    "Setelah kita memiliki 𝑏₀, 𝑏₁, dan 𝑏₂, kita bisa mendapatkan: \n",
    "- The logit 𝑓(𝑥₁, 𝑥₂) = 𝑏₀ + 𝑏₁𝑥₁ + 𝑏₂𝑥₂ \n",
    "- The probabilities 𝑝(𝑥₁, 𝑥₂) = 1 / (1 + exp(−𝑓(𝑥₁, 𝑥₂)))"
   ]
  },
  {
   "cell_type": "markdown",
   "id": "67a56527",
   "metadata": {},
   "source": [
    "# Logistic Regression in Python"
   ]
  },
  {
   "cell_type": "markdown",
   "id": "3b2d63f5",
   "metadata": {},
   "source": [
    "## Logistic Regression in Python With scikit-learn: Example 1"
   ]
  },
  {
   "cell_type": "markdown",
   "id": "b0bb8781",
   "metadata": {},
   "source": [
    "Ada beberapa langkah umum yang harus kita ambil saat menyiapkan model klasifikasi: \n",
    "- Impor paket, fungsi, dan kelas \n",
    "- Dapatkan data untuk digunakan dan, jika sesuai, ubahlah \n",
    "- Buat model klasifikasi dan latih (atau sesuaikan) dengan data yang ada\n",
    "- Evaluasi model Anda untuk melihat apakah kinerjanya memuaskan"
   ]
  },
  {
   "cell_type": "markdown",
   "id": "4401ac8f",
   "metadata": {},
   "source": [
    "### Langkah 1: Impor Paket, Fungsi, dan Kelas"
   ]
  },
  {
   "cell_type": "code",
   "execution_count": 1,
   "id": "b924da9d",
   "metadata": {},
   "outputs": [],
   "source": [
    "import matplotlib.pyplot as plt\n",
    "import numpy as np\n",
    "\n",
    "from sklearn.linear_model import LogisticRegression\n",
    "from sklearn.metrics import classification_report, confusion_matrix"
   ]
  },
  {
   "cell_type": "markdown",
   "id": "5824520b",
   "metadata": {},
   "source": [
    "### Langkah 2: Dapatkan Data Dalam praktiknya, Anda biasanya memiliki beberapa data untuk dikerjakan. Untuk tujuan contoh ini, mari kita buat array untuk nilai input (𝑥) dan output (𝑦):"
   ]
  },
  {
   "cell_type": "code",
   "execution_count": 3,
   "id": "fc604cd9",
   "metadata": {},
   "outputs": [],
   "source": [
    "x = np.arange(10).reshape(-1,1)\n",
    "y = np.array([0,0,0,0,1,1,1,1,1,1])"
   ]
  },
  {
   "cell_type": "code",
   "execution_count": 4,
   "id": "c6088df7",
   "metadata": {},
   "outputs": [
    {
     "name": "stdout",
     "output_type": "stream",
     "text": [
      "[[0]\n",
      " [1]\n",
      " [2]\n",
      " [3]\n",
      " [4]\n",
      " [5]\n",
      " [6]\n",
      " [7]\n",
      " [8]\n",
      " [9]] [0 0 0 0 1 1 1 1 1 1]\n"
     ]
    }
   ],
   "source": [
    "print(x,y)"
   ]
  },
  {
   "cell_type": "markdown",
   "id": "3e4cc6af",
   "metadata": {},
   "source": [
    "x memiliki dua dimensi: \n",
    "- Satu kolom untuk satu masukan \n",
    "- Sepuluh baris, masing-masing sesuai dengan satu pengamatan"
   ]
  },
  {
   "cell_type": "markdown",
   "id": "2296b849",
   "metadata": {},
   "source": [
    "### Langkah 3: Buat Model dan melatihnya"
   ]
  },
  {
   "cell_type": "code",
   "execution_count": 5,
   "id": "c7a49f56",
   "metadata": {},
   "outputs": [],
   "source": [
    "# instance kelas LogisticRegression:\n",
    "model = LogisticRegression(solver='liblinear', random_state=0)"
   ]
  },
  {
   "cell_type": "markdown",
   "id": "2299751d",
   "metadata": {},
   "source": [
    "Kita harus mencocokkan solver dan regularization dengan hati-hati karena beberapa alasan: \n",
    "- 'liblinear' solver doesn’t work without regularization. \n",
    "- 'newton-cg', 'sag', 'saga', and 'lbfgs' don’t support L1 regularization.\n",
    "- 'saga' is the only solver that supports elastic-net regularization."
   ]
  },
  {
   "cell_type": "code",
   "execution_count": 6,
   "id": "3cdbe69e",
   "metadata": {},
   "outputs": [
    {
     "data": {
      "text/plain": [
       "LogisticRegression(random_state=0, solver='liblinear')"
      ]
     },
     "execution_count": 6,
     "metadata": {},
     "output_type": "execute_result"
    }
   ],
   "source": [
    "# melatih model dengan .fit()\n",
    "model.fit(x,y)"
   ]
  },
  {
   "cell_type": "code",
   "execution_count": 7,
   "id": "e75e87e1",
   "metadata": {},
   "outputs": [],
   "source": [
    "# Pernyataan diatas sama dengan dibawah ini\n",
    "model = LogisticRegression(solver='liblinear', random_state=0).fit(x,y)"
   ]
  },
  {
   "cell_type": "code",
   "execution_count": 8,
   "id": "80c09e79",
   "metadata": {},
   "outputs": [
    {
     "data": {
      "text/plain": [
       "array([0, 1])"
      ]
     },
     "execution_count": 8,
     "metadata": {},
     "output_type": "execute_result"
    }
   ],
   "source": [
    "# mendapatkan atribut model kita\n",
    "model.classes_"
   ]
  },
  {
   "cell_type": "code",
   "execution_count": 9,
   "id": "6da16778",
   "metadata": {},
   "outputs": [
    {
     "name": "stdout",
     "output_type": "stream",
     "text": [
      "[-1.04608067] [[0.51491375]]\n"
     ]
    }
   ],
   "source": [
    "#  mendapatkan nilai slope 𝑏₁ dan titik intercept 𝑏₀ dari linear function 𝑓 seperti ini\n",
    "print(model.intercept_, model.coef_)"
   ]
  },
  {
   "cell_type": "markdown",
   "id": "124ae97f",
   "metadata": {},
   "source": [
    "### Langkah 4: Evaluasi Model"
   ]
  },
  {
   "cell_type": "code",
   "execution_count": 10,
   "id": "a83c39a7",
   "metadata": {},
   "outputs": [
    {
     "data": {
      "text/plain": [
       "array([[0.74002157, 0.25997843],\n",
       "       [0.62975524, 0.37024476],\n",
       "       [0.5040632 , 0.4959368 ],\n",
       "       [0.37785549, 0.62214451],\n",
       "       [0.26628093, 0.73371907],\n",
       "       [0.17821501, 0.82178499],\n",
       "       [0.11472079, 0.88527921],\n",
       "       [0.07186982, 0.92813018],\n",
       "       [0.04422513, 0.95577487],\n",
       "       [0.02690569, 0.97309431]])"
      ]
     },
     "execution_count": 10,
     "metadata": {},
     "output_type": "execute_result"
    }
   ],
   "source": [
    "# memeriksa performanya dengan .predict_proba()\n",
    "model.predict_proba(x)"
   ]
  },
  {
   "cell_type": "code",
   "execution_count": 11,
   "id": "cbba080e",
   "metadata": {},
   "outputs": [
    {
     "data": {
      "text/plain": [
       "array([0, 0, 0, 1, 1, 1, 1, 1, 1, 1])"
      ]
     },
     "execution_count": 11,
     "metadata": {},
     "output_type": "execute_result"
    }
   ],
   "source": [
    "# mendapatkan prediksi aktual, berdasarkan matriks probabilitas dan nilai 𝑝(𝑥), dengan .predict()\n",
    "model.predict(x)"
   ]
  },
  {
   "cell_type": "code",
   "execution_count": 12,
   "id": "cb761115",
   "metadata": {},
   "outputs": [
    {
     "data": {
      "text/plain": [
       "0.9"
      ]
     },
     "execution_count": 12,
     "metadata": {},
     "output_type": "execute_result"
    }
   ],
   "source": [
    "# mendapatkan akurasi model\n",
    "model.score(x, y)"
   ]
  },
  {
   "cell_type": "markdown",
   "id": "6bf8519f",
   "metadata": {},
   "source": [
    "confusion matrix menunjukkan angka-angka berikut ini: \n",
    "- True negatives in the upper-left position \n",
    "- False negatives in the lower-left position \n",
    "- False positives in the upper-right position \n",
    "- True positives in the lower-right position"
   ]
  },
  {
   "cell_type": "code",
   "execution_count": 13,
   "id": "0eb8baae",
   "metadata": {},
   "outputs": [
    {
     "data": {
      "text/plain": [
       "array([[3, 1],\n",
       "       [0, 6]], dtype=int64)"
      ]
     },
     "execution_count": 13,
     "metadata": {},
     "output_type": "execute_result"
    }
   ],
   "source": [
    "# menggunakan confusion_matrix()\n",
    "confusion_matrix(y, model.predict(x))"
   ]
  },
  {
   "cell_type": "markdown",
   "id": "1c76fb78",
   "metadata": {},
   "source": [
    "Matriks yang diperoleh menunjukkan hasil sebagai berikut: \n",
    "- Three true negative predictions: The first three observations are zeros predicted correctly. \n",
    "- No false negative predictions: These are the ones wrongly predicted as zeros.\n",
    "- One false positive prediction: The fourth observation is a zero that was wrongly predicted as one. \n",
    "- Six true positive predictions: The last six observations are ones predicted correctly."
   ]
  },
  {
   "cell_type": "code",
   "execution_count": 15,
   "id": "5a49a405",
   "metadata": {},
   "outputs": [
    {
     "data": {
      "image/png": "[encoded data removed]",
      "text/plain": [
       "<Figure size 576x576 with 1 Axes>"
      ]
     },
     "metadata": {
      "needs_background": "light"
     },
     "output_type": "display_data"
    }
   ],
   "source": [
    "# memvisualisasikan confusion matrix\n",
    "cm = confusion_matrix(y, model.predict(x))\n",
    "\n",
    "fig, ax = plt.subplots(figsize=(8,8))\n",
    "ax.imshow(cm)\n",
    "ax.grid(False)\n",
    "ax.xaxis.set(ticks=(0,1), ticklabels=('Predicted 0s', 'Predicted 1s'))\n",
    "ax.yaxis.set(ticks=(0,1), ticklabels=('Actual 0s', 'Actual 1s'))\n",
    "ax.set_ylim(1.5, -0.5)\n",
    "for i in range(2):\n",
    "    for j in range(2):\n",
    "        ax.text(j, i, cm[i,j], ha='center', va='center', color='red')\n",
    "plt.show()"
   ]
  },
  {
   "cell_type": "code",
   "execution_count": 16,
   "id": "bbde29b7",
   "metadata": {},
   "outputs": [
    {
     "name": "stdout",
     "output_type": "stream",
     "text": [
      "              precision    recall  f1-score   support\n",
      "\n",
      "           0       1.00      0.75      0.86         4\n",
      "           1       0.86      1.00      0.92         6\n",
      "\n",
      "    accuracy                           0.90        10\n",
      "   macro avg       0.93      0.88      0.89        10\n",
      "weighted avg       0.91      0.90      0.90        10\n",
      "\n"
     ]
    }
   ],
   "source": [
    "# mendapatkan laporan yang lebih komprehensif tentang klasifikasi dengan classification_report()\n",
    "print(classification_report(y, model.predict(x)))"
   ]
  },
  {
   "cell_type": "markdown",
   "id": "83da7c30",
   "metadata": {},
   "source": [
    "### Perbaiki Modelnya"
   ]
  },
  {
   "cell_type": "code",
   "execution_count": 17,
   "id": "629857b5",
   "metadata": {},
   "outputs": [
    {
     "data": {
      "text/plain": [
       "LogisticRegression(C=10.0, random_state=0, solver='liblinear')"
      ]
     },
     "execution_count": 17,
     "metadata": {},
     "output_type": "execute_result"
    }
   ],
   "source": [
    "# regularization strength C sama dengan 10,0, daripada nilai default 1,0\n",
    "model = LogisticRegression(solver='liblinear', C=10.0, random_state=0)\n",
    "model.fit(x,y)"
   ]
  },
  {
   "cell_type": "code",
   "execution_count": 18,
   "id": "73fd44e8",
   "metadata": {},
   "outputs": [
    {
     "name": "stdout",
     "output_type": "stream",
     "text": [
      "[-3.51335372] [[1.12066084]]\n"
     ]
    }
   ],
   "source": [
    "print(model.intercept_, model.coef_)"
   ]
  },
  {
   "cell_type": "code",
   "execution_count": 19,
   "id": "4a5ee353",
   "metadata": {},
   "outputs": [
    {
     "name": "stdout",
     "output_type": "stream",
     "text": [
      "[[0.97106534 0.02893466]\n",
      " [0.9162684  0.0837316 ]\n",
      " [0.7810904  0.2189096 ]\n",
      " [0.53777071 0.46222929]\n",
      " [0.27502212 0.72497788]\n",
      " [0.11007743 0.88992257]\n",
      " [0.03876835 0.96123165]\n",
      " [0.01298011 0.98701989]\n",
      " [0.0042697  0.9957303 ]\n",
      " [0.00139621 0.99860379]]\n"
     ]
    }
   ],
   "source": [
    "print(model.predict_proba(x))"
   ]
  },
  {
   "cell_type": "code",
   "execution_count": 20,
   "id": "fde81c35",
   "metadata": {},
   "outputs": [
    {
     "name": "stdout",
     "output_type": "stream",
     "text": [
      "[0 0 0 0 1 1 1 1 1 1]\n"
     ]
    }
   ],
   "source": [
    "print(model.predict(x))"
   ]
  },
  {
   "cell_type": "code",
   "execution_count": 21,
   "id": "a688579e",
   "metadata": {},
   "outputs": [
    {
     "data": {
      "text/plain": [
       "1.0"
      ]
     },
     "execution_count": 21,
     "metadata": {},
     "output_type": "execute_result"
    }
   ],
   "source": [
    "model.score(x, y)"
   ]
  },
  {
   "cell_type": "code",
   "execution_count": 22,
   "id": "8cd123a3",
   "metadata": {},
   "outputs": [
    {
     "data": {
      "text/plain": [
       "array([[4, 0],\n",
       "       [0, 6]], dtype=int64)"
      ]
     },
     "execution_count": 22,
     "metadata": {},
     "output_type": "execute_result"
    }
   ],
   "source": [
    "confusion_matrix(y, model.predict(x))"
   ]
  },
  {
   "cell_type": "code",
   "execution_count": 23,
   "id": "6a533b75",
   "metadata": {},
   "outputs": [
    {
     "name": "stdout",
     "output_type": "stream",
     "text": [
      "              precision    recall  f1-score   support\n",
      "\n",
      "           0       1.00      1.00      1.00         4\n",
      "           1       1.00      1.00      1.00         6\n",
      "\n",
      "    accuracy                           1.00        10\n",
      "   macro avg       1.00      1.00      1.00        10\n",
      "weighted avg       1.00      1.00      1.00        10\n",
      "\n"
     ]
    }
   ],
   "source": [
    "print(classification_report(y, model.predict(x)))"
   ]
  },
  {
   "cell_type": "markdown",
   "id": "2f23459e",
   "metadata": {},
   "source": [
    "## Logistic Regression in Python: Handwriting Recognition"
   ]
  },
  {
   "cell_type": "markdown",
   "id": "8224e39d",
   "metadata": {},
   "source": [
    "### Langkah 1: Impor Paket"
   ]
  },
  {
   "cell_type": "code",
   "execution_count": 24,
   "id": "846892d9",
   "metadata": {},
   "outputs": [],
   "source": [
    "# mengimpor Matplotlib, NumPy, dan beberapa fungsi dan kelas dari scikit-learn\n",
    "import matplotlib.pyplot as plt\n",
    "import numpy as np\n",
    "\n",
    "from sklearn.datasets import load_digits\n",
    "from sklearn.linear_model import LogisticRegression\n",
    "from sklearn.metrics import classification_report, confusion_matrix\n",
    "from sklearn.model_selection import train_test_split\n",
    "from sklearn.preprocessing import StandardScaler"
   ]
  },
  {
   "cell_type": "markdown",
   "id": "d0bdc234",
   "metadata": {},
   "source": [
    "### Langkah 2a: Dapatkan Data"
   ]
  },
  {
   "cell_type": "code",
   "execution_count": 25,
   "id": "5b8eec80",
   "metadata": {},
   "outputs": [],
   "source": [
    "# mengambil dataset langsung dari scikit-learn dengan load_digits().\n",
    "x, y = load_digits(return_X_y=True)"
   ]
  },
  {
   "cell_type": "code",
   "execution_count": 26,
   "id": "d026191d",
   "metadata": {},
   "outputs": [
    {
     "name": "stdout",
     "output_type": "stream",
     "text": [
      "[[ 0.  0.  5. ...  0.  0.  0.]\n",
      " [ 0.  0.  0. ... 10.  0.  0.]\n",
      " [ 0.  0.  0. ... 16.  9.  0.]\n",
      " ...\n",
      " [ 0.  0.  1. ...  6.  0.  0.]\n",
      " [ 0.  0.  2. ... 12.  0.  0.]\n",
      " [ 0.  0. 10. ... 12.  1.  0.]]\n",
      "[0 1 2 ... 8 9 8]\n"
     ]
    }
   ],
   "source": [
    "print(x)\n",
    "print(y)"
   ]
  },
  {
   "cell_type": "markdown",
   "id": "ff619308",
   "metadata": {},
   "source": [
    "### Langkah 2b: Pisahkan Data"
   ]
  },
  {
   "cell_type": "code",
   "execution_count": 27,
   "id": "81df19cb",
   "metadata": {},
   "outputs": [],
   "source": [
    "# menerapkan train_test_split()\n",
    "x_train, x_test, y_train, y_test = train_test_split(x, y, test_size=0.2, random_state=0)"
   ]
  },
  {
   "cell_type": "markdown",
   "id": "f51e1ba3",
   "metadata": {},
   "source": [
    "Fungsi ini mengembalikan daftar dengan empat array: \n",
    "- x_train: bagian dari x yang digunakan untuk menyesuaikan model \n",
    "- x_test: bagian dari x yang digunakan untuk mengevaluasi model \n",
    "- y_train: bagian dari y yang sesuai dengan x_train \n",
    "- y_test: bagian dari y yang sesuai dengan x_test"
   ]
  },
  {
   "cell_type": "markdown",
   "id": "486391f7",
   "metadata": {},
   "source": [
    "### Langkah 2c: Skalakan Data"
   ]
  },
  {
   "cell_type": "markdown",
   "id": "203e7fca",
   "metadata": {},
   "source": [
    "Standarisasi adalah proses pengubahan data sedemikian rupa sehingga rata-rata setiap kolom sama dengan nol, dan simpangan baku setiap kolom adalah satu. lakukan langkah-langkah berikut untuk menstandarkan data: \n",
    "- **Calculate** mean dan simpangan baku untuk setiap kolom. \n",
    "- **Subtract** mean yang sesuai dari setiap elemen. \n",
    "- **Divide** perbedaan yang diperoleh dengan standar deviasi yang sesuai.\n",
    "\n",
    "Standardization dapat meningkatkan kinerja algoritme kita. Ini membantu jika kita perlu compare dan interpret weights."
   ]
  },
  {
   "cell_type": "code",
   "execution_count": 28,
   "id": "33081ea4",
   "metadata": {},
   "outputs": [],
   "source": [
    "# membuat instance StandardScaler dan memanggil .fit_transform() di atasnya\n",
    "scaler = StandardScaler()\n",
    "x_train = scaler.fit_transform(x_train)\n",
    "\n",
    "# Sekarang, x_train adalah array input standar."
   ]
  },
  {
   "cell_type": "markdown",
   "id": "91da0e24",
   "metadata": {},
   "source": [
    "### Langkah 3: Buat Model dan Melatihnya"
   ]
  },
  {
   "cell_type": "code",
   "execution_count": 29,
   "id": "b90fcddb",
   "metadata": {},
   "outputs": [
    {
     "data": {
      "text/plain": [
       "LogisticRegression(C=0.05, multi_class='ovr', random_state=0,\n",
       "                   solver='liblinear')"
      ]
     },
     "execution_count": 29,
     "metadata": {},
     "output_type": "execute_result"
    }
   ],
   "source": [
    "# membuat instance LogisticRegression dan memanggil .fit() di atasnya\n",
    "model = LogisticRegression(solver='liblinear', C=0.05, multi_class='ovr', random_state=0)\n",
    "model.fit(x_train, y_train)"
   ]
  },
  {
   "cell_type": "markdown",
   "id": "6b73ab00",
   "metadata": {},
   "source": [
    "### Langkah 4: Evaluasi Model"
   ]
  },
  {
   "cell_type": "code",
   "execution_count": 30,
   "id": "df417808",
   "metadata": {},
   "outputs": [],
   "source": [
    "# x_test harus diskalakan juga dengan instance StandardScaler yang sama:\n",
    "x_test = scaler.transform(x_test)"
   ]
  },
  {
   "cell_type": "code",
   "execution_count": 31,
   "id": "f66d597b",
   "metadata": {},
   "outputs": [],
   "source": [
    "# mendapatkan predicted outputs dengan .predict()\n",
    "y_pred = model.predict(x_test)"
   ]
  },
  {
   "cell_type": "code",
   "execution_count": 32,
   "id": "a5c20909",
   "metadata": {},
   "outputs": [
    {
     "data": {
      "text/plain": [
       "0.964509394572025"
      ]
     },
     "execution_count": 32,
     "metadata": {},
     "output_type": "execute_result"
    }
   ],
   "source": [
    "# mendapatkan akurasi dengan .score()\n",
    "model.score(x_train, y_train)"
   ]
  },
  {
   "cell_type": "code",
   "execution_count": 33,
   "id": "793ced65",
   "metadata": {},
   "outputs": [
    {
     "data": {
      "text/plain": [
       "0.9416666666666667"
      ]
     },
     "execution_count": 33,
     "metadata": {},
     "output_type": "execute_result"
    }
   ],
   "source": [
    "model.score(x_test, y_test)"
   ]
  },
  {
   "cell_type": "code",
   "execution_count": 34,
   "id": "d763f045",
   "metadata": {},
   "outputs": [
    {
     "data": {
      "text/plain": [
       "array([[27,  0,  0,  0,  0,  0,  0,  0,  0,  0],\n",
       "       [ 0, 32,  0,  0,  0,  0,  1,  0,  1,  1],\n",
       "       [ 1,  1, 33,  1,  0,  0,  0,  0,  0,  0],\n",
       "       [ 0,  0,  1, 28,  0,  0,  0,  0,  0,  0],\n",
       "       [ 0,  0,  0,  0, 29,  0,  0,  1,  0,  0],\n",
       "       [ 0,  0,  0,  0,  0, 39,  0,  0,  0,  1],\n",
       "       [ 0,  1,  0,  0,  0,  0, 43,  0,  0,  0],\n",
       "       [ 0,  0,  0,  0,  0,  0,  0, 39,  0,  0],\n",
       "       [ 0,  2,  1,  2,  0,  0,  0,  1, 33,  0],\n",
       "       [ 0,  0,  0,  1,  0,  1,  0,  2,  1, 36]], dtype=int64)"
      ]
     },
     "execution_count": 34,
     "metadata": {},
     "output_type": "execute_result"
    }
   ],
   "source": [
    "# dapatkan matriks kebingungan dengan confusion_matrix ():\n",
    "confusion_matrix(y_test, y_pred)"
   ]
  },
  {
   "cell_type": "code",
   "execution_count": 36,
   "id": "2d20a99e",
   "metadata": {},
   "outputs": [
    {
     "data": {
      "image/png": "[encoded data removed]",
      "text/plain": [
       "<Figure size 576x576 with 1 Axes>"
      ]
     },
     "metadata": {
      "needs_background": "light"
     },
     "output_type": "display_data"
    }
   ],
   "source": [
    "# memvisualisasikannya\n",
    "cm = confusion_matrix(y_test, y_pred)\n",
    "\n",
    "fig, ax = plt.subplots(figsize=(8,8))\n",
    "ax.imshow(cm)\n",
    "ax.grid(False)\n",
    "ax.set_xlabel('Predicted Outputs', color='black')\n",
    "ax.set_ylabel('Actual Outputs', color='black')\n",
    "ax.xaxis.set(ticks=range(10))\n",
    "ax.yaxis.set(ticks=range(10))\n",
    "ax.set_ylim(9.5, -0.5)\n",
    "for i in range(10):\n",
    "    for j in range(10):\n",
    "        ax.text(j, i, cm[i,j], ha='center', va='center', color='white')\n",
    "plt.show()"
   ]
  },
  {
   "cell_type": "code",
   "execution_count": 37,
   "id": "bde4589b",
   "metadata": {},
   "outputs": [
    {
     "name": "stdout",
     "output_type": "stream",
     "text": [
      "              precision    recall  f1-score   support\n",
      "\n",
      "           0       0.96      1.00      0.98        27\n",
      "           1       0.89      0.91      0.90        35\n",
      "           2       0.94      0.92      0.93        36\n",
      "           3       0.88      0.97      0.92        29\n",
      "           4       1.00      0.97      0.98        30\n",
      "           5       0.97      0.97      0.97        40\n",
      "           6       0.98      0.98      0.98        44\n",
      "           7       0.91      1.00      0.95        39\n",
      "           8       0.94      0.85      0.89        39\n",
      "           9       0.95      0.88      0.91        41\n",
      "\n",
      "    accuracy                           0.94       360\n",
      "   macro avg       0.94      0.94      0.94       360\n",
      "weighted avg       0.94      0.94      0.94       360\n",
      "\n"
     ]
    }
   ],
   "source": [
    "# mendapatkan laporan klasifikasi sebagai string atau dictionary dengan classification_report()\n",
    "print(classification_report(y_test, y_pred))"
   ]
  },
  {
   "cell_type": "markdown",
   "id": "412635da",
   "metadata": {},
   "source": [
    "# K-Nearest Neighbor (KNN)"
   ]
  },
  {
   "cell_type": "markdown",
   "id": "6e7902ca",
   "metadata": {},
   "source": [
    "KNN adalah algoritma non-parametric dan lazy learning algorithm. Ini membuat pelatihan lebih cepat dan fase pengujian lebih lambat dan lebih mahal. Fase pengujian yang mahal artinya berdampak pada waktu dan memori"
   ]
  },
  {
   "cell_type": "markdown",
   "id": "2bed0cad",
   "metadata": {},
   "source": [
    "## Bagaimana cara kerja algoritma KNN?"
   ]
  },
  {
   "cell_type": "markdown",
   "id": "993f668b",
   "metadata": {},
   "source": [
    "KNN memiliki langkah-langkah dasar sebagai berikut: \n",
    "- Calculate distance \n",
    "- Find closest neighbors \n",
    "- Vote for labels"
   ]
  },
  {
   "cell_type": "markdown",
   "id": "9715e944",
   "metadata": {},
   "source": [
    "## KNN dengan Python Dengan scikit-learn: Contoh 1"
   ]
  },
  {
   "cell_type": "markdown",
   "id": "ff7fc1cf",
   "metadata": {},
   "source": [
    "### Mendefinisikan kumpulan data"
   ]
  },
  {
   "cell_type": "code",
   "execution_count": 38,
   "id": "8774a9cb",
   "metadata": {},
   "outputs": [],
   "source": [
    "# Menetapkan fitur dan variabel label \n",
    "# Fitur Pertama\n",
    "weather = ['Sunny','Sunny','Overcast','Rainy','Rainy','Rainy','Overcast','Sunny','Sunny', 'Rainy','Sunny','Overcast','Overcast','Rainy']\n",
    "\n",
    "# Fitur Kedua\n",
    "temp=['Hot','Hot','Hot','Mild','Cool','Cool','Cool','Mild','Cool','Mild','Mild','Mild','Hot','Mild']\n",
    "\n",
    "# Label atau variabel target\n",
    "play=['No','No','Yes','Yes','Yes','No','Yes','No','Yes','Yes','Yes','Yes','Yes','No']"
   ]
  },
  {
   "cell_type": "markdown",
   "id": "7353d818",
   "metadata": {},
   "source": [
    "### Mengkodekan kolom data"
   ]
  },
  {
   "cell_type": "markdown",
   "id": "e51f952b",
   "metadata": {},
   "source": [
    "merepresentasikan kolom kategorikal dalam kolom numerik. Untuk encode data ini, kita dapat memetakan setiap nilai menjadi sebuah angka. misalnya Overcast:0, Rainy:1, dan Sunny:2."
   ]
  },
  {
   "cell_type": "code",
   "execution_count": 40,
   "id": "a6e8cd8f",
   "metadata": {},
   "outputs": [
    {
     "name": "stdout",
     "output_type": "stream",
     "text": [
      "[2 2 0 1 1 1 0 2 2 1 2 0 0 1]\n"
     ]
    }
   ],
   "source": [
    "# menggunakan Label Encoder\n",
    "# import LabelEncoder\n",
    "from sklearn import preprocessing\n",
    "\n",
    "# membuat labelencoder\n",
    "le = preprocessing.LabelEncoder()\n",
    "\n",
    "# mengkonversi label sring ke numerik\n",
    "weather_encoded=le.fit_transform(weather)\n",
    "print(weather_encoded)"
   ]
  },
  {
   "cell_type": "code",
   "execution_count": 41,
   "id": "017b9cbc",
   "metadata": {},
   "outputs": [
    {
     "name": "stdout",
     "output_type": "stream",
     "text": [
      "[1 1 1 2 0 0 0 2 0 2 2 2 1 2]\n"
     ]
    }
   ],
   "source": [
    "# menyandikan temperature dan label ke dalam kolom numerik\n",
    "\n",
    "# mengkonversi label sring ke numerik\n",
    "temp_encoded=le.fit_transform(temp)\n",
    "\n",
    "label = le.fit_transform(play)\n",
    "print(temp_encoded)"
   ]
  },
  {
   "cell_type": "markdown",
   "id": "f8daf819",
   "metadata": {},
   "source": [
    "### Menggabungkan Fitur"
   ]
  },
  {
   "cell_type": "code",
   "execution_count": 42,
   "id": "0454f683",
   "metadata": {},
   "outputs": [
    {
     "name": "stdout",
     "output_type": "stream",
     "text": [
      "[(2, 1), (2, 1), (0, 1), (1, 2), (1, 0), (1, 0), (0, 0), (2, 2), (2, 0), (1, 2), (2, 2), (0, 2), (0, 1), (1, 2)]\n"
     ]
    }
   ],
   "source": [
    "# menggunakan fungsi \"zip\"\n",
    "\n",
    "# mengkombinasikan weather dan temp kedalam single list of tuples\n",
    "features = list(zip(weather_encoded, temp_encoded))\n",
    "\n",
    "print(features)"
   ]
  },
  {
   "cell_type": "markdown",
   "id": "be0d62e5",
   "metadata": {},
   "source": [
    "### Membuat Model"
   ]
  },
  {
   "cell_type": "markdown",
   "id": "41b11ea3",
   "metadata": {},
   "source": [
    "Pertama, impor modul KNeighboursClassifier dan buat classifier object KNN dengan meneruskan argumen jumlah tetangga dalam fungsi KNeighboursClassifier(). Kemudian, latih model kita dengan train set menggunakan fit() dan lakukan prediksi pada test set menggunakan predict()."
   ]
  },
  {
   "cell_type": "code",
   "execution_count": 44,
   "id": "f8ced9ac",
   "metadata": {},
   "outputs": [
    {
     "name": "stdout",
     "output_type": "stream",
     "text": [
      "[1]\n"
     ]
    }
   ],
   "source": [
    "from sklearn.neighbors import KNeighborsClassifier\n",
    "\n",
    "model = KNeighborsClassifier(n_neighbors=3)\n",
    "\n",
    "# Melatih model menggunakan training sets\n",
    "model.fit(features, label)\n",
    "\n",
    "# Memprediksi output\n",
    "predicted = model.predict([[0,2]]) # 0:Overcast, 2:Mild\n",
    "\n",
    "print(predicted)"
   ]
  },
  {
   "cell_type": "markdown",
   "id": "da45675b",
   "metadata": {},
   "source": [
    "Pada contoh di atas, kita memberikan input [0,2], di mana 0 berarti cuaca mendung/Overcast dan 2 berarti suhu sedang/Mild. Model memprediksi [1], yang artinya play."
   ]
  },
  {
   "cell_type": "markdown",
   "id": "52e7aba4",
   "metadata": {},
   "source": [
    "## KNN in Python With scikit-learn: KNN with Multiple Labels"
   ]
  },
  {
   "cell_type": "markdown",
   "id": "59a259ab",
   "metadata": {},
   "source": [
    "### Memuat Data"
   ]
  },
  {
   "cell_type": "code",
   "execution_count": 45,
   "id": "2b5151ce",
   "metadata": {},
   "outputs": [],
   "source": [
    "# Mengimpor pustaka scikit-learn dataset\n",
    "from sklearn import datasets\n",
    "\n",
    "# load dataset\n",
    "wine = datasets.load_wine()"
   ]
  },
  {
   "cell_type": "markdown",
   "id": "567a337b",
   "metadata": {},
   "source": [
    "### Menjelajahi Data"
   ]
  },
  {
   "cell_type": "code",
   "execution_count": 46,
   "id": "c4cdd392",
   "metadata": {},
   "outputs": [
    {
     "name": "stdout",
     "output_type": "stream",
     "text": [
      "['alcohol', 'malic_acid', 'ash', 'alcalinity_of_ash', 'magnesium', 'total_phenols', 'flavanoids', 'nonflavanoid_phenols', 'proanthocyanins', 'color_intensity', 'hue', 'od280/od315_of_diluted_wines', 'proline']\n"
     ]
    }
   ],
   "source": [
    "# mencetak nama fitur\n",
    "print(wine.feature_names)"
   ]
  },
  {
   "cell_type": "code",
   "execution_count": 47,
   "id": "3357ae6c",
   "metadata": {},
   "outputs": [
    {
     "name": "stdout",
     "output_type": "stream",
     "text": [
      "['class_0' 'class_1' 'class_2']\n"
     ]
    }
   ],
   "source": [
    "# mencetak label species(class_0, class_1, class_2)\n",
    "print(wine.target_names)"
   ]
  },
  {
   "cell_type": "code",
   "execution_count": 48,
   "id": "4c1d7ed9",
   "metadata": {},
   "outputs": [
    {
     "name": "stdout",
     "output_type": "stream",
     "text": [
      "[[1.423e+01 1.710e+00 2.430e+00 1.560e+01 1.270e+02 2.800e+00 3.060e+00\n",
      "  2.800e-01 2.290e+00 5.640e+00 1.040e+00 3.920e+00 1.065e+03]\n",
      " [1.320e+01 1.780e+00 2.140e+00 1.120e+01 1.000e+02 2.650e+00 2.760e+00\n",
      "  2.600e-01 1.280e+00 4.380e+00 1.050e+00 3.400e+00 1.050e+03]\n",
      " [1.316e+01 2.360e+00 2.670e+00 1.860e+01 1.010e+02 2.800e+00 3.240e+00\n",
      "  3.000e-01 2.810e+00 5.680e+00 1.030e+00 3.170e+00 1.185e+03]\n",
      " [1.437e+01 1.950e+00 2.500e+00 1.680e+01 1.130e+02 3.850e+00 3.490e+00\n",
      "  2.400e-01 2.180e+00 7.800e+00 8.600e-01 3.450e+00 1.480e+03]\n",
      " [1.324e+01 2.590e+00 2.870e+00 2.100e+01 1.180e+02 2.800e+00 2.690e+00\n",
      "  3.900e-01 1.820e+00 4.320e+00 1.040e+00 2.930e+00 7.350e+02]]\n"
     ]
    }
   ],
   "source": [
    "# periksa 5 record teratas dari set feature\n",
    "print(wine.data[0:5])"
   ]
  },
  {
   "cell_type": "code",
   "execution_count": 50,
   "id": "d92693b3",
   "metadata": {},
   "outputs": [
    {
     "name": "stdout",
     "output_type": "stream",
     "text": [
      "[0 0 0 0 0 0 0 0 0 0 0 0 0 0 0 0 0 0 0 0 0 0 0 0 0 0 0 0 0 0 0 0 0 0 0 0 0\n",
      " 0 0 0 0 0 0 0 0 0 0 0 0 0 0 0 0 0 0 0 0 0 0 1 1 1 1 1 1 1 1 1 1 1 1 1 1 1\n",
      " 1 1 1 1 1 1 1 1 1 1 1 1 1 1 1 1 1 1 1 1 1 1 1 1 1 1 1 1 1 1 1 1 1 1 1 1 1\n",
      " 1 1 1 1 1 1 1 1 1 1 1 1 1 1 1 1 1 1 1 2 2 2 2 2 2 2 2 2 2 2 2 2 2 2 2 2 2\n",
      " 2 2 2 2 2 2 2 2 2 2 2 2 2 2 2 2 2 2 2 2 2 2 2 2 2 2 2 2 2 2]\n"
     ]
    }
   ],
   "source": [
    "# periksa record set target\n",
    "print(wine.target)"
   ]
  },
  {
   "cell_type": "code",
   "execution_count": 51,
   "id": "f23be211",
   "metadata": {},
   "outputs": [
    {
     "name": "stdout",
     "output_type": "stream",
     "text": [
      "(178, 13)\n"
     ]
    }
   ],
   "source": [
    "# memeriksa dimensi data\n",
    "print(wine.data.shape)"
   ]
  },
  {
   "cell_type": "code",
   "execution_count": 52,
   "id": "b7bf25c7",
   "metadata": {},
   "outputs": [
    {
     "name": "stdout",
     "output_type": "stream",
     "text": [
      "(178,)\n"
     ]
    }
   ],
   "source": [
    "# memeriksa dimensi data target\n",
    "print(wine.target.shape)"
   ]
  },
  {
   "cell_type": "markdown",
   "id": "89efcf6d",
   "metadata": {},
   "source": [
    "### Splitting Data"
   ]
  },
  {
   "cell_type": "code",
   "execution_count": 59,
   "id": "9a22bbc7",
   "metadata": {},
   "outputs": [],
   "source": [
    "# mengimpor fungsi train_test_split\n",
    "from sklearn.model_selection import train_test_split\n",
    "\n",
    "# split dataset kedalam training set dan test set\n",
    "X_train, X_test, y_train, y_test = train_test_split(wine.data, wine.target, test_size=0.3) # 70% training 30% testing"
   ]
  },
  {
   "cell_type": "markdown",
   "id": "24263549",
   "metadata": {},
   "source": [
    "### Membuat Model"
   ]
  },
  {
   "cell_type": "markdown",
   "id": "86442701",
   "metadata": {},
   "source": [
    "Model pengklasifikasian KNN untuk K=5"
   ]
  },
  {
   "cell_type": "code",
   "execution_count": 60,
   "id": "a2f6d828",
   "metadata": {},
   "outputs": [],
   "source": [
    "from sklearn.neighbors import KNeighborsClassifier\n",
    "\n",
    "knn = KNeighborsClassifier(n_neighbors=5)\n",
    "\n",
    "# Melatih model menggunakan training sets\n",
    "knn.fit(X_train, y_train)\n",
    "\n",
    "# Memprediksi output\n",
    "y_pred = knn.predict(X_test)"
   ]
  },
  {
   "cell_type": "markdown",
   "id": "d6e211e4",
   "metadata": {},
   "source": [
    "Evaluasi Model untuk K=5"
   ]
  },
  {
   "cell_type": "code",
   "execution_count": 61,
   "id": "fd8441a3",
   "metadata": {},
   "outputs": [
    {
     "name": "stdout",
     "output_type": "stream",
     "text": [
      "Accuracy: 0.6851851851851852\n"
     ]
    }
   ],
   "source": [
    "# Import modul scikit-learn metrics untuk perhitungan kalkulasi\n",
    "from sklearn import metrics\n",
    "\n",
    "# model akurasi, sebearapa sering prediksi benar?\n",
    "print('Accuracy:', metrics.accuracy_score(y_test, y_pred))"
   ]
  },
  {
   "cell_type": "markdown",
   "id": "ab4ed7a7",
   "metadata": {},
   "source": [
    "Model pengklasifikasian KNN untuk K=7"
   ]
  },
  {
   "cell_type": "code",
   "execution_count": 62,
   "id": "9c29de62",
   "metadata": {},
   "outputs": [],
   "source": [
    "from sklearn.neighbors import KNeighborsClassifier\n",
    "\n",
    "knn = KNeighborsClassifier(n_neighbors=7)\n",
    "\n",
    "# Melatih model menggunakan training sets\n",
    "knn.fit(X_train, y_train)\n",
    "\n",
    "# Memprediksi output\n",
    "y_pred = knn.predict(X_test)"
   ]
  },
  {
   "cell_type": "markdown",
   "id": "b390ee7c",
   "metadata": {},
   "source": [
    "Evaluasi Model untuk K=7"
   ]
  },
  {
   "cell_type": "code",
   "execution_count": 63,
   "id": "eeb4ea04",
   "metadata": {},
   "outputs": [
    {
     "name": "stdout",
     "output_type": "stream",
     "text": [
      "Accuracy: 0.7407407407407407\n"
     ]
    }
   ],
   "source": [
    "# Import modul scikit-learn metrics untuk perhitungan kalkulasi\n",
    "from sklearn import metrics\n",
    "\n",
    "# model akurasi, sebearapa sering prediksi benar?\n",
    "print('Accuracy:', metrics.accuracy_score(y_test, y_pred))"
   ]
  },
  {
   "cell_type": "markdown",
   "id": "cac53d98",
   "metadata": {},
   "source": [
    "Sekarang saatnya improve model dan mencari tahu nilai k yang optimal."
   ]
  },
  {
   "cell_type": "code",
   "execution_count": 64,
   "id": "e1c054ce",
   "metadata": {},
   "outputs": [],
   "source": [
    "error = []\n",
    "\n",
    "# menghitung error untuk K values antara 1 dan 40\n",
    "for i in range(1, 40):\n",
    "    knn = KNeighborsClassifier(n_neighbors=i)\n",
    "    knn.fit(X_train, y_train)\n",
    "    pred_i = knn.predict(X_test)\n",
    "    error.append(np.mean(pred_i != y_test))"
   ]
  },
  {
   "cell_type": "code",
   "execution_count": 67,
   "id": "4a99e7cf",
   "metadata": {
    "scrolled": true
   },
   "outputs": [
    {
     "data": {
      "text/plain": [
       "Text(0, 0.5, 'Error mean')"
      ]
     },
     "execution_count": 67,
     "metadata": {},
     "output_type": "execute_result"
    },
    {
     "data": {
      "image/png": "[encoded data removed]",
      "text/plain": [
       "<Figure size 864x432 with 1 Axes>"
      ]
     },
     "metadata": {
      "needs_background": "light"
     },
     "output_type": "display_data"
    }
   ],
   "source": [
    "plt.figure(figsize=(12,6))\n",
    "plt.plot(range(1,40), error, color='red', linestyle='dashed', marker='o', markerfacecolor='blue', markersize=10)\n",
    "plt.title(\"Error Rate K\")\n",
    "plt.xlabel(\"K\")\n",
    "plt.ylabel(\"Error mean\")"
   ]
  },
  {
   "cell_type": "markdown",
   "id": "783b97f3",
   "metadata": {},
   "source": [
    "Dari plot tersebut terlihat bahwa error terkecil yang kita dapatkan adalah 0,24 pada K = 3."
   ]
  },
  {
   "cell_type": "code",
   "execution_count": 68,
   "id": "2f116279",
   "metadata": {},
   "outputs": [
    {
     "name": "stdout",
     "output_type": "stream",
     "text": [
      "Accuracy: 0.7592592592592593\n"
     ]
    }
   ],
   "source": [
    "from sklearn.neighbors import KNeighborsClassifier\n",
    "\n",
    "knn = KNeighborsClassifier(n_neighbors=3)\n",
    "\n",
    "# Melatih model menggunakan training sets\n",
    "knn.fit(X_train, y_train)\n",
    "\n",
    "# Memprediksi output\n",
    "y_pred = knn.predict(X_test)\n",
    "\n",
    "# Import modul scikit-learn metrics untuk perhitungan kalkulasi\n",
    "from sklearn import metrics\n",
    "\n",
    "# model akurasi, sebearapa sering prediksi benar?\n",
    "print('Accuracy:', metrics.accuracy_score(y_test, y_pred))"
   ]
  }
 ],
 "metadata": {
  "kernelspec": {
   "display_name": "Python 3 (ipykernel)",
   "language": "python",
   "name": "python3"
  },
  "language_info": {
   "codemirror_mode": {
    "name": "ipython",
    "version": 3
   },
   "file_extension": ".py",
   "mimetype": "text/x-python",
   "name": "python",
   "nbconvert_exporter": "python",
   "pygments_lexer": "ipython3",
   "version": "3.8.8"
  },
  "toc": {
   "base_numbering": 1,
   "nav_menu": {},
   "number_sections": true,
   "sideBar": true,
   "skip_h1_title": false,
   "title_cell": "Table of Contents",
   "title_sidebar": "Contents",
   "toc_cell": false,
   "toc_position": {},
   "toc_section_display": true,
   "toc_window_display": false
  },
  "varInspector": {
   "cols": {
    "lenName": 16,
    "lenType": 16,
    "lenVar": 40
   },
   "kernels_config": {
    "python": {
     "delete_cmd_postfix": "",
     "delete_cmd_prefix": "del ",
     "library": "var_list.py",
     "varRefreshCmd": "print(var_dic_list())"
    },
    "r": {
     "delete_cmd_postfix": ") ",
     "delete_cmd_prefix": "rm(",
     "library": "var_list.r",
     "varRefreshCmd": "cat(var_dic_list()) "
    }
   },
   "types_to_exclude": [
    "module",
    "function",
    "builtin_function_or_method",
    "instance",
    "_Feature"
   ],
   "window_display": false
  }
 },
 "nbformat": 4,
 "nbformat_minor": 5
}
