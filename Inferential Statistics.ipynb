{
 "cells": [
  {
   "cell_type": "markdown",
   "id": "7573408a",
   "metadata": {},
   "source": [
    "# Introduction"
   ]
  },
  {
   "cell_type": "markdown",
   "id": "f4f25382",
   "metadata": {},
   "source": [
    "Inferential statistics mengambil data sebagai sampel dari populasi yang lebih besar untuk membuat kesimpulan"
   ]
  },
  {
   "cell_type": "markdown",
   "id": "2283f2b7",
   "metadata": {},
   "source": [
    "# Why do we need inferential statistics"
   ]
  },
  {
   "cell_type": "markdown",
   "id": "5d890d59",
   "metadata": {},
   "source": [
    "Ada 2 metode yang dapat kita gunakan untuk menghitung hasil:\n",
    "- Kumpulkan data tentang setiap child\n",
    "- Gunakan data yang kita miliki untuk mengitung rata-rata keseluruhan"
   ]
  },
  {
   "cell_type": "markdown",
   "id": "cbc335da",
   "metadata": {},
   "source": [
    "Inferential statistics membantu kita menjawab pertanyaan:\n",
    "- Membuat kesimpulan tentang populasi dari sampel\n",
    "- Menyimpulkan apakah sampel berbeda secara signifikan dari populasi\n",
    "- Jika menambahkan atau menghapus fitur dari model akan membantu dalam meningkatkannya\n",
    "- Jika satu model berbeda secara signifikan dari yang lain\n",
    "- Pengujian Hipotesis"
   ]
  },
  {
   "cell_type": "markdown",
   "id": "158485b7",
   "metadata": {},
   "source": [
    "# Probability Distribution"
   ]
  },
  {
   "cell_type": "markdown",
   "id": "d06d5186",
   "metadata": {},
   "source": [
    "Probability distribution adalah fungsi dibawah teori dan statistik probabilitas yang memberi kita seberapa besar kemungkinan hasil yang berbeda dalam sebuah eksperimen"
   ]
  },
  {
   "cell_type": "markdown",
   "id": "0563f15c",
   "metadata": {},
   "source": [
    "# Random Variable"
   ]
  },
  {
   "cell_type": "markdown",
   "id": "a8839b77",
   "metadata": {},
   "source": [
    "Random variable adalah variabel yang kemungkinan nilainya merupakan hasil numerik dari fenomena acak. Ada 2 jenis variabel acak, diskrit dan kontinu"
   ]
  },
  {
   "cell_type": "markdown",
   "id": "6395161f",
   "metadata": {},
   "source": [
    "Discrete random variable adalah variabel yang mungkin hanya mengambil sejumlah nilai berbeda yang dapat dihitung dan dengan demikian dapat dikuantifikasi"
   ]
  },
  {
   "cell_type": "markdown",
   "id": "7e3520d9",
   "metadata": {},
   "source": [
    "Beberapa contoh dari discrete probability adalah bernoulli, binomial, dan poisson distribution"
   ]
  },
  {
   "cell_type": "markdown",
   "id": "e586c40e",
   "metadata": {},
   "source": [
    "Continous random variable adalah variabel yang mengambil jumlah kemungkinan nilai tak terbatas."
   ]
  },
  {
   "cell_type": "markdown",
   "id": "15e36a83",
   "metadata": {},
   "source": [
    "Contoh distribusi probabilitas kontinu adalah normal, exponential, dan beta distribution."
   ]
  },
  {
   "cell_type": "code",
   "execution_count": 2,
   "id": "799f7e1e",
   "metadata": {},
   "outputs": [],
   "source": [
    "# Mengimpor semua pustaka yang diperlukan\n",
    "# for inline plots in jupyter\n",
    "%matplotlib inline\n",
    "import matplotlib.pyplot as plt # import matplotlib\n",
    "from IPython.display import Math, Latex # for latex equations\n",
    "from IPython.core.display import Image # for displaying images"
   ]
  },
  {
   "cell_type": "code",
   "execution_count": 3,
   "id": "6d7bd49f",
   "metadata": {},
   "outputs": [],
   "source": [
    "import seaborn as sns #import seaborn\n",
    "sns.set(color_codes=True) #setting for seaborn plotting style\n",
    "sns.set(rc={'figure.figsize':(5,5)}) #setting for seaborn plot size"
   ]
  },
  {
   "cell_type": "markdown",
   "id": "722fca1f",
   "metadata": {},
   "source": [
    "# Uniform Distribution"
   ]
  },
  {
   "cell_type": "markdown",
   "id": "6a5c4b36",
   "metadata": {},
   "source": [
    "salah satu distribusi yang paling sederhana dan berguna adalah uniform distribution"
   ]
  },
  {
   "cell_type": "code",
   "execution_count": 4,
   "id": "449cb62b",
   "metadata": {},
   "outputs": [],
   "source": [
    "# mengimpor uniform function dari scipy.stats module\n",
    "from scipy.stats import uniform"
   ]
  },
  {
   "cell_type": "code",
   "execution_count": 5,
   "id": "e9eaabdd",
   "metadata": {},
   "outputs": [],
   "source": [
    "# random number from uniform distribution\n",
    "n = 1000\n",
    "start = 10\n",
    "width = 20\n",
    "data_uniform = uniform.rvs(size=n, loc=start, scale=width)"
   ]
  },
  {
   "cell_type": "code",
   "execution_count": 6,
   "id": "3ddf8ae3",
   "metadata": {},
   "outputs": [
    {
     "name": "stderr",
     "output_type": "stream",
     "text": [
      "C:\\Users\\ACER\\anaconda3\\lib\\site-packages\\seaborn\\distributions.py:2619: FutureWarning: `distplot` is a deprecated function and will be removed in a future version. Please adapt your code to use either `displot` (a figure-level function with similar flexibility) or `histplot` (an axes-level function for histograms).\n",
      "  warnings.warn(msg, FutureWarning)\n"
     ]
    },
    {
     "data": {
      "text/plain": [
       "[Text(0.5, 0, 'Uniform Distribution'), Text(0, 0.5, 'Frequency')]"
      ]
     },
     "execution_count": 6,
     "metadata": {},
     "output_type": "execute_result"
    },
    {
     "data": {
      "image/png": "[encoded data removed]",
      "text/plain": [
       "<Figure size 360x360 with 1 Axes>"
      ]
     },
     "metadata": {},
     "output_type": "display_data"
    }
   ],
   "source": [
    "# Memvisualisasikan distribusi menggunakan fungsi distplot seaborn\n",
    "ax = sns.distplot(data_uniform,\n",
    "                 bins=100,\n",
    "                 kde=True,\n",
    "                 color='skyblue',\n",
    "                 hist_kws={\"linewidth\":15,'alpha':1})\n",
    "ax.set(xlabel='Uniform Distribution', ylabel='Frequency')"
   ]
  },
  {
   "cell_type": "markdown",
   "id": "4fffab00",
   "metadata": {},
   "source": [
    "# Normal Distribution"
   ]
  },
  {
   "cell_type": "markdown",
   "id": "1667dc37",
   "metadata": {},
   "source": [
    "Dikenal juga sebagai Gaussian Distribution"
   ]
  },
  {
   "cell_type": "code",
   "execution_count": 7,
   "id": "bcce1396",
   "metadata": {},
   "outputs": [],
   "source": [
    "# Membuat normally distributed random variable menggunakan scipy.stats module yaitu norm.rvs()\n",
    "from scipy.stats import norm\n",
    "# generate random numbers from N(0,1)\n",
    "data_normal = norm.rvs(size=10000,loc=0,scale=1)"
   ]
  },
  {
   "cell_type": "code",
   "execution_count": 8,
   "id": "f969f139",
   "metadata": {},
   "outputs": [
    {
     "name": "stderr",
     "output_type": "stream",
     "text": [
      "C:\\Users\\ACER\\anaconda3\\lib\\site-packages\\seaborn\\distributions.py:2619: FutureWarning: `distplot` is a deprecated function and will be removed in a future version. Please adapt your code to use either `displot` (a figure-level function with similar flexibility) or `histplot` (an axes-level function for histograms).\n",
      "  warnings.warn(msg, FutureWarning)\n"
     ]
    },
    {
     "data": {
      "text/plain": [
       "[Text(0.5, 0, 'Normal Distribution'), Text(0, 0.5, 'Frequency')]"
      ]
     },
     "execution_count": 8,
     "metadata": {},
     "output_type": "execute_result"
    },
    {
     "data": {
      "image/png": "[encoded data removed]",
      "text/plain": [
       "<Figure size 360x360 with 1 Axes>"
      ]
     },
     "metadata": {},
     "output_type": "display_data"
    }
   ],
   "source": [
    "# Memvisualisasikan distribusi menggunakan fungsi distplot seaborn\n",
    "ax = sns.distplot(data_normal,\n",
    "                 bins=100,\n",
    "                 kde=True,\n",
    "                 color='skyblue',\n",
    "                 hist_kws={\"linewidth\":15,'alpha':1})\n",
    "ax.set(xlabel='Normal Distribution', ylabel='Frequency')"
   ]
  },
  {
   "cell_type": "markdown",
   "id": "86f52298",
   "metadata": {},
   "source": [
    "# Gamma Distribution"
   ]
  },
  {
   "cell_type": "markdown",
   "id": "d07023fc",
   "metadata": {},
   "source": [
    "adalah two-parameter family dari continous probability distribution"
   ]
  },
  {
   "cell_type": "code",
   "execution_count": 9,
   "id": "c710b3a5",
   "metadata": {},
   "outputs": [],
   "source": [
    "# Membuat gamma distributed random variable menggunakan metode gamma.rvs()\n",
    "from scipy.stats import gamma\n",
    "data_gamma = gamma.rvs(a=5,size=10000)"
   ]
  },
  {
   "cell_type": "code",
   "execution_count": 10,
   "id": "faa7fe81",
   "metadata": {},
   "outputs": [
    {
     "name": "stderr",
     "output_type": "stream",
     "text": [
      "C:\\Users\\ACER\\anaconda3\\lib\\site-packages\\seaborn\\distributions.py:2619: FutureWarning: `distplot` is a deprecated function and will be removed in a future version. Please adapt your code to use either `displot` (a figure-level function with similar flexibility) or `histplot` (an axes-level function for histograms).\n",
      "  warnings.warn(msg, FutureWarning)\n"
     ]
    },
    {
     "data": {
      "text/plain": [
       "[Text(0.5, 0, 'Gamma Distribution'), Text(0, 0.5, 'Frequency')]"
      ]
     },
     "execution_count": 10,
     "metadata": {},
     "output_type": "execute_result"
    },
    {
     "data": {
      "image/png": "[encoded data removed]",
      "text/plain": [
       "<Figure size 360x360 with 1 Axes>"
      ]
     },
     "metadata": {},
     "output_type": "display_data"
    }
   ],
   "source": [
    "# Memvisualisasikan distribusi menggunakan fungsi distplot seaborn\n",
    "ax = sns.distplot(data_gamma,\n",
    "                 bins=100,\n",
    "                 kde=True,\n",
    "                 color='skyblue',\n",
    "                 hist_kws={\"linewidth\":15,'alpha':1})\n",
    "ax.set(xlabel='Gamma Distribution', ylabel='Frequency')"
   ]
  },
  {
   "cell_type": "markdown",
   "id": "a0319cec",
   "metadata": {},
   "source": [
    "# Exponential Distribution"
   ]
  },
  {
   "cell_type": "markdown",
   "id": "3d5bce33",
   "metadata": {},
   "source": [
    "Exponential distribution menggambarkan waktu antara peristiwa dalam Poisson point process, yaitu process dimana peristiwa terjadi terus menerus dan independen pada tingka rata2 yang konstan"
   ]
  },
  {
   "cell_type": "code",
   "execution_count": 11,
   "id": "d6716f5c",
   "metadata": {},
   "outputs": [],
   "source": [
    "# Membuat exponentially distributed random variable menggunakan metode expon.rvs()\n",
    "from scipy.stats import expon\n",
    "data_expon = expon.rvs(scale=1,loc=0,size=1000)"
   ]
  },
  {
   "cell_type": "code",
   "execution_count": 12,
   "id": "6c7389d3",
   "metadata": {},
   "outputs": [
    {
     "name": "stderr",
     "output_type": "stream",
     "text": [
      "C:\\Users\\ACER\\anaconda3\\lib\\site-packages\\seaborn\\distributions.py:2619: FutureWarning: `distplot` is a deprecated function and will be removed in a future version. Please adapt your code to use either `displot` (a figure-level function with similar flexibility) or `histplot` (an axes-level function for histograms).\n",
      "  warnings.warn(msg, FutureWarning)\n"
     ]
    },
    {
     "data": {
      "text/plain": [
       "[Text(0.5, 0, 'Exponential Distribution'), Text(0, 0.5, 'Frequency')]"
      ]
     },
     "execution_count": 12,
     "metadata": {},
     "output_type": "execute_result"
    },
    {
     "data": {
      "image/png": "[encoded data removed]",
      "text/plain": [
       "<Figure size 360x360 with 1 Axes>"
      ]
     },
     "metadata": {},
     "output_type": "display_data"
    }
   ],
   "source": [
    "# Memvisualisasikan distribusi menggunakan fungsi distplot seaborn\n",
    "ax = sns.distplot(data_expon,\n",
    "                 bins=100,\n",
    "                 kde=True,\n",
    "                 color='skyblue',\n",
    "                 hist_kws={\"linewidth\":15,'alpha':1})\n",
    "ax.set(xlabel='Exponential Distribution', ylabel='Frequency')"
   ]
  },
  {
   "cell_type": "markdown",
   "id": "0c637337",
   "metadata": {},
   "source": [
    "# Poisson Distribution"
   ]
  },
  {
   "cell_type": "markdown",
   "id": "00ba31e1",
   "metadata": {},
   "source": [
    "Poisson random variable biasanya digunakan untuk memodelkan berapa kali suatu peristiwa terjadi dalam interval waktu."
   ]
  },
  {
   "cell_type": "code",
   "execution_count": 13,
   "id": "758d6ec5",
   "metadata": {},
   "outputs": [],
   "source": [
    "# Membuat poisson distributed random variable menggunakan metode poisson.rvs()\n",
    "from scipy.stats import poisson\n",
    "data_poisson = poisson.rvs(mu=3,size=10000)"
   ]
  },
  {
   "cell_type": "code",
   "execution_count": 15,
   "id": "10db06ad",
   "metadata": {},
   "outputs": [
    {
     "name": "stderr",
     "output_type": "stream",
     "text": [
      "C:\\Users\\ACER\\anaconda3\\lib\\site-packages\\seaborn\\distributions.py:2619: FutureWarning: `distplot` is a deprecated function and will be removed in a future version. Please adapt your code to use either `displot` (a figure-level function with similar flexibility) or `histplot` (an axes-level function for histograms).\n",
      "  warnings.warn(msg, FutureWarning)\n"
     ]
    },
    {
     "data": {
      "text/plain": [
       "[Text(0.5, 0, 'Poisson Distribution'), Text(0, 0.5, 'Frequency')]"
      ]
     },
     "execution_count": 15,
     "metadata": {},
     "output_type": "execute_result"
    },
    {
     "data": {
      "image/png": "[encoded data removed]",
      "text/plain": [
       "<Figure size 360x360 with 1 Axes>"
      ]
     },
     "metadata": {},
     "output_type": "display_data"
    }
   ],
   "source": [
    "# Memvisualisasikan distribusi menggunakan fungsi distplot seaborn\n",
    "ax = sns.distplot(data_poisson,\n",
    "                 bins=30,\n",
    "                 kde=False,\n",
    "                 color='skyblue',\n",
    "                 hist_kws={\"linewidth\":15,'alpha':1})\n",
    "ax.set(xlabel='Poisson Distribution', ylabel='Frequency')"
   ]
  },
  {
   "cell_type": "markdown",
   "id": "4a84cc8a",
   "metadata": {},
   "source": [
    "# Binomial Distribution"
   ]
  },
  {
   "cell_type": "markdown",
   "id": "1622beb4",
   "metadata": {},
   "source": [
    "Distribusi dimana hanya 2 hasil yang mungkin seperti sukses atau gagal, untung atau rugi, menang kalah disebut Binomial Distribution"
   ]
  },
  {
   "cell_type": "code",
   "execution_count": 16,
   "id": "57956fb6",
   "metadata": {},
   "outputs": [],
   "source": [
    "# Membuat binomial distributed random variable menggunakan metode binom.rvs()\n",
    "from scipy.stats import binom\n",
    "data_binom = binom.rvs(n=10,p=0.8,size=10000)"
   ]
  },
  {
   "cell_type": "code",
   "execution_count": 17,
   "id": "7803b84a",
   "metadata": {},
   "outputs": [
    {
     "name": "stderr",
     "output_type": "stream",
     "text": [
      "C:\\Users\\ACER\\anaconda3\\lib\\site-packages\\seaborn\\distributions.py:2619: FutureWarning: `distplot` is a deprecated function and will be removed in a future version. Please adapt your code to use either `displot` (a figure-level function with similar flexibility) or `histplot` (an axes-level function for histograms).\n",
      "  warnings.warn(msg, FutureWarning)\n"
     ]
    },
    {
     "data": {
      "text/plain": [
       "[Text(0.5, 0, 'Binomial Distribution'), Text(0, 0.5, 'Frequency')]"
      ]
     },
     "execution_count": 17,
     "metadata": {},
     "output_type": "execute_result"
    },
    {
     "data": {
      "image/png": "[encoded data removed]",
      "text/plain": [
       "<Figure size 360x360 with 1 Axes>"
      ]
     },
     "metadata": {},
     "output_type": "display_data"
    }
   ],
   "source": [
    "# Memvisualisasikan distribusi menggunakan fungsi distplot seaborn\n",
    "ax = sns.distplot(data_binom,\n",
    "                 kde=False,\n",
    "                 color='skyblue',\n",
    "                 hist_kws={\"linewidth\":15,'alpha':1})\n",
    "ax.set(xlabel='Binomial Distribution', ylabel='Frequency')"
   ]
  },
  {
   "cell_type": "markdown",
   "id": "694866a3",
   "metadata": {},
   "source": [
    "Perhatikan bahwa karena probabilitas sukses lebih besar dari 0,5 yakni p=0.8 maka distribusi miring ke arah kanan"
   ]
  },
  {
   "cell_type": "markdown",
   "id": "a3ce77b7",
   "metadata": {},
   "source": [
    "# Bernoulli Distribution"
   ]
  },
  {
   "cell_type": "code",
   "execution_count": 18,
   "id": "25cf6dcc",
   "metadata": {},
   "outputs": [],
   "source": [
    "# Membuat bernoulli distributed random variable menggunakan metode bernoulli.rvs()\n",
    "from scipy.stats import bernoulli\n",
    "data_bern = bernoulli.rvs(p=0.6,size=10000)"
   ]
  },
  {
   "cell_type": "code",
   "execution_count": 19,
   "id": "db1d14bb",
   "metadata": {},
   "outputs": [
    {
     "name": "stderr",
     "output_type": "stream",
     "text": [
      "C:\\Users\\ACER\\anaconda3\\lib\\site-packages\\seaborn\\distributions.py:2619: FutureWarning: `distplot` is a deprecated function and will be removed in a future version. Please adapt your code to use either `displot` (a figure-level function with similar flexibility) or `histplot` (an axes-level function for histograms).\n",
      "  warnings.warn(msg, FutureWarning)\n"
     ]
    },
    {
     "data": {
      "text/plain": [
       "[Text(0.5, 0, 'Bernoulli Distribution'), Text(0, 0.5, 'Frequency')]"
      ]
     },
     "execution_count": 19,
     "metadata": {},
     "output_type": "execute_result"
    },
    {
     "data": {
      "image/png": "[encoded data removed]",
      "text/plain": [
       "<Figure size 360x360 with 1 Axes>"
      ]
     },
     "metadata": {},
     "output_type": "display_data"
    }
   ],
   "source": [
    "# Memvisualisasikan distribusi menggunakan fungsi distplot seaborn\n",
    "ax = sns.distplot(data_bern,\n",
    "                 kde=False,\n",
    "                 color='skyblue',\n",
    "                 hist_kws={\"linewidth\":15,'alpha':1})\n",
    "ax.set(xlabel='Bernoulli Distribution', ylabel='Frequency')"
   ]
  },
  {
   "cell_type": "markdown",
   "id": "2521f30b",
   "metadata": {},
   "source": [
    "# Confidence Intervals"
   ]
  },
  {
   "cell_type": "markdown",
   "id": "0c625271",
   "metadata": {},
   "source": [
    "Confidence Interval(CI) adalah jenis estimasi yang dihitung dari data statistik yang diamati. CI adalah rentang antara 2 nilai dimana nilai suatu sample Mean tepat berada di tengah-tengahnya"
   ]
  },
  {
   "cell_type": "markdown",
   "id": "e24ed611",
   "metadata": {},
   "source": [
    "Mengapa kita membutuhkan rentang? karena dalam kehidupan nyata, kita perhatian dengan keyakinan perkiraan kita. Interval Kepercayaan adalah rentang dimana kita mengharapkan parameter populasi"
   ]
  },
  {
   "cell_type": "markdown",
   "id": "9c701f88",
   "metadata": {},
   "source": [
    "Biasanya, CI dihitung untuk 2 parameter statistik yakni proporsi dan rata-rata. Nilai-z untuk CI 95% untuk ukuran sampel yang cukup besar (30 atau lebih) adalah 1,96"
   ]
  },
  {
   "cell_type": "markdown",
   "id": "7fbbb5da",
   "metadata": {},
   "source": [
    "## CI for the population in Python"
   ]
  },
  {
   "cell_type": "code",
   "execution_count": 20,
   "id": "64e43c59",
   "metadata": {},
   "outputs": [
    {
     "data": {
      "text/html": [
       "<div>\n",
       "<style scoped>\n",
       "    .dataframe tbody tr th:only-of-type {\n",
       "        vertical-align: middle;\n",
       "    }\n",
       "\n",
       "    .dataframe tbody tr th {\n",
       "        vertical-align: top;\n",
       "    }\n",
       "\n",
       "    .dataframe thead th {\n",
       "        text-align: right;\n",
       "    }\n",
       "</style>\n",
       "<table border=\"1\" class=\"dataframe\">\n",
       "  <thead>\n",
       "    <tr style=\"text-align: right;\">\n",
       "      <th></th>\n",
       "      <th>age</th>\n",
       "      <th>sex</th>\n",
       "      <th>cp</th>\n",
       "      <th>trestbps</th>\n",
       "      <th>chol</th>\n",
       "      <th>fbs</th>\n",
       "      <th>restecg</th>\n",
       "      <th>thalach</th>\n",
       "      <th>exang</th>\n",
       "      <th>oldpeak</th>\n",
       "      <th>slope</th>\n",
       "      <th>ca</th>\n",
       "      <th>thal</th>\n",
       "      <th>target</th>\n",
       "    </tr>\n",
       "  </thead>\n",
       "  <tbody>\n",
       "    <tr>\n",
       "      <th>0</th>\n",
       "      <td>52</td>\n",
       "      <td>1</td>\n",
       "      <td>0</td>\n",
       "      <td>125</td>\n",
       "      <td>212</td>\n",
       "      <td>0</td>\n",
       "      <td>1</td>\n",
       "      <td>168</td>\n",
       "      <td>0</td>\n",
       "      <td>1.0</td>\n",
       "      <td>2</td>\n",
       "      <td>2</td>\n",
       "      <td>3</td>\n",
       "      <td>0</td>\n",
       "    </tr>\n",
       "    <tr>\n",
       "      <th>1</th>\n",
       "      <td>53</td>\n",
       "      <td>1</td>\n",
       "      <td>0</td>\n",
       "      <td>140</td>\n",
       "      <td>203</td>\n",
       "      <td>1</td>\n",
       "      <td>0</td>\n",
       "      <td>155</td>\n",
       "      <td>1</td>\n",
       "      <td>3.1</td>\n",
       "      <td>0</td>\n",
       "      <td>0</td>\n",
       "      <td>3</td>\n",
       "      <td>0</td>\n",
       "    </tr>\n",
       "    <tr>\n",
       "      <th>2</th>\n",
       "      <td>70</td>\n",
       "      <td>1</td>\n",
       "      <td>0</td>\n",
       "      <td>145</td>\n",
       "      <td>174</td>\n",
       "      <td>0</td>\n",
       "      <td>1</td>\n",
       "      <td>125</td>\n",
       "      <td>1</td>\n",
       "      <td>2.6</td>\n",
       "      <td>0</td>\n",
       "      <td>0</td>\n",
       "      <td>3</td>\n",
       "      <td>0</td>\n",
       "    </tr>\n",
       "    <tr>\n",
       "      <th>3</th>\n",
       "      <td>61</td>\n",
       "      <td>1</td>\n",
       "      <td>0</td>\n",
       "      <td>148</td>\n",
       "      <td>203</td>\n",
       "      <td>0</td>\n",
       "      <td>1</td>\n",
       "      <td>161</td>\n",
       "      <td>0</td>\n",
       "      <td>0.0</td>\n",
       "      <td>2</td>\n",
       "      <td>1</td>\n",
       "      <td>3</td>\n",
       "      <td>0</td>\n",
       "    </tr>\n",
       "    <tr>\n",
       "      <th>4</th>\n",
       "      <td>62</td>\n",
       "      <td>0</td>\n",
       "      <td>0</td>\n",
       "      <td>138</td>\n",
       "      <td>294</td>\n",
       "      <td>1</td>\n",
       "      <td>1</td>\n",
       "      <td>106</td>\n",
       "      <td>0</td>\n",
       "      <td>1.9</td>\n",
       "      <td>1</td>\n",
       "      <td>3</td>\n",
       "      <td>2</td>\n",
       "      <td>0</td>\n",
       "    </tr>\n",
       "    <tr>\n",
       "      <th>...</th>\n",
       "      <td>...</td>\n",
       "      <td>...</td>\n",
       "      <td>...</td>\n",
       "      <td>...</td>\n",
       "      <td>...</td>\n",
       "      <td>...</td>\n",
       "      <td>...</td>\n",
       "      <td>...</td>\n",
       "      <td>...</td>\n",
       "      <td>...</td>\n",
       "      <td>...</td>\n",
       "      <td>...</td>\n",
       "      <td>...</td>\n",
       "      <td>...</td>\n",
       "    </tr>\n",
       "    <tr>\n",
       "      <th>1020</th>\n",
       "      <td>59</td>\n",
       "      <td>1</td>\n",
       "      <td>1</td>\n",
       "      <td>140</td>\n",
       "      <td>221</td>\n",
       "      <td>0</td>\n",
       "      <td>1</td>\n",
       "      <td>164</td>\n",
       "      <td>1</td>\n",
       "      <td>0.0</td>\n",
       "      <td>2</td>\n",
       "      <td>0</td>\n",
       "      <td>2</td>\n",
       "      <td>1</td>\n",
       "    </tr>\n",
       "    <tr>\n",
       "      <th>1021</th>\n",
       "      <td>60</td>\n",
       "      <td>1</td>\n",
       "      <td>0</td>\n",
       "      <td>125</td>\n",
       "      <td>258</td>\n",
       "      <td>0</td>\n",
       "      <td>0</td>\n",
       "      <td>141</td>\n",
       "      <td>1</td>\n",
       "      <td>2.8</td>\n",
       "      <td>1</td>\n",
       "      <td>1</td>\n",
       "      <td>3</td>\n",
       "      <td>0</td>\n",
       "    </tr>\n",
       "    <tr>\n",
       "      <th>1022</th>\n",
       "      <td>47</td>\n",
       "      <td>1</td>\n",
       "      <td>0</td>\n",
       "      <td>110</td>\n",
       "      <td>275</td>\n",
       "      <td>0</td>\n",
       "      <td>0</td>\n",
       "      <td>118</td>\n",
       "      <td>1</td>\n",
       "      <td>1.0</td>\n",
       "      <td>1</td>\n",
       "      <td>1</td>\n",
       "      <td>2</td>\n",
       "      <td>0</td>\n",
       "    </tr>\n",
       "    <tr>\n",
       "      <th>1023</th>\n",
       "      <td>50</td>\n",
       "      <td>0</td>\n",
       "      <td>0</td>\n",
       "      <td>110</td>\n",
       "      <td>254</td>\n",
       "      <td>0</td>\n",
       "      <td>0</td>\n",
       "      <td>159</td>\n",
       "      <td>0</td>\n",
       "      <td>0.0</td>\n",
       "      <td>2</td>\n",
       "      <td>0</td>\n",
       "      <td>2</td>\n",
       "      <td>1</td>\n",
       "    </tr>\n",
       "    <tr>\n",
       "      <th>1024</th>\n",
       "      <td>54</td>\n",
       "      <td>1</td>\n",
       "      <td>0</td>\n",
       "      <td>120</td>\n",
       "      <td>188</td>\n",
       "      <td>0</td>\n",
       "      <td>1</td>\n",
       "      <td>113</td>\n",
       "      <td>0</td>\n",
       "      <td>1.4</td>\n",
       "      <td>1</td>\n",
       "      <td>1</td>\n",
       "      <td>3</td>\n",
       "      <td>0</td>\n",
       "    </tr>\n",
       "  </tbody>\n",
       "</table>\n",
       "<p>1025 rows × 14 columns</p>\n",
       "</div>"
      ],
      "text/plain": [
       "      age  sex  cp  trestbps  chol  fbs  restecg  thalach  exang  oldpeak  \\\n",
       "0      52    1   0       125   212    0        1      168      0      1.0   \n",
       "1      53    1   0       140   203    1        0      155      1      3.1   \n",
       "2      70    1   0       145   174    0        1      125      1      2.6   \n",
       "3      61    1   0       148   203    0        1      161      0      0.0   \n",
       "4      62    0   0       138   294    1        1      106      0      1.9   \n",
       "...   ...  ...  ..       ...   ...  ...      ...      ...    ...      ...   \n",
       "1020   59    1   1       140   221    0        1      164      1      0.0   \n",
       "1021   60    1   0       125   258    0        0      141      1      2.8   \n",
       "1022   47    1   0       110   275    0        0      118      1      1.0   \n",
       "1023   50    0   0       110   254    0        0      159      0      0.0   \n",
       "1024   54    1   0       120   188    0        1      113      0      1.4   \n",
       "\n",
       "      slope  ca  thal  target  \n",
       "0         2   2     3       0  \n",
       "1         0   0     3       0  \n",
       "2         0   0     3       0  \n",
       "3         2   1     3       0  \n",
       "4         1   3     2       0  \n",
       "...     ...  ..   ...     ...  \n",
       "1020      2   0     2       1  \n",
       "1021      1   1     3       0  \n",
       "1022      1   1     2       0  \n",
       "1023      2   0     2       1  \n",
       "1024      1   1     3       0  \n",
       "\n",
       "[1025 rows x 14 columns]"
      ]
     },
     "execution_count": 20,
     "metadata": {},
     "output_type": "execute_result"
    }
   ],
   "source": [
    "# Mengimpor packages dan dataset\n",
    "import pandas as pd\n",
    "import numpy as np\n",
    "df = pd.read_csv('heart.csv')\n",
    "df"
   ]
  },
  {
   "cell_type": "markdown",
   "id": "7ff56fd3",
   "metadata": {},
   "source": [
    "Kita akan membuat CI untuk proporsi populasi wanita yang memiliki penyakit jantung"
   ]
  },
  {
   "cell_type": "code",
   "execution_count": 24,
   "id": "92ec2cc9",
   "metadata": {},
   "outputs": [],
   "source": [
    "# Pertama, ganti 1 dan 0 dengan 'Pria' dan 'Wanita' di kolom baru 'Sex1'\n",
    "df['Sex1'] = df.sex.replace({1:\"Male\", 0:\"Female\"})"
   ]
  },
  {
   "cell_type": "code",
   "execution_count": 25,
   "id": "11b9c74a",
   "metadata": {},
   "outputs": [],
   "source": [
    "# Buat DataFrame hanya dengan 2 kolom ini dan drop semua nilai null\n",
    "dx = df[[\"target\", \"Sex1\"]].dropna()"
   ]
  },
  {
   "cell_type": "code",
   "execution_count": 26,
   "id": "5e090c95",
   "metadata": {},
   "outputs": [
    {
     "data": {
      "text/html": [
       "<div>\n",
       "<style scoped>\n",
       "    .dataframe tbody tr th:only-of-type {\n",
       "        vertical-align: middle;\n",
       "    }\n",
       "\n",
       "    .dataframe tbody tr th {\n",
       "        vertical-align: top;\n",
       "    }\n",
       "\n",
       "    .dataframe thead th {\n",
       "        text-align: right;\n",
       "    }\n",
       "</style>\n",
       "<table border=\"1\" class=\"dataframe\">\n",
       "  <thead>\n",
       "    <tr style=\"text-align: right;\">\n",
       "      <th>Sex1</th>\n",
       "      <th>Female</th>\n",
       "      <th>Male</th>\n",
       "    </tr>\n",
       "    <tr>\n",
       "      <th>target</th>\n",
       "      <th></th>\n",
       "      <th></th>\n",
       "    </tr>\n",
       "  </thead>\n",
       "  <tbody>\n",
       "    <tr>\n",
       "      <th>0</th>\n",
       "      <td>86</td>\n",
       "      <td>413</td>\n",
       "    </tr>\n",
       "    <tr>\n",
       "      <th>1</th>\n",
       "      <td>226</td>\n",
       "      <td>300</td>\n",
       "    </tr>\n",
       "  </tbody>\n",
       "</table>\n",
       "</div>"
      ],
      "text/plain": [
       "Sex1    Female  Male\n",
       "target              \n",
       "0           86   413\n",
       "1          226   300"
      ]
     },
     "execution_count": 26,
     "metadata": {},
     "output_type": "execute_result"
    }
   ],
   "source": [
    "# Menunjukkan jumlah pria dan wanita yang menderita penyakit jantung & tidak\n",
    "pd.crosstab(dx.target, dx.Sex1)"
   ]
  },
  {
   "cell_type": "code",
   "execution_count": 28,
   "id": "cf76b473",
   "metadata": {},
   "outputs": [
    {
     "data": {
      "text/plain": [
       "0.7243589743589743"
      ]
     },
     "execution_count": 28,
     "metadata": {},
     "output_type": "execute_result"
    }
   ],
   "source": [
    "# hitung proporsi penduduk wanita yang menderita penyakit jantung\n",
    "p_fm = 226/(86+226)\n",
    "p_fm"
   ]
  },
  {
   "cell_type": "code",
   "execution_count": 29,
   "id": "601650fc",
   "metadata": {},
   "outputs": [
    {
     "data": {
      "text/plain": [
       "312"
      ]
     },
     "execution_count": 29,
     "metadata": {},
     "output_type": "execute_result"
    }
   ],
   "source": [
    "# hitung jumlah populasi wanita\n",
    "n = 86 + 226\n",
    "n"
   ]
  },
  {
   "cell_type": "code",
   "execution_count": 30,
   "id": "e44e08cb",
   "metadata": {},
   "outputs": [
    {
     "data": {
      "text/plain": [
       "0.02529714756803247"
      ]
     },
     "execution_count": 30,
     "metadata": {},
     "output_type": "execute_result"
    }
   ],
   "source": [
    "# hitung standard error\n",
    "se_female = np.sqrt(p_fm * (1-p_fm)/n)\n",
    "se_female"
   ]
  },
  {
   "cell_type": "code",
   "execution_count": 31,
   "id": "fb2c34b2",
   "metadata": {},
   "outputs": [
    {
     "data": {
      "text/plain": [
       "(0.6747765651256307, 0.773941383592318)"
      ]
     },
     "execution_count": 31,
     "metadata": {},
     "output_type": "execute_result"
    }
   ],
   "source": [
    "# buat CI menggunakan rumus diatas, z-score = 1.96 dan CI 95%\n",
    "z_score = 1.96\n",
    "lcb = p_fm - z_score * se_female #lower limit of the CI\n",
    "ucb = p_fm + z_score * se_female #upper limit of the CI\n",
    "lcb,ucb"
   ]
  },
  {
   "cell_type": "markdown",
   "id": "b1be79f3",
   "metadata": {},
   "source": [
    "Confidence interval adalah 0,67 dan 0,77"
   ]
  },
  {
   "cell_type": "code",
   "execution_count": 32,
   "id": "b9d6e74e",
   "metadata": {},
   "outputs": [
    {
     "data": {
      "text/plain": [
       "(0.6747774762140357, 0.773940472503913)"
      ]
     },
     "execution_count": 32,
     "metadata": {},
     "output_type": "execute_result"
    }
   ],
   "source": [
    "# menghitung menggunakan library 'statsmodels'\n",
    "import statsmodels.api as sm\n",
    "sm.stats.proportion_confint(n * p_fm, n)"
   ]
  },
  {
   "cell_type": "markdown",
   "id": "aefe9748",
   "metadata": {},
   "source": [
    "## Calculation of CI of Mean"
   ]
  },
  {
   "cell_type": "code",
   "execution_count": 33,
   "id": "f9f222aa",
   "metadata": {
    "scrolled": true
   },
   "outputs": [
    {
     "data": {
      "text/html": [
       "<div>\n",
       "<style scoped>\n",
       "    .dataframe tbody tr th:only-of-type {\n",
       "        vertical-align: middle;\n",
       "    }\n",
       "\n",
       "    .dataframe tbody tr th {\n",
       "        vertical-align: top;\n",
       "    }\n",
       "\n",
       "    .dataframe thead tr th {\n",
       "        text-align: left;\n",
       "    }\n",
       "\n",
       "    .dataframe thead tr:last-of-type th {\n",
       "        text-align: right;\n",
       "    }\n",
       "</style>\n",
       "<table border=\"1\" class=\"dataframe\">\n",
       "  <thead>\n",
       "    <tr>\n",
       "      <th></th>\n",
       "      <th colspan=\"3\" halign=\"left\">chol</th>\n",
       "    </tr>\n",
       "    <tr>\n",
       "      <th></th>\n",
       "      <th>mean</th>\n",
       "      <th>std</th>\n",
       "      <th>size</th>\n",
       "    </tr>\n",
       "    <tr>\n",
       "      <th>Sex1</th>\n",
       "      <th></th>\n",
       "      <th></th>\n",
       "      <th></th>\n",
       "    </tr>\n",
       "  </thead>\n",
       "  <tbody>\n",
       "    <tr>\n",
       "      <th>Female</th>\n",
       "      <td>261.455128</td>\n",
       "      <td>64.466781</td>\n",
       "      <td>312</td>\n",
       "    </tr>\n",
       "    <tr>\n",
       "      <th>Male</th>\n",
       "      <td>239.237027</td>\n",
       "      <td>43.155535</td>\n",
       "      <td>713</td>\n",
       "    </tr>\n",
       "  </tbody>\n",
       "</table>\n",
       "</div>"
      ],
      "text/plain": [
       "              chol                \n",
       "              mean        std size\n",
       "Sex1                              \n",
       "Female  261.455128  64.466781  312\n",
       "Male    239.237027  43.155535  713"
      ]
     },
     "execution_count": 33,
     "metadata": {},
     "output_type": "execute_result"
    }
   ],
   "source": [
    "# mendapatkan mean, standard deviation, dan population size dari populasi pria dan wanita\n",
    "df.groupby(\"Sex1\").agg({\"chol\": [np.mean, np.std, np.size]})"
   ]
  },
  {
   "cell_type": "code",
   "execution_count": 37,
   "id": "bd955d22",
   "metadata": {},
   "outputs": [],
   "source": [
    "mean_fe = 261.45 #mean cholesterol of female\n",
    "sd = 64.4 #standard deviation for female population\n",
    "n = 312 #total number of female\n",
    "z = 1.96 #z-score from the z table mentioned before"
   ]
  },
  {
   "cell_type": "code",
   "execution_count": 38,
   "id": "a24fdc4c",
   "metadata": {},
   "outputs": [],
   "source": [
    "# hitung kesalahan standar menggunakan rumus kesalahan stadar rata2\n",
    "se = sd / np.sqrt(n)"
   ]
  },
  {
   "cell_type": "code",
   "execution_count": 39,
   "id": "200dbcf1",
   "metadata": {},
   "outputs": [
    {
     "data": {
      "text/plain": [
       "(254.3039731821066, 268.59602681789335)"
      ]
     },
     "execution_count": 39,
     "metadata": {},
     "output_type": "execute_result"
    }
   ],
   "source": [
    "# buat CI menggunakan rumus diatas, z-score = 1.96 dan CI 95%\n",
    "lcb = mean_fe - z * se #lower limit of the CI\n",
    "ucb = mean_fe + z * se #upper limit of the CI\n",
    "lcb,ucb"
   ]
  },
  {
   "cell_type": "markdown",
   "id": "e695e7a6",
   "metadata": {},
   "source": [
    "Berarti rata-rata kolesterol populasi wanita yang sebenarnya akan turun antara 254.303 dan 268.596"
   ]
  },
  {
   "cell_type": "markdown",
   "id": "a8dbb5f0",
   "metadata": {},
   "source": [
    "## Other example of Confidence Intervals"
   ]
  },
  {
   "cell_type": "code",
   "execution_count": 41,
   "id": "6f9cb210",
   "metadata": {},
   "outputs": [],
   "source": [
    "import pandas as pd\n",
    "import seaborn as sns\n",
    "import scipy.stats as stats\n",
    "import numpy as np\n",
    "import random\n",
    "import warnings\n",
    "import matplotlib.pyplot as plt\n",
    "%matplotlib inline\n",
    "\n",
    "sns.set(rc={'figure.figsize':(13, 7.5)})\n",
    "sns.set_context('talk')"
   ]
  },
  {
   "cell_type": "code",
   "execution_count": 42,
   "id": "093e842a",
   "metadata": {},
   "outputs": [],
   "source": [
    "np.random.seed(42)\n",
    "normal_distribution_us_male_mass_pounds = np.random.normal(loc=181, scale=24, size=6000)\n",
    "normal_distribution_us_female_mass_pounds = np.random.normal(loc=132, scale=22, size=6500)\n",
    "all_mass_values = np.concatenate((normal_distribution_us_male_mass_pounds, normal_distribution_us_female_mass_pounds), axis=0)\n",
    "df_ppl_mass = pd.DataFrame(data={'us_people_mass_pounds': all_mass_values})"
   ]
  },
  {
   "cell_type": "code",
   "execution_count": 43,
   "id": "05cd94e4",
   "metadata": {},
   "outputs": [
    {
     "data": {
      "text/html": [
       "<div>\n",
       "<style scoped>\n",
       "    .dataframe tbody tr th:only-of-type {\n",
       "        vertical-align: middle;\n",
       "    }\n",
       "\n",
       "    .dataframe tbody tr th {\n",
       "        vertical-align: top;\n",
       "    }\n",
       "\n",
       "    .dataframe thead th {\n",
       "        text-align: right;\n",
       "    }\n",
       "</style>\n",
       "<table border=\"1\" class=\"dataframe\">\n",
       "  <thead>\n",
       "    <tr style=\"text-align: right;\">\n",
       "      <th></th>\n",
       "      <th>us_people_mass_pounds</th>\n",
       "    </tr>\n",
       "  </thead>\n",
       "  <tbody>\n",
       "    <tr>\n",
       "      <th>0</th>\n",
       "      <td>192.921140</td>\n",
       "    </tr>\n",
       "    <tr>\n",
       "      <th>1</th>\n",
       "      <td>177.681657</td>\n",
       "    </tr>\n",
       "    <tr>\n",
       "      <th>2</th>\n",
       "      <td>196.544525</td>\n",
       "    </tr>\n",
       "    <tr>\n",
       "      <th>3</th>\n",
       "      <td>217.552717</td>\n",
       "    </tr>\n",
       "    <tr>\n",
       "      <th>4</th>\n",
       "      <td>175.380319</td>\n",
       "    </tr>\n",
       "  </tbody>\n",
       "</table>\n",
       "</div>"
      ],
      "text/plain": [
       "   us_people_mass_pounds\n",
       "0             192.921140\n",
       "1             177.681657\n",
       "2             196.544525\n",
       "3             217.552717\n",
       "4             175.380319"
      ]
     },
     "execution_count": 43,
     "metadata": {},
     "output_type": "execute_result"
    }
   ],
   "source": [
    "df_ppl_mass.head()"
   ]
  },
  {
   "cell_type": "markdown",
   "id": "cc75b9f1",
   "metadata": {},
   "source": [
    "### View Distribution of US People Mass"
   ]
  },
  {
   "cell_type": "code",
   "execution_count": 44,
   "id": "c4da9412",
   "metadata": {},
   "outputs": [
    {
     "name": "stderr",
     "output_type": "stream",
     "text": [
      "C:\\Users\\ACER\\anaconda3\\lib\\site-packages\\seaborn\\distributions.py:2619: FutureWarning: `distplot` is a deprecated function and will be removed in a future version. Please adapt your code to use either `displot` (a figure-level function with similar flexibility) or `histplot` (an axes-level function for histograms).\n",
      "  warnings.warn(msg, FutureWarning)\n"
     ]
    },
    {
     "data": {
      "image/png": "[encoded data removed]",
      "text/plain": [
       "<Figure size 936x540 with 1 Axes>"
      ]
     },
     "metadata": {},
     "output_type": "display_data"
    }
   ],
   "source": [
    "# Gunakan metode seaborn distplot() untuk membuat histogram di kolom us_people_mass_pounds\n",
    "sns.distplot(df_ppl_mass['us_people_mass_pounds'], color=\"darkslategrey\")\n",
    "plt.xlabel(\"mass[pounds]\", labelpad=14)\n",
    "plt.ylabel(\"probability of occurence\", labelpad=14)\n",
    "plt.title(\"Distribution of Mass of People in U.S.\", y=1.015, fontsize=20);"
   ]
  },
  {
   "cell_type": "code",
   "execution_count": 45,
   "id": "01caf9b5",
   "metadata": {},
   "outputs": [
    {
     "data": {
      "text/plain": [
       "155.4232805942338"
      ]
     },
     "execution_count": 45,
     "metadata": {},
     "output_type": "execute_result"
    }
   ],
   "source": [
    "# Calculation Population Mean\n",
    "pop_mean_mass = df_ppl_mass['us_people_mass_pounds'].mean()\n",
    "pop_mean_mass"
   ]
  },
  {
   "cell_type": "code",
   "execution_count": 46,
   "id": "8bfc2a12",
   "metadata": {},
   "outputs": [
    {
     "data": {
      "text/plain": [
       "33.585190883958624"
      ]
     },
     "execution_count": 46,
     "metadata": {},
     "output_type": "execute_result"
    }
   ],
   "source": [
    "# Calculate population standard deviation\n",
    "pop_std_dev_mass = df_ppl_mass['us_people_mass_pounds'].std()\n",
    "pop_std_dev_mass"
   ]
  },
  {
   "cell_type": "code",
   "execution_count": 47,
   "id": "340af122",
   "metadata": {},
   "outputs": [],
   "source": [
    "# Menyimpan semua sample means dalam list sample_means\n",
    "sample_means = []\n",
    "n = 5\n",
    "for sample in range(0,300):\n",
    "    #random sampling done with replacement\n",
    "    sample_values = np.random.choice(a=df_ppl_mass['us_people_mass_pounds'], size=n)\n",
    "    sample_mean = np.mean(sample_values)\n",
    "    sample_means.append(sample_mean)"
   ]
  },
  {
   "cell_type": "code",
   "execution_count": 49,
   "id": "2a892563",
   "metadata": {
    "scrolled": true
   },
   "outputs": [
    {
     "name": "stderr",
     "output_type": "stream",
     "text": [
      "C:\\Users\\ACER\\anaconda3\\lib\\site-packages\\seaborn\\distributions.py:2619: FutureWarning: `distplot` is a deprecated function and will be removed in a future version. Please adapt your code to use either `displot` (a figure-level function with similar flexibility) or `histplot` (an axes-level function for histograms).\n",
      "  warnings.warn(msg, FutureWarning)\n"
     ]
    },
    {
     "data": {
      "image/png": "[encoded data removed]",
      "text/plain": [
       "<Figure size 936x540 with 1 Axes>"
      ]
     },
     "metadata": {},
     "output_type": "display_data"
    }
   ],
   "source": [
    "# lihat distribusi rata2 sample (sebaliknya disebut distribusi sampling)\n",
    "sns.distplot(sample_means)\n",
    "plt.title(\"Distribution of Sample Means ($n=25$) of People's Mass in Pounds\", y=1.015, fontsize=20)\n",
    "plt.xlabel(\"sample mean mass [pounds]\", labelpad=14)\n",
    "plt.ylabel(\"frequency of occurence\", labelpad=14);"
   ]
  },
  {
   "cell_type": "markdown",
   "id": "0d7fe5f7",
   "metadata": {},
   "source": [
    "### Calculate Sampling Distribution (n=25) Summary Statistics"
   ]
  },
  {
   "cell_type": "code",
   "execution_count": 50,
   "id": "39086f52",
   "metadata": {},
   "outputs": [
    {
     "data": {
      "text/plain": [
       "155.70069176354917"
      ]
     },
     "execution_count": 50,
     "metadata": {},
     "output_type": "execute_result"
    }
   ],
   "source": [
    "# ringkasan perhitungan statistik untuk distribusi pengambilan sampel yang divisualisasikan\n",
    "# Calculate Median of Sample Means\n",
    "median_of_sample_means = np.median(sample_means)\n",
    "median_of_sample_means"
   ]
  },
  {
   "cell_type": "code",
   "execution_count": 51,
   "id": "9e7f7801",
   "metadata": {},
   "outputs": [
    {
     "data": {
      "text/plain": [
       "155.63166185324843"
      ]
     },
     "execution_count": 51,
     "metadata": {},
     "output_type": "execute_result"
    }
   ],
   "source": [
    "# calculate mean of sample means\n",
    "mean_of_sample_means = np.mean(sample_means)\n",
    "mean_of_sample_means"
   ]
  },
  {
   "cell_type": "code",
   "execution_count": 52,
   "id": "391c703a",
   "metadata": {},
   "outputs": [
    {
     "data": {
      "text/plain": [
       "14.917555465047574"
      ]
     },
     "execution_count": 52,
     "metadata": {},
     "output_type": "execute_result"
    }
   ],
   "source": [
    "# Calculate Standard Deviation of Sample Means\n",
    "std_dev_of_sample_means = np.std(sample_means)\n",
    "std_dev_of_sample_means"
   ]
  },
  {
   "cell_type": "markdown",
   "id": "f30ddb58",
   "metadata": {},
   "source": [
    "### Equation for Standard Deviation of Sampling Distribution"
   ]
  },
  {
   "cell_type": "markdown",
   "id": "1e8d63f7",
   "metadata": {},
   "source": [
    "Standard deviation dari sample means lebih sering disebut standard error (SE)"
   ]
  },
  {
   "cell_type": "code",
   "execution_count": 54,
   "id": "733fb27a",
   "metadata": {},
   "outputs": [
    {
     "data": {
      "text/plain": [
       "15.019753970767546"
      ]
     },
     "execution_count": 54,
     "metadata": {},
     "output_type": "execute_result"
    }
   ],
   "source": [
    "standard_error = pop_std_dev_mass/np.sqrt(n)\n",
    "standard_error"
   ]
  },
  {
   "cell_type": "code",
   "execution_count": 55,
   "id": "b2cf61d2",
   "metadata": {},
   "outputs": [
    {
     "data": {
      "text/plain": [
       "14.917555465047574"
      ]
     },
     "execution_count": 55,
     "metadata": {},
     "output_type": "execute_result"
    }
   ],
   "source": [
    "std_dev_of_sample_means"
   ]
  },
  {
   "cell_type": "markdown",
   "id": "3e1d7d45",
   "metadata": {},
   "source": [
    "Nilai standard error ini sama dengan nilai yang dihitung diatas untuk std_dev_of sample_means"
   ]
  },
  {
   "cell_type": "markdown",
   "id": "86cb23c9",
   "metadata": {},
   "source": [
    "### Critical Z-Scores"
   ]
  },
  {
   "cell_type": "code",
   "execution_count": 56,
   "id": "74f6ebba",
   "metadata": {},
   "outputs": [
    {
     "data": {
      "text/plain": [
       "0.024997895148220484"
      ]
     },
     "execution_count": 56,
     "metadata": {},
     "output_type": "execute_result"
    }
   ],
   "source": [
    "tail = 1-stats.norm.cdf(1.96)\n",
    "tail"
   ]
  },
  {
   "cell_type": "code",
   "execution_count": 57,
   "id": "121b27c1",
   "metadata": {},
   "outputs": [
    {
     "data": {
      "text/plain": [
       "0.950004209703559"
      ]
     },
     "execution_count": 57,
     "metadata": {},
     "output_type": "execute_result"
    }
   ],
   "source": [
    "# area dibawah kurva antara skor kritis kira2 0,95 \n",
    "1 - (tail * 2)"
   ]
  },
  {
   "cell_type": "code",
   "execution_count": 58,
   "id": "6c546b72",
   "metadata": {},
   "outputs": [
    {
     "data": {
      "text/plain": [
       "126.19294407054404"
      ]
     },
     "execution_count": 58,
     "metadata": {},
     "output_type": "execute_result"
    }
   ],
   "source": [
    "# hitung batas yang tepat untuk area dimana 95% mean sample berada dari mean populasi\n",
    "lower_95_perc_bound = mean_of_sample_means - 1.96*standard_error\n",
    "lower_95_perc_bound"
   ]
  },
  {
   "cell_type": "code",
   "execution_count": 59,
   "id": "725fdef3",
   "metadata": {},
   "outputs": [
    {
     "data": {
      "text/plain": [
       "185.07037963595283"
      ]
     },
     "execution_count": 59,
     "metadata": {},
     "output_type": "execute_result"
    }
   ],
   "source": [
    "upper_95_perc_bound = mean_of_sample_means + 1.96*standard_error\n",
    "upper_95_perc_bound"
   ]
  },
  {
   "cell_type": "code",
   "execution_count": 63,
   "id": "480ae51a",
   "metadata": {},
   "outputs": [
    {
     "data": {
      "text/plain": [
       "Text(0, 0.5, 'Frequency of occurence')"
      ]
     },
     "execution_count": 63,
     "metadata": {},
     "output_type": "execute_result"
    },
    {
     "data": {
      "image/png": "[encoded data removed]",
      "text/plain": [
       "<Figure size 936x540 with 1 Axes>"
      ]
     },
     "metadata": {},
     "output_type": "display_data"
    }
   ],
   "source": [
    "kde = stats.gaussian_kde(sample_means)\n",
    "pos = np.linspace(np.min(sample_means), np.max(sample_means), 10000)\n",
    "plt.plot(pos, kde(pos), color='teal')\n",
    "shade = np.linspace(lower_95_perc_bound, upper_95_perc_bound, 300)\n",
    "plt.fill_between(shade, kde(shade), alpha=0.45, color='teal',)\n",
    "plt.text(x=154, y=.005, horizontalalignment='center', fontsize=17,\n",
    "        s=\"95% of sample means fall within\\nthis shaded area of plus or minus\\n1.96 z-scores from the mean\",\n",
    "        bbox=dict(facecolor='whitesmoke', boxstyle='round, pad=0.1'))\n",
    "plt.title(\"Distribution of sample means ($n=25$) of people's mass in pounds\", y=1.015, fontsize=20)\n",
    "plt.xlabel(\"Sample mean mass [pounds]\", labelpad=14)\n",
    "plt.ylabel(\"Frequency of occurence\", labelpad=14)"
   ]
  },
  {
   "cell_type": "markdown",
   "id": "2ac70dfb",
   "metadata": {},
   "source": [
    "# Hypothesis Testing"
   ]
  },
  {
   "cell_type": "markdown",
   "id": "f5dac768",
   "metadata": {},
   "source": [
    "Hipotesis adalah anggapan dasar atau jawaban sementara terhadap masalah yang masih bersifat praduga karena masih harus dibuktikan kebenarannya."
   ]
  },
  {
   "cell_type": "markdown",
   "id": "f043ea7f",
   "metadata": {},
   "source": [
    "## What is a Hypothesis Statement?"
   ]
  },
  {
   "cell_type": "markdown",
   "id": "63e39d16",
   "metadata": {},
   "source": [
    "Sebagai contoh :\n",
    "- Jika saya (memberikan ujian pada siang hari bukannya 7) maka (nilai ujian siswa akan meningkat)\n",
    "- Jika saya (melihat di lokasi tertentu ini) maka (saya lebih mungkin menemukan spesies baru)"
   ]
  },
  {
   "cell_type": "markdown",
   "id": "d99be914",
   "metadata": {},
   "source": [
    "Pernyataan hipotesis yang baik harus :\n",
    "- Menyertakan pernyataan \"jika\" dan \"maka\" (menurut University of California)\n",
    "- Menyertakan variabel independen dan dependen\n",
    "- Dapat duji dengan eksperimen, survei, atau teknik ilmiah lainnya.\n",
    "- Berdasarkan informasi dalam penelitian sebelumnya (baik milik kita atau orang lain)\n",
    "- Memiliki kriteria desain (untuk proyek rekayasa atau pemrograman)"
   ]
  },
  {
   "cell_type": "markdown",
   "id": "13cfe512",
   "metadata": {},
   "source": [
    "## What is Hypothesis Testing"
   ]
  },
  {
   "cell_type": "markdown",
   "id": "b8ba814b",
   "metadata": {},
   "source": [
    "Hypothesis testing dalam statistik adalah cara kita menguji hasil survei atau eksperimen untuk melihat apakah kita memiliki hasil yang bermakna."
   ]
  },
  {
   "cell_type": "markdown",
   "id": "1c8cd352",
   "metadata": {},
   "source": [
    "Yang perlu kita lakukan:\n",
    "- Cari tahu hipotesis nol anda\n",
    "- Nyatakan hipotesis nol anda\n",
    "- Pilih jenis tes apa yang perlu dilakukan\n",
    "- Baik mendukung atau menolak hipotesis nol"
   ]
  },
  {
   "cell_type": "markdown",
   "id": "849df816",
   "metadata": {},
   "source": [
    "## What is the Null Hypothesis"
   ]
  },
  {
   "cell_type": "markdown",
   "id": "5f2ac0d1",
   "metadata": {},
   "source": [
    "Null Hypothesis selalu merupakan fakta yang diterima\n",
    "Contoh :\n",
    "- DNA berbentuk seperti heliks ganda.\n",
    "- Ada 8 planet di tata surya (tidak termasuk Pluto)\n",
    "- Mengambil Vioxx dapat meningkatkan risiko masalah jantung (obat sekarang diambil dari pasar)"
   ]
  },
  {
   "cell_type": "markdown",
   "id": "ee59110d",
   "metadata": {},
   "source": [
    "## Statistical Test Interpretation"
   ]
  },
  {
   "cell_type": "markdown",
   "id": "9eed1522",
   "metadata": {},
   "source": [
    "### Interpret the p-value"
   ]
  },
  {
   "cell_type": "markdown",
   "id": "9627c54f",
   "metadata": {},
   "source": [
    "digunakan untuk mengukur hasil tes menolak atau gagal menolak hipotesis null. aturan :\n",
    "- If p-value > alpha, gagal menolak hipotesis null\n",
    "- If p-value < alpha, menolak hipotesis null"
   ]
  },
  {
   "cell_type": "code",
   "execution_count": 64,
   "id": "bcdfacf1",
   "metadata": {},
   "outputs": [],
   "source": [
    "# mengimpor pustaka yang dibutuhkan\n",
    "import statsmodels.api as sm\n",
    "import numpy as np\n",
    "import matplotlib.pyplot as plt\n",
    "import pandas as pd"
   ]
  },
  {
   "cell_type": "markdown",
   "id": "d6ed12dd",
   "metadata": {},
   "source": [
    "# One Population Proportion"
   ]
  },
  {
   "cell_type": "markdown",
   "id": "69bdb14e",
   "metadata": {},
   "source": [
    "## Research Question"
   ]
  },
  {
   "cell_type": "markdown",
   "id": "c068cc91",
   "metadata": {},
   "source": [
    "## Use of proportions_ztest() from statsmodel"
   ]
  },
  {
   "cell_type": "code",
   "execution_count": 65,
   "id": "4b88cf80",
   "metadata": {},
   "outputs": [],
   "source": [
    "n = 1018\n",
    "pnull = .52\n",
    "phat = .56"
   ]
  },
  {
   "cell_type": "code",
   "execution_count": 66,
   "id": "a4e08800",
   "metadata": {},
   "outputs": [
    {
     "data": {
      "text/plain": [
       "(2.571067795759113, 0.005069273865860533)"
      ]
     },
     "execution_count": 66,
     "metadata": {},
     "output_type": "execute_result"
    }
   ],
   "source": [
    "sm.stats.proportions_ztest(phat * n, n, pnull, alternative='larger')"
   ]
  },
  {
   "cell_type": "markdown",
   "id": "88f3238f",
   "metadata": {},
   "source": [
    "## Conclusion of the hypothesis test"
   ]
  },
  {
   "cell_type": "markdown",
   "id": "097eb664",
   "metadata": {},
   "source": [
    "## Difference in Population Means"
   ]
  },
  {
   "cell_type": "markdown",
   "id": "82ee9da2",
   "metadata": {},
   "source": [
    "## Research Question"
   ]
  },
  {
   "cell_type": "code",
   "execution_count": 67,
   "id": "1f8c9fd3",
   "metadata": {},
   "outputs": [
    {
     "data": {
      "text/html": [
       "<div>\n",
       "<style scoped>\n",
       "    .dataframe tbody tr th:only-of-type {\n",
       "        vertical-align: middle;\n",
       "    }\n",
       "\n",
       "    .dataframe tbody tr th {\n",
       "        vertical-align: top;\n",
       "    }\n",
       "\n",
       "    .dataframe thead th {\n",
       "        text-align: right;\n",
       "    }\n",
       "</style>\n",
       "<table border=\"1\" class=\"dataframe\">\n",
       "  <thead>\n",
       "    <tr style=\"text-align: right;\">\n",
       "      <th></th>\n",
       "      <th>SEQN</th>\n",
       "      <th>ALQ101</th>\n",
       "      <th>ALQ110</th>\n",
       "      <th>ALQ130</th>\n",
       "      <th>SMQ020</th>\n",
       "      <th>RIAGENDR</th>\n",
       "      <th>RIDAGEYR</th>\n",
       "      <th>RIDRETH1</th>\n",
       "      <th>DMDCITZN</th>\n",
       "      <th>DMDEDUC2</th>\n",
       "      <th>...</th>\n",
       "      <th>BPXSY2</th>\n",
       "      <th>BPXDI2</th>\n",
       "      <th>BMXWT</th>\n",
       "      <th>BMXHT</th>\n",
       "      <th>BMXBMI</th>\n",
       "      <th>BMXLEG</th>\n",
       "      <th>BMXARML</th>\n",
       "      <th>BMXARMC</th>\n",
       "      <th>BMXWAIST</th>\n",
       "      <th>HIQ210</th>\n",
       "    </tr>\n",
       "  </thead>\n",
       "  <tbody>\n",
       "    <tr>\n",
       "      <th>0</th>\n",
       "      <td>83732</td>\n",
       "      <td>1.0</td>\n",
       "      <td>NaN</td>\n",
       "      <td>1.0</td>\n",
       "      <td>1</td>\n",
       "      <td>1</td>\n",
       "      <td>62</td>\n",
       "      <td>3</td>\n",
       "      <td>1.0</td>\n",
       "      <td>5.0</td>\n",
       "      <td>...</td>\n",
       "      <td>124.0</td>\n",
       "      <td>64.0</td>\n",
       "      <td>94.8</td>\n",
       "      <td>184.5</td>\n",
       "      <td>27.8</td>\n",
       "      <td>43.3</td>\n",
       "      <td>43.6</td>\n",
       "      <td>35.9</td>\n",
       "      <td>101.1</td>\n",
       "      <td>2.0</td>\n",
       "    </tr>\n",
       "    <tr>\n",
       "      <th>1</th>\n",
       "      <td>83733</td>\n",
       "      <td>1.0</td>\n",
       "      <td>NaN</td>\n",
       "      <td>6.0</td>\n",
       "      <td>1</td>\n",
       "      <td>1</td>\n",
       "      <td>53</td>\n",
       "      <td>3</td>\n",
       "      <td>2.0</td>\n",
       "      <td>3.0</td>\n",
       "      <td>...</td>\n",
       "      <td>140.0</td>\n",
       "      <td>88.0</td>\n",
       "      <td>90.4</td>\n",
       "      <td>171.4</td>\n",
       "      <td>30.8</td>\n",
       "      <td>38.0</td>\n",
       "      <td>40.0</td>\n",
       "      <td>33.2</td>\n",
       "      <td>107.9</td>\n",
       "      <td>NaN</td>\n",
       "    </tr>\n",
       "    <tr>\n",
       "      <th>2</th>\n",
       "      <td>83734</td>\n",
       "      <td>1.0</td>\n",
       "      <td>NaN</td>\n",
       "      <td>NaN</td>\n",
       "      <td>1</td>\n",
       "      <td>1</td>\n",
       "      <td>78</td>\n",
       "      <td>3</td>\n",
       "      <td>1.0</td>\n",
       "      <td>3.0</td>\n",
       "      <td>...</td>\n",
       "      <td>132.0</td>\n",
       "      <td>44.0</td>\n",
       "      <td>83.4</td>\n",
       "      <td>170.1</td>\n",
       "      <td>28.8</td>\n",
       "      <td>35.6</td>\n",
       "      <td>37.0</td>\n",
       "      <td>31.0</td>\n",
       "      <td>116.5</td>\n",
       "      <td>2.0</td>\n",
       "    </tr>\n",
       "    <tr>\n",
       "      <th>3</th>\n",
       "      <td>83735</td>\n",
       "      <td>2.0</td>\n",
       "      <td>1.0</td>\n",
       "      <td>1.0</td>\n",
       "      <td>2</td>\n",
       "      <td>2</td>\n",
       "      <td>56</td>\n",
       "      <td>3</td>\n",
       "      <td>1.0</td>\n",
       "      <td>5.0</td>\n",
       "      <td>...</td>\n",
       "      <td>134.0</td>\n",
       "      <td>68.0</td>\n",
       "      <td>109.8</td>\n",
       "      <td>160.9</td>\n",
       "      <td>42.4</td>\n",
       "      <td>38.5</td>\n",
       "      <td>37.7</td>\n",
       "      <td>38.3</td>\n",
       "      <td>110.1</td>\n",
       "      <td>2.0</td>\n",
       "    </tr>\n",
       "    <tr>\n",
       "      <th>4</th>\n",
       "      <td>83736</td>\n",
       "      <td>2.0</td>\n",
       "      <td>1.0</td>\n",
       "      <td>1.0</td>\n",
       "      <td>2</td>\n",
       "      <td>2</td>\n",
       "      <td>42</td>\n",
       "      <td>4</td>\n",
       "      <td>1.0</td>\n",
       "      <td>4.0</td>\n",
       "      <td>...</td>\n",
       "      <td>114.0</td>\n",
       "      <td>54.0</td>\n",
       "      <td>55.2</td>\n",
       "      <td>164.9</td>\n",
       "      <td>20.3</td>\n",
       "      <td>37.4</td>\n",
       "      <td>36.0</td>\n",
       "      <td>27.2</td>\n",
       "      <td>80.4</td>\n",
       "      <td>2.0</td>\n",
       "    </tr>\n",
       "  </tbody>\n",
       "</table>\n",
       "<p>5 rows × 28 columns</p>\n",
       "</div>"
      ],
      "text/plain": [
       "    SEQN  ALQ101  ALQ110  ALQ130  SMQ020  RIAGENDR  RIDAGEYR  RIDRETH1  \\\n",
       "0  83732     1.0     NaN     1.0       1         1        62         3   \n",
       "1  83733     1.0     NaN     6.0       1         1        53         3   \n",
       "2  83734     1.0     NaN     NaN       1         1        78         3   \n",
       "3  83735     2.0     1.0     1.0       2         2        56         3   \n",
       "4  83736     2.0     1.0     1.0       2         2        42         4   \n",
       "\n",
       "   DMDCITZN  DMDEDUC2  ...  BPXSY2  BPXDI2  BMXWT  BMXHT  BMXBMI  BMXLEG  \\\n",
       "0       1.0       5.0  ...   124.0    64.0   94.8  184.5    27.8    43.3   \n",
       "1       2.0       3.0  ...   140.0    88.0   90.4  171.4    30.8    38.0   \n",
       "2       1.0       3.0  ...   132.0    44.0   83.4  170.1    28.8    35.6   \n",
       "3       1.0       5.0  ...   134.0    68.0  109.8  160.9    42.4    38.5   \n",
       "4       1.0       4.0  ...   114.0    54.0   55.2  164.9    20.3    37.4   \n",
       "\n",
       "   BMXARML  BMXARMC  BMXWAIST  HIQ210  \n",
       "0     43.6     35.9     101.1     2.0  \n",
       "1     40.0     33.2     107.9     NaN  \n",
       "2     37.0     31.0     116.5     2.0  \n",
       "3     37.7     38.3     110.1     2.0  \n",
       "4     36.0     27.2      80.4     2.0  \n",
       "\n",
       "[5 rows x 28 columns]"
      ]
     },
     "execution_count": 67,
     "metadata": {},
     "output_type": "execute_result"
    }
   ],
   "source": [
    "url = \"https://raw.githubusercontent.com/ardhiraka/PFDS_sources/master/nhanes_2015_2016.csv\"\n",
    "da = pd.read_csv(url)\n",
    "da.head()"
   ]
  },
  {
   "cell_type": "code",
   "execution_count": 68,
   "id": "33bcc63b",
   "metadata": {},
   "outputs": [],
   "source": [
    "females = da[da['RIAGENDR'] == 2]\n",
    "male = da[da['RIAGENDR'] == 1]"
   ]
  },
  {
   "cell_type": "code",
   "execution_count": 69,
   "id": "e9eb77d9",
   "metadata": {},
   "outputs": [
    {
     "data": {
      "text/plain": [
       "(2976, 29.939945652173996, 7.75331880954568)"
      ]
     },
     "execution_count": 69,
     "metadata": {},
     "output_type": "execute_result"
    }
   ],
   "source": [
    "n1 = len(females)\n",
    "mu1 = females[\"BMXBMI\"].mean()\n",
    "sd1 = females[\"BMXBMI\"].std()\n",
    "\n",
    "(n1, mu1, sd1)"
   ]
  },
  {
   "cell_type": "code",
   "execution_count": 70,
   "id": "8763509c",
   "metadata": {},
   "outputs": [
    {
     "data": {
      "text/plain": [
       "(2759, 28.778072111846985, 6.252567616801485)"
      ]
     },
     "execution_count": 70,
     "metadata": {},
     "output_type": "execute_result"
    }
   ],
   "source": [
    "n2 = len(male)\n",
    "mu2 = male[\"BMXBMI\"].mean()\n",
    "sd2 = male[\"BMXBMI\"].std()\n",
    "\n",
    "(n2, mu2, sd2)"
   ]
  },
  {
   "cell_type": "code",
   "execution_count": 71,
   "id": "a8781af8",
   "metadata": {},
   "outputs": [
    {
     "data": {
      "text/plain": [
       "(6.1755933531383205, 6.591544431126401e-10)"
      ]
     },
     "execution_count": 71,
     "metadata": {},
     "output_type": "execute_result"
    }
   ],
   "source": [
    "sm.stats.ztest(females['BMXBMI'].dropna(),male['BMXBMI'].dropna(), alternative='two-sided')"
   ]
  },
  {
   "cell_type": "markdown",
   "id": "891424eb",
   "metadata": {},
   "source": [
    "## Conclusion of the hypothesis test"
   ]
  },
  {
   "cell_type": "code",
   "execution_count": 72,
   "id": "232d15fd",
   "metadata": {},
   "outputs": [
    {
     "data": {
      "text/plain": [
       "<function matplotlib.pyplot.show(close=None, block=None)>"
      ]
     },
     "execution_count": 72,
     "metadata": {},
     "output_type": "execute_result"
    },
    {
     "data": {
      "image/png": "[encoded data removed]",
      "text/plain": [
       "<Figure size 504x288 with 1 Axes>"
      ]
     },
     "metadata": {},
     "output_type": "display_data"
    },
    {
     "data": {
      "image/png": "[encoded data removed]",
      "text/plain": [
       "<Figure size 504x288 with 1 Axes>"
      ]
     },
     "metadata": {},
     "output_type": "display_data"
    }
   ],
   "source": [
    "# memplot histogram dari data untuk memeriksa apakah kira-kira distribusinya mengikuti distribusi normal\n",
    "plt.figure(figsize=(7,4))\n",
    "plt.title(\"Female BMI Histogram\", fontsize=16)\n",
    "plt.hist(females[\"BMXBMI\"].dropna(), edgecolor='k',color='pink',bins=25)\n",
    "plt.show\n",
    "\n",
    "plt.figure(figsize=(7,4))\n",
    "plt.title(\"Male BMI Histogram\", fontsize=16)\n",
    "plt.hist(male[\"BMXBMI\"].dropna(), edgecolor='k',color='blue',bins=25)\n",
    "plt.show"
   ]
  },
  {
   "cell_type": "markdown",
   "id": "e99393e8",
   "metadata": {},
   "source": [
    "## Hypothesis Testing for One Proportion"
   ]
  },
  {
   "cell_type": "code",
   "execution_count": 73,
   "id": "1c5d2ac3",
   "metadata": {},
   "outputs": [
    {
     "data": {
      "text/html": [
       "<div>\n",
       "<style scoped>\n",
       "    .dataframe tbody tr th:only-of-type {\n",
       "        vertical-align: middle;\n",
       "    }\n",
       "\n",
       "    .dataframe tbody tr th {\n",
       "        vertical-align: top;\n",
       "    }\n",
       "\n",
       "    .dataframe thead th {\n",
       "        text-align: right;\n",
       "    }\n",
       "</style>\n",
       "<table border=\"1\" class=\"dataframe\">\n",
       "  <thead>\n",
       "    <tr style=\"text-align: right;\">\n",
       "      <th></th>\n",
       "      <th>age</th>\n",
       "      <th>sex</th>\n",
       "      <th>cp</th>\n",
       "      <th>trestbps</th>\n",
       "      <th>chol</th>\n",
       "      <th>fbs</th>\n",
       "      <th>restecg</th>\n",
       "      <th>thalach</th>\n",
       "      <th>exang</th>\n",
       "      <th>oldpeak</th>\n",
       "      <th>slope</th>\n",
       "      <th>ca</th>\n",
       "      <th>thal</th>\n",
       "      <th>target</th>\n",
       "    </tr>\n",
       "  </thead>\n",
       "  <tbody>\n",
       "    <tr>\n",
       "      <th>0</th>\n",
       "      <td>52</td>\n",
       "      <td>1</td>\n",
       "      <td>0</td>\n",
       "      <td>125</td>\n",
       "      <td>212</td>\n",
       "      <td>0</td>\n",
       "      <td>1</td>\n",
       "      <td>168</td>\n",
       "      <td>0</td>\n",
       "      <td>1.0</td>\n",
       "      <td>2</td>\n",
       "      <td>2</td>\n",
       "      <td>3</td>\n",
       "      <td>0</td>\n",
       "    </tr>\n",
       "    <tr>\n",
       "      <th>1</th>\n",
       "      <td>53</td>\n",
       "      <td>1</td>\n",
       "      <td>0</td>\n",
       "      <td>140</td>\n",
       "      <td>203</td>\n",
       "      <td>1</td>\n",
       "      <td>0</td>\n",
       "      <td>155</td>\n",
       "      <td>1</td>\n",
       "      <td>3.1</td>\n",
       "      <td>0</td>\n",
       "      <td>0</td>\n",
       "      <td>3</td>\n",
       "      <td>0</td>\n",
       "    </tr>\n",
       "    <tr>\n",
       "      <th>2</th>\n",
       "      <td>70</td>\n",
       "      <td>1</td>\n",
       "      <td>0</td>\n",
       "      <td>145</td>\n",
       "      <td>174</td>\n",
       "      <td>0</td>\n",
       "      <td>1</td>\n",
       "      <td>125</td>\n",
       "      <td>1</td>\n",
       "      <td>2.6</td>\n",
       "      <td>0</td>\n",
       "      <td>0</td>\n",
       "      <td>3</td>\n",
       "      <td>0</td>\n",
       "    </tr>\n",
       "    <tr>\n",
       "      <th>3</th>\n",
       "      <td>61</td>\n",
       "      <td>1</td>\n",
       "      <td>0</td>\n",
       "      <td>148</td>\n",
       "      <td>203</td>\n",
       "      <td>0</td>\n",
       "      <td>1</td>\n",
       "      <td>161</td>\n",
       "      <td>0</td>\n",
       "      <td>0.0</td>\n",
       "      <td>2</td>\n",
       "      <td>1</td>\n",
       "      <td>3</td>\n",
       "      <td>0</td>\n",
       "    </tr>\n",
       "    <tr>\n",
       "      <th>4</th>\n",
       "      <td>62</td>\n",
       "      <td>0</td>\n",
       "      <td>0</td>\n",
       "      <td>138</td>\n",
       "      <td>294</td>\n",
       "      <td>1</td>\n",
       "      <td>1</td>\n",
       "      <td>106</td>\n",
       "      <td>0</td>\n",
       "      <td>1.9</td>\n",
       "      <td>1</td>\n",
       "      <td>3</td>\n",
       "      <td>2</td>\n",
       "      <td>0</td>\n",
       "    </tr>\n",
       "  </tbody>\n",
       "</table>\n",
       "</div>"
      ],
      "text/plain": [
       "   age  sex  cp  trestbps  chol  fbs  restecg  thalach  exang  oldpeak  slope  \\\n",
       "0   52    1   0       125   212    0        1      168      0      1.0      2   \n",
       "1   53    1   0       140   203    1        0      155      1      3.1      0   \n",
       "2   70    1   0       145   174    0        1      125      1      2.6      0   \n",
       "3   61    1   0       148   203    0        1      161      0      0.0      2   \n",
       "4   62    0   0       138   294    1        1      106      0      1.9      1   \n",
       "\n",
       "   ca  thal  target  \n",
       "0   2     3       0  \n",
       "1   0     3       0  \n",
       "2   0     3       0  \n",
       "3   1     3       0  \n",
       "4   3     2       0  "
      ]
     },
     "execution_count": 73,
     "metadata": {},
     "output_type": "execute_result"
    }
   ],
   "source": [
    "# mengimpor packages dan dataset\n",
    "import pandas as pd\n",
    "import numpy as np\n",
    "import statsmodels.api as sm\n",
    "import scipy.stats.distributions as dist\n",
    "df = pd.read_csv('heart.csv')\n",
    "df.head()"
   ]
  },
  {
   "cell_type": "markdown",
   "id": "804c299c",
   "metadata": {},
   "source": [
    "Pertanyaan penelitiannya adalah : \"The population proportion of Ireland having heart disease is 42%. Are more people suffering from heart disease in the US\"?"
   ]
  },
  {
   "cell_type": "markdown",
   "id": "cc07ea5c",
   "metadata": {},
   "source": [
    "Step 1 : menentukan hipotesis nol dan hipotesis alternatif"
   ]
  },
  {
   "cell_type": "code",
   "execution_count": 74,
   "id": "5c07fa18",
   "metadata": {},
   "outputs": [
    {
     "ename": "NameError",
     "evalue": "name 'p0' is not defined",
     "output_type": "error",
     "traceback": [
      "\u001b[1;31m---------------------------------------------------------------------------\u001b[0m",
      "\u001b[1;31mNameError\u001b[0m                                 Traceback (most recent call last)",
      "\u001b[1;32m~\\AppData\\Local\\Temp/ipykernel_10268/1401511727.py\u001b[0m in \u001b[0;36m<module>\u001b[1;34m\u001b[0m\n\u001b[1;32m----> 1\u001b[1;33m \u001b[0mHo\u001b[0m \u001b[1;33m:\u001b[0m \u001b[0mp0\u001b[0m \u001b[1;33m=\u001b[0m \u001b[1;36m0.42\u001b[0m \u001b[1;31m# null hypothesis\u001b[0m\u001b[1;33m\u001b[0m\u001b[1;33m\u001b[0m\u001b[0m\n\u001b[0m\u001b[0;32m      2\u001b[0m \u001b[0mHa\u001b[0m \u001b[1;33m:\u001b[0m \u001b[0mp\u001b[0m \u001b[1;33m>\u001b[0m \u001b[1;36m0.42\u001b[0m \u001b[1;31m# alternative hypothesis\u001b[0m\u001b[1;33m\u001b[0m\u001b[1;33m\u001b[0m\u001b[0m\n",
      "\u001b[1;31mNameError\u001b[0m: name 'p0' is not defined"
     ]
    }
   ],
   "source": [
    "Ho : p0 = 0.42 # null hypothesis\n",
    "Ha : p > 0.42 # alternative hypothesis"
   ]
  },
  {
   "cell_type": "markdown",
   "id": "3e4879b2",
   "metadata": {},
   "source": [
    "Step 2 : Asumsikan bahwa kumpulan data diatas adalah sample yang representatif dari populasi AS. Jadi, hitunglah proporsi penduduk AS yang menderita penyakit jantung"
   ]
  },
  {
   "cell_type": "code",
   "execution_count": 77,
   "id": "16861798",
   "metadata": {},
   "outputs": [],
   "source": [
    "p_us = len(df[df['target'] == '1'])/len(df)"
   ]
  },
  {
   "cell_type": "markdown",
   "id": "0309897f",
   "metadata": {},
   "source": [
    "Step 3 : Menghitung Test Statistic"
   ]
  },
  {
   "cell_type": "code",
   "execution_count": 78,
   "id": "e5fe77bb",
   "metadata": {},
   "outputs": [],
   "source": [
    "se = np.sqrt(0.42 * (1-0.42)) / len(df)"
   ]
  },
  {
   "cell_type": "code",
   "execution_count": 79,
   "id": "c3ff3d6d",
   "metadata": {},
   "outputs": [],
   "source": [
    "be = p_us\n",
    "he = 0.42\n",
    "test_stat = (be -he)/se"
   ]
  },
  {
   "cell_type": "markdown",
   "id": "9b7a849b",
   "metadata": {},
   "source": [
    "Step 4 : Menghitung the p-value"
   ]
  },
  {
   "cell_type": "code",
   "execution_count": 80,
   "id": "8682bf0b",
   "metadata": {},
   "outputs": [],
   "source": [
    "pvalue = 2*dist.norm.cdf(-np.abs(test_stat))"
   ]
  },
  {
   "cell_type": "markdown",
   "id": "3243b206",
   "metadata": {},
   "source": [
    "Step 5 : Infer the conclusion from the p-value"
   ]
  },
  {
   "cell_type": "markdown",
   "id": "7cd5b009",
   "metadata": {},
   "source": [
    "## Statistical Hypothesis Test Cheat Sheet (Optional)"
   ]
  },
  {
   "cell_type": "markdown",
   "id": "84fb37f4",
   "metadata": {},
   "source": [
    "### Normality Test"
   ]
  },
  {
   "cell_type": "markdown",
   "id": "44a005e3",
   "metadata": {},
   "source": [
    "# Shapiro-Wilk Test"
   ]
  },
  {
   "cell_type": "code",
   "execution_count": 81,
   "id": "06e29d08",
   "metadata": {},
   "outputs": [
    {
     "name": "stdout",
     "output_type": "stream",
     "text": [
      "stat=0.895, p=0.193\n",
      "Probably Gaussian\n"
     ]
    }
   ],
   "source": [
    "# Contoh Shapiro-Wilk Normality Test\n",
    "from scipy.stats import shapiro\n",
    "data = [0.873, 2.817, 0.121, -0.945, -0.055, -1.436, 0.360, -1.478, -1.637, -1.869]\n",
    "stat, p = shapiro(data)\n",
    "print('stat=%.3f, p=%.3f' % (stat,p))\n",
    "if p > 0.05:\n",
    "    print('Probably Gaussian')\n",
    "else:\n",
    "    print('Probably not Gaussian')"
   ]
  },
  {
   "cell_type": "markdown",
   "id": "333aea7c",
   "metadata": {},
   "source": [
    "# D'Agostino's K^2 Test"
   ]
  },
  {
   "cell_type": "code",
   "execution_count": 82,
   "id": "ddc21ad0",
   "metadata": {},
   "outputs": [
    {
     "name": "stdout",
     "output_type": "stream",
     "text": [
      "stat=3.392, p=0.183\n",
      "Probably Gaussian\n"
     ]
    },
    {
     "name": "stderr",
     "output_type": "stream",
     "text": [
      "C:\\Users\\ACER\\anaconda3\\lib\\site-packages\\scipy\\stats\\stats.py:1541: UserWarning: kurtosistest only valid for n>=20 ... continuing anyway, n=10\n",
      "  warnings.warn(\"kurtosistest only valid for n>=20 ... continuing \"\n"
     ]
    }
   ],
   "source": [
    "# Contoh uji normalitas K^2 D'Agostino\n",
    "from scipy.stats import normaltest\n",
    "data = [0.873, 2.817, 0.121, -0.945, -0.055, -1.436, 0.360, -1.478, -1.637, -1.869]\n",
    "stat, p = normaltest(data)\n",
    "print('stat=%.3f, p=%.3f' % (stat,p))\n",
    "if p > 0.05:\n",
    "    print('Probably Gaussian')\n",
    "else:\n",
    "    print('Probably not Gaussian')"
   ]
  },
  {
   "cell_type": "markdown",
   "id": "a3921e60",
   "metadata": {},
   "source": [
    "# Anderson-Darling Test"
   ]
  },
  {
   "cell_type": "code",
   "execution_count": 84,
   "id": "1851b906",
   "metadata": {},
   "outputs": [
    {
     "name": "stdout",
     "output_type": "stream",
     "text": [
      "stat=0.424\n",
      "Probably Gaussian at the 15.0% level\n",
      "Probably Gaussian at the 10.0% level\n",
      "Probably Gaussian at the 5.0% level\n",
      "Probably Gaussian at the 2.5% level\n",
      "Probably Gaussian at the 1.0% level\n"
     ]
    }
   ],
   "source": [
    "# Contoh uji normalitas Anderson-Darling\n",
    "from scipy.stats import anderson\n",
    "data = [0.873, 2.817, 0.121, -0.945, -0.055, -1.436, 0.360, -1.478, -1.637, -1.869]\n",
    "result = anderson(data)\n",
    "print('stat=%.3f' % (result.statistic))\n",
    "for i in range(len(result.critical_values)):\n",
    "    sl,cv = result.significance_level[i], result.critical_values[i]\n",
    "    if result.statistic < cv:\n",
    "        print('Probably Gaussian at the %.1f%% level' % (sl))\n",
    "    else:\n",
    "        print('Probably Not Gaussian at the %.1f%% level' % (sl))"
   ]
  },
  {
   "cell_type": "markdown",
   "id": "7e1bbef7",
   "metadata": {},
   "source": [
    "# Correlation Test"
   ]
  },
  {
   "cell_type": "markdown",
   "id": "0634ed67",
   "metadata": {},
   "source": [
    "## Pearson's Correlation Coefficient"
   ]
  },
  {
   "cell_type": "markdown",
   "id": "4a5cd930",
   "metadata": {},
   "source": [
    "Asumsi :\n",
    "- Pengamatan pada setiap sampel bersifat independen dan terdistribusi identik (iid).\n",
    "- Pengamatan pada setiap sampel berdistribusi normal\n",
    "- Pengamatan pada setiap sampel memiliki varians yang sama.\n",
    "\n",
    "Interpretation :\n",
    "- H0 : kedua sampel saling bebas. \n",
    "- H1: ada ketergantungan antar sampel."
   ]
  },
  {
   "cell_type": "code",
   "execution_count": 87,
   "id": "508201b1",
   "metadata": {},
   "outputs": [
    {
     "name": "stdout",
     "output_type": "stream",
     "text": [
      "stat=0.688, p=0.028\n",
      "Probably Dependent\n"
     ]
    }
   ],
   "source": [
    "# Contoh uji korelasi Pearson\n",
    "from scipy.stats import pearsonr\n",
    "data1 = [0.873, 2.817, 0.121, -0.945, -0.055, -1.436, 0.360, -1.478, -1.637, -1.869]\n",
    "data2 = [0.353, 3.517, 0.125, -7.545, -0.555, -1.536, 3.350, -1.578, -3.537, -1.579]\n",
    "stat, p = pearsonr(data1, data2)\n",
    "print('stat=%.3f, p=%.3f' % (stat, p))\n",
    "if p > 0.05:\n",
    "    print('Probably Independent')\n",
    "else:\n",
    "    print('Probably Dependent')"
   ]
  },
  {
   "cell_type": "markdown",
   "id": "9146b46a",
   "metadata": {},
   "source": [
    "## Spearman's Rank Correlation"
   ]
  },
  {
   "cell_type": "markdown",
   "id": "876dcc00",
   "metadata": {},
   "source": [
    "Asumsi :\n",
    "- Pengamatan pada setiap sampel bersifat independen dan terdistribusi identik (iid). Pengamatan di setiap sampel dapat diurutkan.\n",
    "\n",
    "Penafsiran :\n",
    "- H0 : kedua sampel saling bebas. H1: ada ketergantungan antar sampel."
   ]
  },
  {
   "cell_type": "code",
   "execution_count": 88,
   "id": "1d97f2ec",
   "metadata": {},
   "outputs": [
    {
     "name": "stdout",
     "output_type": "stream",
     "text": [
      "stat=0.855, p=0.002\n",
      "Probably Dependent\n"
     ]
    }
   ],
   "source": [
    "# Contoh uji korelasi Spearman's Rank\n",
    "from scipy.stats import spearmanr\n",
    "data1 = [0.873, 2.817, 0.121, -0.945, -0.055, -1.436, 0.360, -1.478, -1.637, -1.869]\n",
    "data2 = [0.353, 3.517, 0.125, -7.545, -0.555, -1.536, 3.350, -1.578, -3.537, -1.579]\n",
    "stat, p = spearmanr(data1, data2)\n",
    "print('stat=%.3f, p=%.3f' % (stat, p))\n",
    "if p > 0.05:\n",
    "    print('Probably Independent')\n",
    "else:\n",
    "    print('Probably Dependent')"
   ]
  },
  {
   "cell_type": "markdown",
   "id": "47b6ec9a",
   "metadata": {},
   "source": [
    "## Kendall's Rank Correlation"
   ]
  },
  {
   "cell_type": "markdown",
   "id": "0236a2fa",
   "metadata": {},
   "source": [
    "Asumsi:\n",
    "- Pengamatan pada setiap sampel bersifat independen dan terdistribusi identik (iid). \n",
    "- Pengamatan di setiap sampel dapat diurutkan.\n",
    "\n",
    "Penafsiran :\n",
    "- H0 : kedua sampel saling bebas. \n",
    "- H1: ada ketergantungan antar sampel."
   ]
  },
  {
   "cell_type": "code",
   "execution_count": 89,
   "id": "98045e69",
   "metadata": {},
   "outputs": [
    {
     "name": "stdout",
     "output_type": "stream",
     "text": [
      "stat=0.733, p=0.002\n",
      "Probably Dependent\n"
     ]
    }
   ],
   "source": [
    "# Contoh uji korelasi Kendall's Rank\n",
    "from scipy.stats import kendalltau\n",
    "data1 = [0.873, 2.817, 0.121, -0.945, -0.055, -1.436, 0.360, -1.478, -1.637, -1.869]\n",
    "data2 = [0.353, 3.517, 0.125, -7.545, -0.555, -1.536, 3.350, -1.578, -3.537, -1.579]\n",
    "stat, p = kendalltau(data1, data2)\n",
    "print('stat=%.3f, p=%.3f' % (stat, p))\n",
    "if p > 0.05:\n",
    "    print('Probably Independent')\n",
    "else:\n",
    "    print('Probably Dependent')"
   ]
  },
  {
   "cell_type": "markdown",
   "id": "ca2dbba6",
   "metadata": {},
   "source": [
    "# Chi-Squared Test"
   ]
  },
  {
   "cell_type": "markdown",
   "id": "f1af6ce5",
   "metadata": {},
   "source": [
    "Menguji apakah dua variabel kategoris terkait atau independen."
   ]
  },
  {
   "cell_type": "markdown",
   "id": "9ecef972",
   "metadata": {},
   "source": [
    "Asumsi :\n",
    "- Pengamatan yang digunakan dalam perhitungan tabel kontingensi bersifat independen. \n",
    "- 25 atau lebih contoh di setiap sel tabel kontingensi.\n",
    "\n",
    "Penafsiran :\n",
    "- H0 : kedua sampel saling bebas. \n",
    "- H1: ada ketergantungan antar sampel."
   ]
  },
  {
   "cell_type": "code",
   "execution_count": 91,
   "id": "4f7f7595",
   "metadata": {},
   "outputs": [
    {
     "name": "stdout",
     "output_type": "stream",
     "text": [
      "stat=0.272, p=0.873\n",
      "Probably Independent\n"
     ]
    }
   ],
   "source": [
    "# Contoh uji Chi-Squared\n",
    "from scipy.stats import chi2_contingency\n",
    "table = [[10, 20, 30],[6, 9, 17]]\n",
    "stat, p, dof, expected = chi2_contingency(table)\n",
    "print('stat=%.3f, p=%.3f' % (stat, p))\n",
    "if p > 0.05:\n",
    "    print('Probably Independent')\n",
    "else:\n",
    "    print('Probably Dependent')"
   ]
  },
  {
   "cell_type": "markdown",
   "id": "0d501461",
   "metadata": {},
   "source": [
    "# Stationary Test"
   ]
  },
  {
   "cell_type": "markdown",
   "id": "033f94e3",
   "metadata": {},
   "source": [
    "Bagian ini mencantumkan tes statistik yang dapat Anda gunakan untuk memeriksa apakah deret waktu stasioner atau tidak."
   ]
  },
  {
   "cell_type": "markdown",
   "id": "109d8417",
   "metadata": {},
   "source": [
    "## Augmented Dickey-Fuller Unit Root Test"
   ]
  },
  {
   "cell_type": "markdown",
   "id": "83557f66",
   "metadata": {},
   "source": [
    "Menguji apakah deret waktu memiliki akar unit, misalkan memiliki trend atau lebih umum bersifat autoregressive."
   ]
  },
  {
   "cell_type": "markdown",
   "id": "6ded26a8",
   "metadata": {},
   "source": [
    "Asumsi :\n",
    "- Pengamatan di dipesan sementara.\n",
    "\n",
    "Penafsiran :\n",
    "- H0: ada akar unit (seri tidak stasioner). \n",
    "- H1: akar unit tidak ada (seri stasioner)."
   ]
  },
  {
   "cell_type": "code",
   "execution_count": 92,
   "id": "22beb8d3",
   "metadata": {},
   "outputs": [
    {
     "name": "stdout",
     "output_type": "stream",
     "text": [
      "stat=2.092, p=0.999\n",
      "Probably not Stationary\n"
     ]
    }
   ],
   "source": [
    "# Contoh tes root unit Augmented Dickey-Fuller\n",
    "from statsmodels.tsa.stattools import adfuller\n",
    "data = [0, 1, 2, 3, 4, 5, 6, 7, 8, 9] \n",
    "stat, p, lags, obs, crit, t = adfuller(data)\n",
    "print('stat=%.3f, p=%.3f' % (stat, p))\n",
    "if p > 0.05:\n",
    "    print('Probably not Stationary')\n",
    "else:\n",
    "    print('Probably Stationary')"
   ]
  },
  {
   "cell_type": "markdown",
   "id": "a9da4b1f",
   "metadata": {},
   "source": [
    "## Kwiatkowski-Phillips-Schmidt-Shin"
   ]
  },
  {
   "cell_type": "markdown",
   "id": "d10ffd4b",
   "metadata": {},
   "source": [
    "Menguji apakah deret waktu tren stasioner atau tidak."
   ]
  },
  {
   "cell_type": "markdown",
   "id": "a3b76931",
   "metadata": {},
   "source": [
    "Asumsi :\n",
    "- Pengamatan di dipesan sementara.\n",
    "\n",
    "Penafsiran :\n",
    "- H0: ada akar unit (seri tidak stasioner). \n",
    "- H1: akar unit tidak ada (seri stasioner)."
   ]
  },
  {
   "cell_type": "code",
   "execution_count": 93,
   "id": "90a27180",
   "metadata": {},
   "outputs": [
    {
     "name": "stdout",
     "output_type": "stream",
     "text": [
      "stat=0.410, p=0.073\n",
      "Probably not Stationary\n"
     ]
    },
    {
     "name": "stderr",
     "output_type": "stream",
     "text": [
      "C:\\Users\\ACER\\anaconda3\\lib\\site-packages\\statsmodels\\tsa\\stattools.py:1875: FutureWarning: The behavior of using nlags=None will change in release 0.13.Currently nlags=None is the same as nlags=\"legacy\", and so a sample-size lag length is used. After the next release, the default will change to be the same as nlags=\"auto\" which uses an automatic lag length selection method. To silence this warning, either use \"auto\" or \"legacy\"\n",
      "  warnings.warn(msg, FutureWarning)\n"
     ]
    }
   ],
   "source": [
    "# Contoh tes Kwiatkowski-Phillips-Schmidt-Shin\n",
    "from statsmodels.tsa.stattools import kpss\n",
    "data = [0, 1, 2, 3, 4, 5, 6, 7, 8, 9] \n",
    "stat, p, lags, crit = kpss(data)\n",
    "print('stat=%.3f, p=%.3f' % (stat, p))\n",
    "if p > 0.05:\n",
    "    print('Probably not Stationary')\n",
    "else:\n",
    "    print('Probably Stationary')"
   ]
  },
  {
   "cell_type": "markdown",
   "id": "a5c67a39",
   "metadata": {},
   "source": [
    "# Parametric Statistical Hypothesis Test"
   ]
  },
  {
   "cell_type": "markdown",
   "id": "68fda358",
   "metadata": {},
   "source": [
    "Bagian ini mencantumkan uji statistik yang dapat Anda gunakan untuk membandingkan sampel data."
   ]
  },
  {
   "cell_type": "markdown",
   "id": "1622bae5",
   "metadata": {},
   "source": [
    "## Student's Test"
   ]
  },
  {
   "cell_type": "markdown",
   "id": "d91f52d0",
   "metadata": {},
   "source": [
    "Menguji apakah mean dari dua sampel independen berbeda secara signifikan."
   ]
  },
  {
   "cell_type": "markdown",
   "id": "d40a6084",
   "metadata": {},
   "source": [
    "Asumsi:\n",
    "- Pengamatan pada setiap sampel bersifat independen dan terdistribusi identik (iid). \n",
    "- Pengamatan pada setiap sampel berdistribusi normal. \n",
    "- Pengamatan pada setiap sampel memiliki varians yang sama.\n",
    "\n",
    "Penafsiran :\n",
    "- H0: rata-rata sampel sama. \n",
    "- H1: rata-rata sampel tidak sama."
   ]
  },
  {
   "cell_type": "code",
   "execution_count": 94,
   "id": "ed67e0d3",
   "metadata": {},
   "outputs": [
    {
     "name": "stdout",
     "output_type": "stream",
     "text": [
      "stat=-0.326, p=0.748\n",
      "Probably the same distribution\n"
     ]
    }
   ],
   "source": [
    "# Contoh tes Student's t\n",
    "from scipy.stats import ttest_ind\n",
    "data1 = [0.873, 2.817, 0.121, -0.945, -0.055, -1.436, 0.360, -1.478, -1.637, -1.869] \n",
    "data2 = [1.142, -0.432, -0.938, -0.729, -0.846, -0.157, 0.500, 1.183, -1.075, -0.169]\n",
    "stat, p = ttest_ind(data1, data2)\n",
    "print('stat=%.3f, p=%.3f' % (stat, p))\n",
    "if p > 0.05:\n",
    "    print('Probably the same distribution')\n",
    "else:\n",
    "    print('Probably different distribution')"
   ]
  },
  {
   "cell_type": "markdown",
   "id": "372c4add",
   "metadata": {},
   "source": [
    "## Paired Student's t-test"
   ]
  },
  {
   "cell_type": "markdown",
   "id": "268fcba3",
   "metadata": {},
   "source": [
    "Menguji apakah mean dari dua sampel independen berbeda secara signifikan."
   ]
  },
  {
   "cell_type": "markdown",
   "id": "96af120b",
   "metadata": {},
   "source": [
    "Asumsi :\n",
    "- Pengamatan pada setiap sampel bersifat independen dan terdistribusi identik (iid). \n",
    "- Pengamatan pada setiap sampel berdistribusi normal. \n",
    "- Pengamatan pada setiap sampel memiliki varians yang sama. \n",
    "- Pengamatan di setiap sampel dipasangkan.\n",
    "\n",
    "Penafsiran :\n",
    "- H0: rata-rata sampel sama. \n",
    "- H1: rata-rata sampel tidak sama."
   ]
  },
  {
   "cell_type": "code",
   "execution_count": 95,
   "id": "9772048d",
   "metadata": {},
   "outputs": [
    {
     "name": "stdout",
     "output_type": "stream",
     "text": [
      "stat=-0.334, p=0.746\n",
      "Probably the same distribution\n"
     ]
    }
   ],
   "source": [
    "# Contoh tes Paired Student's t\n",
    "from scipy.stats import ttest_rel\n",
    "data1 = [0.873, 2.817, 0.121, -0.945, -0.055, -1.436, 0.360, -1.478, -1.637, -1.869] \n",
    "data2 = [1.142, -0.432, -0.938, -0.729, -0.846, -0.157, 0.500, 1.183, -1.075, -0.169]\n",
    "stat, p = ttest_rel(data1, data2)\n",
    "print('stat=%.3f, p=%.3f' % (stat, p))\n",
    "if p > 0.05:\n",
    "    print('Probably the same distribution')\n",
    "else:\n",
    "    print('Probably different distribution')"
   ]
  },
  {
   "cell_type": "markdown",
   "id": "c6c015aa",
   "metadata": {},
   "source": [
    "## Analysis of Variance Test (ANOVA)"
   ]
  },
  {
   "cell_type": "markdown",
   "id": "825f6863",
   "metadata": {},
   "source": [
    "Menguji apakah mean dari dua sampel independen berbeda secara signifikan."
   ]
  },
  {
   "cell_type": "markdown",
   "id": "f5fdc0fe",
   "metadata": {},
   "source": [
    "Asumsi :\n",
    "- Pengamatan pada setiap sampel bersifat independen dan terdistribusi identik (iid). \n",
    "- Pengamatan pada setiap sampel berdistribusi normal. \n",
    "- Pengamatan pada setiap sampel memiliki varians yang sama.\n",
    "\n",
    "Penafsiran :\n",
    "- H0: rata-rata sampel sama. \n",
    "- H1: satu atau lebih rata-rata sampel tidak sama."
   ]
  },
  {
   "cell_type": "code",
   "execution_count": 96,
   "id": "94bb7ed4",
   "metadata": {},
   "outputs": [
    {
     "name": "stdout",
     "output_type": "stream",
     "text": [
      "stat=0.096, p=0.908\n",
      "Probably the same distribution\n"
     ]
    }
   ],
   "source": [
    "# Contoh tes Analysis of Variance\n",
    "from scipy.stats import f_oneway\n",
    "data1 = [0.873, 2.817, 0.121, -0.945, -0.055, -1.436, 0.360, -1.478, -1.637, -1.869] \n",
    "data2 = [1.142, -0.432, -0.938, -0.729, -0.846, -0.157, 0.500, 1.183, -1.075, -0.169]\n",
    "data3 = [-0.208, 0.696, 0.928, -1.148, -0.213, 0.229, 0.137, 0.269, -0.870, -1.204]\n",
    "stat, p = f_oneway(data1, data2, data3)\n",
    "print('stat=%.3f, p=%.3f' % (stat, p))\n",
    "if p > 0.05:\n",
    "    print('Probably the same distribution')\n",
    "else:\n",
    "    print('Probably different distribution')"
   ]
  },
  {
   "cell_type": "markdown",
   "id": "db36a534",
   "metadata": {},
   "source": [
    "# Nonparametric Statistical Hypothesis Test"
   ]
  },
  {
   "cell_type": "markdown",
   "id": "f4e4d563",
   "metadata": {},
   "source": [
    "## Mann-Whitney U Test"
   ]
  },
  {
   "cell_type": "markdown",
   "id": "ee9bec02",
   "metadata": {},
   "source": [
    "Menguji apakah distribusi dua sampel independen sama atau tidak."
   ]
  },
  {
   "cell_type": "markdown",
   "id": "afe2bc1e",
   "metadata": {},
   "source": [
    "Asumsi :\n",
    "- Pengamatan pada setiap sampel bersifat independen dan terdistribusi identik (iid). \n",
    "- Pengamatan di setiap sampel dapat diurutkan.\n",
    "\n",
    "Penafsiran :\n",
    "- H0 : distribusi kedua sampel sama. \n",
    "- H1: distribusi kedua sampel tidak sama."
   ]
  },
  {
   "cell_type": "code",
   "execution_count": 97,
   "id": "900d5a1b",
   "metadata": {},
   "outputs": [
    {
     "name": "stdout",
     "output_type": "stream",
     "text": [
      "stat=40.000, p=0.473\n",
      "Probably the same distribution\n"
     ]
    }
   ],
   "source": [
    "# Contoh tes Mann-Whitney U\n",
    "from scipy.stats import mannwhitneyu\n",
    "data1 = [0.873, 2.817, 0.121, -0.945, -0.055, -1.436, 0.360, -1.478, -1.637, -1.869] \n",
    "data2 = [1.142, -0.432, -0.938, -0.729, -0.846, -0.157, 0.500, 1.183, -1.075, -0.169]\n",
    "stat, p = mannwhitneyu(data1, data2)\n",
    "print('stat=%.3f, p=%.3f' % (stat, p))\n",
    "if p > 0.05:\n",
    "    print('Probably the same distribution')\n",
    "else:\n",
    "    print('Probably different distribution')"
   ]
  },
  {
   "cell_type": "markdown",
   "id": "5597be48",
   "metadata": {},
   "source": [
    "## Wilcoxon Signed-Rank Test"
   ]
  },
  {
   "cell_type": "markdown",
   "id": "28f8c7b1",
   "metadata": {},
   "source": [
    "Menguji apakah distribusi dua sampel berpasangan sama atau tidak."
   ]
  },
  {
   "cell_type": "markdown",
   "id": "46c09e03",
   "metadata": {},
   "source": [
    "Asumsi : \n",
    "- Pengamatan pada setiap sampel bersifat independen dan terdistribusi identik (iid). \n",
    "- Pengamatan di setiap sampel dapat diurutkan. \n",
    "- Pengamatan di setiap sampel dipasangkan.\n",
    "\n",
    "Penafsiran :\n",
    "- H0 : distribusi kedua sampel sama. \n",
    "- H1: distribusi kedua sampel tidak sama."
   ]
  },
  {
   "cell_type": "code",
   "execution_count": 98,
   "id": "27876d15",
   "metadata": {},
   "outputs": [
    {
     "name": "stdout",
     "output_type": "stream",
     "text": [
      "stat=21.000, p=0.557\n",
      "Probably the same distribution\n"
     ]
    }
   ],
   "source": [
    "# Contoh tes Wilcoxon Signed-Rank\n",
    "from scipy.stats import wilcoxon\n",
    "data1 = [0.873, 2.817, 0.121, -0.945, -0.055, -1.436, 0.360, -1.478, -1.637, -1.869] \n",
    "data2 = [1.142, -0.432, -0.938, -0.729, -0.846, -0.157, 0.500, 1.183, -1.075, -0.169]\n",
    "stat, p = wilcoxon(data1, data2)\n",
    "print('stat=%.3f, p=%.3f' % (stat, p))\n",
    "if p > 0.05:\n",
    "    print('Probably the same distribution')\n",
    "else:\n",
    "    print('Probably different distribution')"
   ]
  },
  {
   "cell_type": "markdown",
   "id": "f99825c9",
   "metadata": {},
   "source": [
    "## Kruskal-Wallis H Test"
   ]
  },
  {
   "cell_type": "markdown",
   "id": "4040b63e",
   "metadata": {},
   "source": [
    "Menguji apakah distribusi dua atau lebih sampel independen sama atau tidak."
   ]
  },
  {
   "cell_type": "markdown",
   "id": "ba86ead0",
   "metadata": {},
   "source": [
    "Asumsi :\n",
    "- Pengamatan pada setiap sampel bersifat independen dan terdistribusi identik (iid). \n",
    "- Pengamatan di setiap sampel dapat diurutkan.\n",
    "\n",
    "Penafsiran :\n",
    "- H0: distribusi semua sampel adalah sama. \n",
    "- H1: distribusi satu atau lebih sampel tidak sama."
   ]
  },
  {
   "cell_type": "code",
   "execution_count": 99,
   "id": "c7b0ed8a",
   "metadata": {},
   "outputs": [
    {
     "name": "stdout",
     "output_type": "stream",
     "text": [
      "stat=0.571, p=0.450\n",
      "Probably the same distribution\n"
     ]
    }
   ],
   "source": [
    "# Contoh tes Kruskal-Wallis H\n",
    "from scipy.stats import kruskal\n",
    "data1 = [0.873, 2.817, 0.121, -0.945, -0.055, -1.436, 0.360, -1.478, -1.637, -1.869] \n",
    "data2 = [1.142, -0.432, -0.938, -0.729, -0.846, -0.157, 0.500, 1.183, -1.075, -0.169]\n",
    "stat, p = kruskal(data1, data2)\n",
    "print('stat=%.3f, p=%.3f' % (stat, p))\n",
    "if p > 0.05:\n",
    "    print('Probably the same distribution')\n",
    "else:\n",
    "    print('Probably different distribution')"
   ]
  },
  {
   "cell_type": "markdown",
   "id": "cdeac267",
   "metadata": {},
   "source": [
    "## Friedman Test"
   ]
  },
  {
   "cell_type": "markdown",
   "id": "17b26ab5",
   "metadata": {},
   "source": [
    "Menguji apakah distribusi dua atau lebih sampel berpasangan sama atau tidak."
   ]
  },
  {
   "cell_type": "markdown",
   "id": "4de8eae8",
   "metadata": {},
   "source": [
    "Asumsi :\n",
    "- Pengamatan pada setiap sampel bersifat independen dan terdistribusi identik (iid). \n",
    "- Pengamatan di setiap sampel dapat diurutkan. \n",
    "- Pengamatan di setiap sampel dipasangkan.\n",
    "\n",
    "Penafsiran :\n",
    "- H0: distribusi semua sampel adalah sama. \n",
    "- H1: distribusi satu atau lebih sampel tidak sama."
   ]
  },
  {
   "cell_type": "code",
   "execution_count": 100,
   "id": "c415ba59",
   "metadata": {},
   "outputs": [
    {
     "name": "stdout",
     "output_type": "stream",
     "text": [
      "stat=0.800, p=0.670\n",
      "Probably the same distribution\n"
     ]
    }
   ],
   "source": [
    "# Contoh tes Friedmann\n",
    "from scipy.stats import friedmanchisquare\n",
    "data1 = [0.873, 2.817, 0.121, -0.945, -0.055, -1.436, 0.360, -1.478, -1.637, -1.869] \n",
    "data2 = [1.142, -0.432, -0.938, -0.729, -0.846, -0.157, 0.500, 1.183, -1.075, -0.169]\n",
    "data3 = [-0.208, 0.696, 0.928, -1.148, -0.213, 0.229, 0.137, 0.269, -0.870, -1.204]\n",
    "stat, p = friedmanchisquare(data1, data2, data3)\n",
    "print('stat=%.3f, p=%.3f' % (stat, p))\n",
    "if p > 0.05:\n",
    "    print('Probably the same distribution')\n",
    "else:\n",
    "    print('Probably different distribution')"
   ]
  },
  {
   "cell_type": "code",
   "execution_count": null,
   "id": "1cff012b",
   "metadata": {},
   "outputs": [],
   "source": []
  }
 ],
 "metadata": {
  "kernelspec": {
   "display_name": "Python 3 (ipykernel)",
   "language": "python",
   "name": "python3"
  },
  "language_info": {
   "codemirror_mode": {
    "name": "ipython",
    "version": 3
   },
   "file_extension": ".py",
   "mimetype": "text/x-python",
   "name": "python",
   "nbconvert_exporter": "python",
   "pygments_lexer": "ipython3",
   "version": "3.8.8"
  },
  "toc": {
   "base_numbering": 1,
   "nav_menu": {},
   "number_sections": true,
   "sideBar": true,
   "skip_h1_title": false,
   "title_cell": "Table of Contents",
   "title_sidebar": "Contents",
   "toc_cell": false,
   "toc_position": {},
   "toc_section_display": true,
   "toc_window_display": false
  },
  "varInspector": {
   "cols": {
    "lenName": 16,
    "lenType": 16,
    "lenVar": 40
   },
   "kernels_config": {
    "python": {
     "delete_cmd_postfix": "",
     "delete_cmd_prefix": "del ",
     "library": "var_list.py",
     "varRefreshCmd": "print(var_dic_list())"
    },
    "r": {
     "delete_cmd_postfix": ") ",
     "delete_cmd_prefix": "rm(",
     "library": "var_list.r",
     "varRefreshCmd": "cat(var_dic_list()) "
    }
   },
   "types_to_exclude": [
    "module",
    "function",
    "builtin_function_or_method",
    "instance",
    "_Feature"
   ],
   "window_display": false
  }
 },
 "nbformat": 4,
 "nbformat_minor": 5
}
